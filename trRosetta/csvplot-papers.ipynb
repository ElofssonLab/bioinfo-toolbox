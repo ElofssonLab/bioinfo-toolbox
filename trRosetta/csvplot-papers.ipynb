{
 "cells": [
  {
   "cell_type": "code",
   "execution_count": 1,
   "metadata": {
    "collapsed": false
   },
   "outputs": [],
   "source": [
    "import seaborn as sns\n",
    "import numpy as np\n",
    "import matplotlib.pyplot as plt\n",
    "import re\n",
    "import pandas as pd"
   ]
  },
  {
   "cell_type": "code",
   "execution_count": 2,
   "metadata": {
    "collapsed": false,
    "scrolled": true
   },
   "outputs": [],
   "source": [
    "import sklearn\n",
    "from sklearn.linear_model import LinearRegression\n",
    "#rom sklearn.ensemble import RandomForestClassifier\n",
    "#from sklearn.linear_model import LassoLars\n",
    "\n",
    "from sklearn.linear_model import TweedieRegressor\n",
    "\n",
    "from sklearn.linear_model import (\n",
    "    LinearRegression, TheilSenRegressor, RANSACRegressor, HuberRegressor)\n",
    "from sklearn.metrics import mean_squared_error\n",
    "from sklearn.preprocessing import PolynomialFeatures\n",
    "from sklearn.pipeline import make_pipeline"
   ]
  },
  {
   "cell_type": "code",
   "execution_count": 3,
   "metadata": {
    "collapsed": false
   },
   "outputs": [],
   "source": [
    "def get_ranks(good_df,ypred):\n",
    "    cutoff=0.2\n",
    "    #print (codedata,ypred,ydata)\n",
    "    #print (len(ypred),len(good_df.mm.to_list()))\n",
    "    d = {'code':good_df.code.to_list(),'pred':ypred,\n",
    "         \"dockQ\":good_df.dockQ.to_list(),\"params\":good_df.params.to_list(),\n",
    "        \"mm\":good_df.mm.to_list()}\n",
    "    res_df=pd.DataFrame(d).sort_values(\"pred\")\n",
    "    #res_df.sort_values(\"CODE\")\n",
    "\n",
    "    i=0\n",
    "    sumdiff=0\n",
    "    mmdiff=0\n",
    "    correct=0\n",
    "    for code in res_df.code.unique():\n",
    "        topranked=res_df.loc[res_df.code==code].sort_values(\"pred\")[\"dockQ\"][-1:].max()\n",
    "        best=res_df.loc[res_df.code==code][\"dockQ\"].max()\n",
    "        mmtop=res_df.loc[res_df.code==code].sort_values(\"pred\")[\"mm\"][-1:].max()\n",
    "        mmbest=res_df.loc[res_df.code==code][\"mm\"].max()\n",
    "        #print (code,topranked,best)\n",
    "        if best>cutoff:\n",
    "            i+=1\n",
    "            sumdiff+=best-topranked\n",
    "            mmdiff+=mmbest-mmtop\n",
    "            if topranked>cutoff:\n",
    "                correct+=1\n",
    "    #print (i,correct,round(sumdiff/i,3))            \n",
    "    return (i,correct,sumdiff,mmdiff)"
   ]
  },
  {
   "cell_type": "code",
   "execution_count": 4,
   "metadata": {
    "collapsed": false
   },
   "outputs": [],
   "source": [
    "reg = LinearRegression()\n",
    "#reg=RandomForestClassifier(n_estimators=10)\n",
    "#reg=LassoLars(alpha=.1)\n",
    "#reg = TweedieRegressor(power=1, alpha=0.5, link='log')\n",
    "#reg=TheilSenRegressor(random_state=42)\n",
    "#reg=RANSACRegressor(random_state=42)\n",
    "#reg=HuberRegressor()"
   ]
  },
  {
   "cell_type": "code",
   "execution_count": 5,
   "metadata": {
    "collapsed": false
   },
   "outputs": [],
   "source": [
    "df=pd.read_csv(\"~/Downloads/summary.csv\",sep=\",\")\n",
    "df=df.dropna()\n",
    "#df.JHparams.unique()"
   ]
  },
  {
   "cell_type": "code",
   "execution_count": 6,
   "metadata": {
    "collapsed": false
   },
   "outputs": [],
   "source": [
    "sns.set(style=\"whitegrid\")"
   ]
  },
  {
   "cell_type": "code",
   "execution_count": 7,
   "metadata": {
    "collapsed": false
   },
   "outputs": [
    {
     "data": {
      "text/plain": [
       "Index(['name', 'JHparams', 'lenA', 'lenB', 'msa', 'msaA', 'msaB', 'cdhit',\n",
       "       'dockQ', 'fnat', 'iRMS', 'LRMS', 'fnonnat', 'mm', 'tmA', 'tmB', 'long',\n",
       "       'med', 'longPPV', 'medPPV', 'longA', 'medA', 'longPPVA', 'medPPVA',\n",
       "       'longB', 'medB', 'longPPVB', 'medPPVB', 'short', 'shortPPV', 'shortA',\n",
       "       'shortPPVA', 'shortB', 'shortPPVB', 'shortpdb', 'medpdb', 'longpdb',\n",
       "       'avprob', 'auc', 'evalue', 'seqid', 'hhprob', 'hhevalue', 'hhscore',\n",
       "       'rank'],\n",
       "      dtype='object')"
      ]
     },
     "execution_count": 7,
     "metadata": {},
     "output_type": "execute_result"
    }
   ],
   "source": [
    "df[\"name\"]\n",
    "df.keys()"
   ]
  },
  {
   "cell_type": "code",
   "execution_count": 8,
   "metadata": {
    "collapsed": false
   },
   "outputs": [],
   "source": [
    "\n",
    "df[\"code\"]=df[\"name\"].str[:4]\n",
    "df[\"CODE\"]=df[\"code\"]\n",
    "df[\"params\"]=df[\"JHparams\"]"
   ]
  },
  {
   "cell_type": "code",
   "execution_count": 9,
   "metadata": {
    "collapsed": false
   },
   "outputs": [],
   "source": [
    "r=re.compile(\"^PDB|^pdb|^TMd|gramm\")\n",
    "datasets=df.JHparams.unique()\n",
    "notRosettaset=list(filter(r.match, datasets))\n",
    "df2=df.loc[~df.JHparams.isin(notRosettaset)].copy()\n",
    "df2.JHparams=\"trRosetta\"\n",
    "df2.params=\"trRosetta\"\n"
   ]
  },
  {
   "cell_type": "code",
   "execution_count": 10,
   "metadata": {
    "collapsed": false
   },
   "outputs": [
    {
     "data": {
      "text/html": [
       "<div>\n",
       "<style scoped>\n",
       "    .dataframe tbody tr th:only-of-type {\n",
       "        vertical-align: middle;\n",
       "    }\n",
       "\n",
       "    .dataframe tbody tr th {\n",
       "        vertical-align: top;\n",
       "    }\n",
       "\n",
       "    .dataframe thead th {\n",
       "        text-align: right;\n",
       "    }\n",
       "</style>\n",
       "<table border=\"1\" class=\"dataframe\">\n",
       "  <thead>\n",
       "    <tr style=\"text-align: right;\">\n",
       "      <th></th>\n",
       "      <th>name</th>\n",
       "      <th>JHparams</th>\n",
       "      <th>lenA</th>\n",
       "      <th>lenB</th>\n",
       "      <th>msa</th>\n",
       "      <th>msaA</th>\n",
       "      <th>msaB</th>\n",
       "      <th>cdhit</th>\n",
       "      <th>dockQ</th>\n",
       "      <th>fnat</th>\n",
       "      <th>...</th>\n",
       "      <th>auc</th>\n",
       "      <th>evalue</th>\n",
       "      <th>seqid</th>\n",
       "      <th>hhprob</th>\n",
       "      <th>hhevalue</th>\n",
       "      <th>hhscore</th>\n",
       "      <th>rank</th>\n",
       "      <th>code</th>\n",
       "      <th>CODE</th>\n",
       "      <th>params</th>\n",
       "    </tr>\n",
       "  </thead>\n",
       "  <tbody>\n",
       "    <tr>\n",
       "      <th>0</th>\n",
       "      <td>1ay7_u1_A-1ay7_u2_A</td>\n",
       "      <td>-N 3 --cpu 8</td>\n",
       "      <td>97</td>\n",
       "      <td>90</td>\n",
       "      <td>1060.0</td>\n",
       "      <td>1485.0</td>\n",
       "      <td>2034.0</td>\n",
       "      <td>1026</td>\n",
       "      <td>0.281</td>\n",
       "      <td>0.167</td>\n",
       "      <td>...</td>\n",
       "      <td>0.40</td>\n",
       "      <td>9999.00</td>\n",
       "      <td>0.000</td>\n",
       "      <td>0.4</td>\n",
       "      <td>0.400</td>\n",
       "      <td>0.4</td>\n",
       "      <td>1</td>\n",
       "      <td>1ay7</td>\n",
       "      <td>1ay7</td>\n",
       "      <td>-N 3 --cpu 8</td>\n",
       "    </tr>\n",
       "    <tr>\n",
       "      <th>1</th>\n",
       "      <td>1ay7_u2_A-1ay7_u1_A</td>\n",
       "      <td>-N 3 --cpu 8</td>\n",
       "      <td>90</td>\n",
       "      <td>97</td>\n",
       "      <td>1060.0</td>\n",
       "      <td>2034.0</td>\n",
       "      <td>1485.0</td>\n",
       "      <td>989</td>\n",
       "      <td>0.239</td>\n",
       "      <td>0.250</td>\n",
       "      <td>...</td>\n",
       "      <td>0.36</td>\n",
       "      <td>9999.00</td>\n",
       "      <td>0.000</td>\n",
       "      <td>0.0</td>\n",
       "      <td>9999.000</td>\n",
       "      <td>0.0</td>\n",
       "      <td>2</td>\n",
       "      <td>1ay7</td>\n",
       "      <td>1ay7</td>\n",
       "      <td>-N 3 --cpu 8</td>\n",
       "    </tr>\n",
       "    <tr>\n",
       "      <th>2</th>\n",
       "      <td>1b27_u1_A-1b27_u2_A</td>\n",
       "      <td>-N 3 --cpu 8</td>\n",
       "      <td>109</td>\n",
       "      <td>90</td>\n",
       "      <td>733.0</td>\n",
       "      <td>1484.0</td>\n",
       "      <td>2034.0</td>\n",
       "      <td>654</td>\n",
       "      <td>0.223</td>\n",
       "      <td>0.120</td>\n",
       "      <td>...</td>\n",
       "      <td>0.46</td>\n",
       "      <td>4.30</td>\n",
       "      <td>50.000</td>\n",
       "      <td>1.8</td>\n",
       "      <td>0.027</td>\n",
       "      <td>13.5</td>\n",
       "      <td>1</td>\n",
       "      <td>1b27</td>\n",
       "      <td>1b27</td>\n",
       "      <td>-N 3 --cpu 8</td>\n",
       "    </tr>\n",
       "    <tr>\n",
       "      <th>3</th>\n",
       "      <td>1b27_u2_A-1b27_u1_A</td>\n",
       "      <td>-N 3 --cpu 8</td>\n",
       "      <td>90</td>\n",
       "      <td>109</td>\n",
       "      <td>733.0</td>\n",
       "      <td>2034.0</td>\n",
       "      <td>1484.0</td>\n",
       "      <td>656</td>\n",
       "      <td>0.229</td>\n",
       "      <td>0.160</td>\n",
       "      <td>...</td>\n",
       "      <td>0.46</td>\n",
       "      <td>4.30</td>\n",
       "      <td>50.000</td>\n",
       "      <td>2.5</td>\n",
       "      <td>0.019</td>\n",
       "      <td>13.7</td>\n",
       "      <td>2</td>\n",
       "      <td>1b27</td>\n",
       "      <td>1b27</td>\n",
       "      <td>-N 3 --cpu 8</td>\n",
       "    </tr>\n",
       "    <tr>\n",
       "      <th>4</th>\n",
       "      <td>1bdj_u1_A-1bdj_u2_A</td>\n",
       "      <td>-N 3 --cpu 8</td>\n",
       "      <td>129</td>\n",
       "      <td>118</td>\n",
       "      <td>5651.0</td>\n",
       "      <td>349880.0</td>\n",
       "      <td>23051.0</td>\n",
       "      <td>5071</td>\n",
       "      <td>0.000</td>\n",
       "      <td>0.000</td>\n",
       "      <td>...</td>\n",
       "      <td>0.00</td>\n",
       "      <td>9999.00</td>\n",
       "      <td>0.000</td>\n",
       "      <td>0.0</td>\n",
       "      <td>9999.000</td>\n",
       "      <td>0.0</td>\n",
       "      <td>1</td>\n",
       "      <td>1bdj</td>\n",
       "      <td>1bdj</td>\n",
       "      <td>-N 3 --cpu 8</td>\n",
       "    </tr>\n",
       "    <tr>\n",
       "      <th>...</th>\n",
       "      <td>...</td>\n",
       "      <td>...</td>\n",
       "      <td>...</td>\n",
       "      <td>...</td>\n",
       "      <td>...</td>\n",
       "      <td>...</td>\n",
       "      <td>...</td>\n",
       "      <td>...</td>\n",
       "      <td>...</td>\n",
       "      <td>...</td>\n",
       "      <td>...</td>\n",
       "      <td>...</td>\n",
       "      <td>...</td>\n",
       "      <td>...</td>\n",
       "      <td>...</td>\n",
       "      <td>...</td>\n",
       "      <td>...</td>\n",
       "      <td>...</td>\n",
       "      <td>...</td>\n",
       "      <td>...</td>\n",
       "      <td>...</td>\n",
       "    </tr>\n",
       "    <tr>\n",
       "      <th>24456</th>\n",
       "      <td>4y5o_u1_A-4y5o_u2_A</td>\n",
       "      <td>trRosetta</td>\n",
       "      <td>94</td>\n",
       "      <td>85</td>\n",
       "      <td>34.0</td>\n",
       "      <td>3100.0</td>\n",
       "      <td>1781.0</td>\n",
       "      <td>11</td>\n",
       "      <td>0.055</td>\n",
       "      <td>0.000</td>\n",
       "      <td>...</td>\n",
       "      <td>0.00</td>\n",
       "      <td>9999.00</td>\n",
       "      <td>0.000</td>\n",
       "      <td>7.2</td>\n",
       "      <td>7.200</td>\n",
       "      <td>7.2</td>\n",
       "      <td>1</td>\n",
       "      <td>4y5o</td>\n",
       "      <td>4y5o</td>\n",
       "      <td>trRosetta</td>\n",
       "    </tr>\n",
       "    <tr>\n",
       "      <th>24457</th>\n",
       "      <td>4zfr_u1_A-4zfr_u2_A</td>\n",
       "      <td>trRosetta</td>\n",
       "      <td>186</td>\n",
       "      <td>77</td>\n",
       "      <td>12.0</td>\n",
       "      <td>9290.0</td>\n",
       "      <td>38386.0</td>\n",
       "      <td>12</td>\n",
       "      <td>0.048</td>\n",
       "      <td>0.000</td>\n",
       "      <td>...</td>\n",
       "      <td>0.09</td>\n",
       "      <td>9999.00</td>\n",
       "      <td>0.000</td>\n",
       "      <td>0.0</td>\n",
       "      <td>9999.000</td>\n",
       "      <td>0.0</td>\n",
       "      <td>1</td>\n",
       "      <td>4zfr</td>\n",
       "      <td>4zfr</td>\n",
       "      <td>trRosetta</td>\n",
       "    </tr>\n",
       "    <tr>\n",
       "      <th>24458</th>\n",
       "      <td>5brr_u1_A-5brr_u2_A</td>\n",
       "      <td>trRosetta</td>\n",
       "      <td>378</td>\n",
       "      <td>266</td>\n",
       "      <td>107.0</td>\n",
       "      <td>13553.0</td>\n",
       "      <td>45450.0</td>\n",
       "      <td>79</td>\n",
       "      <td>0.009</td>\n",
       "      <td>0.000</td>\n",
       "      <td>...</td>\n",
       "      <td>0.00</td>\n",
       "      <td>0.48</td>\n",
       "      <td>53.846</td>\n",
       "      <td>0.5</td>\n",
       "      <td>0.500</td>\n",
       "      <td>0.5</td>\n",
       "      <td>1</td>\n",
       "      <td>5brr</td>\n",
       "      <td>5brr</td>\n",
       "      <td>trRosetta</td>\n",
       "    </tr>\n",
       "    <tr>\n",
       "      <th>24459</th>\n",
       "      <td>5cec_u1_A-5cec_u2_A</td>\n",
       "      <td>trRosetta</td>\n",
       "      <td>403</td>\n",
       "      <td>191</td>\n",
       "      <td>7.0</td>\n",
       "      <td>30621.0</td>\n",
       "      <td>309307.0</td>\n",
       "      <td>7</td>\n",
       "      <td>0.011</td>\n",
       "      <td>0.000</td>\n",
       "      <td>...</td>\n",
       "      <td>0.00</td>\n",
       "      <td>19.00</td>\n",
       "      <td>33.333</td>\n",
       "      <td>0.3</td>\n",
       "      <td>0.300</td>\n",
       "      <td>0.3</td>\n",
       "      <td>1</td>\n",
       "      <td>5cec</td>\n",
       "      <td>5cec</td>\n",
       "      <td>trRosetta</td>\n",
       "    </tr>\n",
       "    <tr>\n",
       "      <th>24460</th>\n",
       "      <td>5eg3_u1_A-5eg3_u2_A</td>\n",
       "      <td>trRosetta</td>\n",
       "      <td>303</td>\n",
       "      <td>105</td>\n",
       "      <td>7.0</td>\n",
       "      <td>565997.0</td>\n",
       "      <td>25926.0</td>\n",
       "      <td>5</td>\n",
       "      <td>0.003</td>\n",
       "      <td>0.000</td>\n",
       "      <td>...</td>\n",
       "      <td>0.00</td>\n",
       "      <td>68.00</td>\n",
       "      <td>40.000</td>\n",
       "      <td>0.7</td>\n",
       "      <td>0.700</td>\n",
       "      <td>0.7</td>\n",
       "      <td>1</td>\n",
       "      <td>5eg3</td>\n",
       "      <td>5eg3</td>\n",
       "      <td>trRosetta</td>\n",
       "    </tr>\n",
       "  </tbody>\n",
       "</table>\n",
       "<p>24461 rows × 48 columns</p>\n",
       "</div>"
      ],
      "text/plain": [
       "                      name      JHparams  lenA  lenB     msa      msaA  \\\n",
       "0      1ay7_u1_A-1ay7_u2_A  -N 3 --cpu 8    97    90  1060.0    1485.0   \n",
       "1      1ay7_u2_A-1ay7_u1_A  -N 3 --cpu 8    90    97  1060.0    2034.0   \n",
       "2      1b27_u1_A-1b27_u2_A  -N 3 --cpu 8   109    90   733.0    1484.0   \n",
       "3      1b27_u2_A-1b27_u1_A  -N 3 --cpu 8    90   109   733.0    2034.0   \n",
       "4      1bdj_u1_A-1bdj_u2_A  -N 3 --cpu 8   129   118  5651.0  349880.0   \n",
       "...                    ...           ...   ...   ...     ...       ...   \n",
       "24456  4y5o_u1_A-4y5o_u2_A     trRosetta    94    85    34.0    3100.0   \n",
       "24457  4zfr_u1_A-4zfr_u2_A     trRosetta   186    77    12.0    9290.0   \n",
       "24458  5brr_u1_A-5brr_u2_A     trRosetta   378   266   107.0   13553.0   \n",
       "24459  5cec_u1_A-5cec_u2_A     trRosetta   403   191     7.0   30621.0   \n",
       "24460  5eg3_u1_A-5eg3_u2_A     trRosetta   303   105     7.0  565997.0   \n",
       "\n",
       "           msaB  cdhit  dockQ   fnat  ...   auc   evalue   seqid  hhprob  \\\n",
       "0        2034.0   1026  0.281  0.167  ...  0.40  9999.00   0.000     0.4   \n",
       "1        1485.0    989  0.239  0.250  ...  0.36  9999.00   0.000     0.0   \n",
       "2        2034.0    654  0.223  0.120  ...  0.46     4.30  50.000     1.8   \n",
       "3        1484.0    656  0.229  0.160  ...  0.46     4.30  50.000     2.5   \n",
       "4       23051.0   5071  0.000  0.000  ...  0.00  9999.00   0.000     0.0   \n",
       "...         ...    ...    ...    ...  ...   ...      ...     ...     ...   \n",
       "24456    1781.0     11  0.055  0.000  ...  0.00  9999.00   0.000     7.2   \n",
       "24457   38386.0     12  0.048  0.000  ...  0.09  9999.00   0.000     0.0   \n",
       "24458   45450.0     79  0.009  0.000  ...  0.00     0.48  53.846     0.5   \n",
       "24459  309307.0      7  0.011  0.000  ...  0.00    19.00  33.333     0.3   \n",
       "24460   25926.0      5  0.003  0.000  ...  0.00    68.00  40.000     0.7   \n",
       "\n",
       "       hhevalue  hhscore  rank  code  CODE        params  \n",
       "0         0.400      0.4     1  1ay7  1ay7  -N 3 --cpu 8  \n",
       "1      9999.000      0.0     2  1ay7  1ay7  -N 3 --cpu 8  \n",
       "2         0.027     13.5     1  1b27  1b27  -N 3 --cpu 8  \n",
       "3         0.019     13.7     2  1b27  1b27  -N 3 --cpu 8  \n",
       "4      9999.000      0.0     1  1bdj  1bdj  -N 3 --cpu 8  \n",
       "...         ...      ...   ...   ...   ...           ...  \n",
       "24456     7.200      7.2     1  4y5o  4y5o     trRosetta  \n",
       "24457  9999.000      0.0     1  4zfr  4zfr     trRosetta  \n",
       "24458     0.500      0.5     1  5brr  5brr     trRosetta  \n",
       "24459     0.300      0.3     1  5cec  5cec     trRosetta  \n",
       "24460     0.700      0.7     1  5eg3  5eg3     trRosetta  \n",
       "\n",
       "[24461 rows x 48 columns]"
      ]
     },
     "execution_count": 10,
     "metadata": {},
     "output_type": "execute_result"
    }
   ],
   "source": [
    "df=pd.concat([df,df2], ignore_index=True,sort=False)\n",
    "df.fillna(0)\n",
    "#df.JHparams.unique()\n"
   ]
  },
  {
   "cell_type": "code",
   "execution_count": 11,
   "metadata": {
    "collapsed": false
   },
   "outputs": [],
   "source": [
    "#df.loc[df.JHparams==\"N1-N3-new\"]"
   ]
  },
  {
   "cell_type": "code",
   "execution_count": 12,
   "metadata": {
    "collapsed": false
   },
   "outputs": [
    {
     "data": {
      "text/html": [
       "<div>\n",
       "<style scoped>\n",
       "    .dataframe tbody tr th:only-of-type {\n",
       "        vertical-align: middle;\n",
       "    }\n",
       "\n",
       "    .dataframe tbody tr th {\n",
       "        vertical-align: top;\n",
       "    }\n",
       "\n",
       "    .dataframe thead th {\n",
       "        text-align: right;\n",
       "    }\n",
       "</style>\n",
       "<table border=\"1\" class=\"dataframe\">\n",
       "  <thead>\n",
       "    <tr style=\"text-align: right;\">\n",
       "      <th></th>\n",
       "      <th>name</th>\n",
       "      <th>JHparams</th>\n",
       "      <th>lenA</th>\n",
       "      <th>lenB</th>\n",
       "      <th>msa</th>\n",
       "      <th>msaA</th>\n",
       "      <th>msaB</th>\n",
       "      <th>cdhit</th>\n",
       "      <th>dockQ</th>\n",
       "      <th>fnat</th>\n",
       "      <th>...</th>\n",
       "      <th>auc</th>\n",
       "      <th>evalue</th>\n",
       "      <th>seqid</th>\n",
       "      <th>hhprob</th>\n",
       "      <th>hhevalue</th>\n",
       "      <th>hhscore</th>\n",
       "      <th>rank</th>\n",
       "      <th>code</th>\n",
       "      <th>CODE</th>\n",
       "      <th>params</th>\n",
       "    </tr>\n",
       "  </thead>\n",
       "  <tbody>\n",
       "    <tr>\n",
       "      <th>8068</th>\n",
       "      <td>1ay7_u1_A-1ay7_u2_A</td>\n",
       "      <td>PDB</td>\n",
       "      <td>97</td>\n",
       "      <td>90</td>\n",
       "      <td>0.0</td>\n",
       "      <td>0.0</td>\n",
       "      <td>0.0</td>\n",
       "      <td>0</td>\n",
       "      <td>0.884</td>\n",
       "      <td>0.722</td>\n",
       "      <td>...</td>\n",
       "      <td>0.01</td>\n",
       "      <td>9999.00</td>\n",
       "      <td>0.000</td>\n",
       "      <td>0.4</td>\n",
       "      <td>0.4</td>\n",
       "      <td>0.4</td>\n",
       "      <td>1</td>\n",
       "      <td>1ay7</td>\n",
       "      <td>1ay7</td>\n",
       "      <td>PDB</td>\n",
       "    </tr>\n",
       "    <tr>\n",
       "      <th>8069</th>\n",
       "      <td>1ay7_u2_A-1ay7_u1_A</td>\n",
       "      <td>PDB</td>\n",
       "      <td>90</td>\n",
       "      <td>97</td>\n",
       "      <td>0.0</td>\n",
       "      <td>0.0</td>\n",
       "      <td>0.0</td>\n",
       "      <td>0</td>\n",
       "      <td>0.929</td>\n",
       "      <td>0.833</td>\n",
       "      <td>...</td>\n",
       "      <td>0.09</td>\n",
       "      <td>9999.00</td>\n",
       "      <td>0.000</td>\n",
       "      <td>0.0</td>\n",
       "      <td>9999.0</td>\n",
       "      <td>0.0</td>\n",
       "      <td>2</td>\n",
       "      <td>1ay7</td>\n",
       "      <td>1ay7</td>\n",
       "      <td>PDB</td>\n",
       "    </tr>\n",
       "    <tr>\n",
       "      <th>8070</th>\n",
       "      <td>1b27_u1_A-1b27_u2_A</td>\n",
       "      <td>PDB</td>\n",
       "      <td>109</td>\n",
       "      <td>90</td>\n",
       "      <td>0.0</td>\n",
       "      <td>0.0</td>\n",
       "      <td>0.0</td>\n",
       "      <td>0</td>\n",
       "      <td>0.861</td>\n",
       "      <td>0.740</td>\n",
       "      <td>...</td>\n",
       "      <td>0.01</td>\n",
       "      <td>4.30</td>\n",
       "      <td>50.000</td>\n",
       "      <td>1.8</td>\n",
       "      <td>1.8</td>\n",
       "      <td>1.8</td>\n",
       "      <td>1</td>\n",
       "      <td>1b27</td>\n",
       "      <td>1b27</td>\n",
       "      <td>PDB</td>\n",
       "    </tr>\n",
       "    <tr>\n",
       "      <th>8071</th>\n",
       "      <td>1b27_u2_A-1b27_u1_A</td>\n",
       "      <td>PDB</td>\n",
       "      <td>90</td>\n",
       "      <td>109</td>\n",
       "      <td>0.0</td>\n",
       "      <td>0.0</td>\n",
       "      <td>0.0</td>\n",
       "      <td>0</td>\n",
       "      <td>0.887</td>\n",
       "      <td>0.780</td>\n",
       "      <td>...</td>\n",
       "      <td>0.08</td>\n",
       "      <td>4.30</td>\n",
       "      <td>50.000</td>\n",
       "      <td>2.5</td>\n",
       "      <td>2.5</td>\n",
       "      <td>2.5</td>\n",
       "      <td>2</td>\n",
       "      <td>1b27</td>\n",
       "      <td>1b27</td>\n",
       "      <td>PDB</td>\n",
       "    </tr>\n",
       "    <tr>\n",
       "      <th>8072</th>\n",
       "      <td>1bdj_u1_A-1bdj_u2_A</td>\n",
       "      <td>PDB</td>\n",
       "      <td>129</td>\n",
       "      <td>118</td>\n",
       "      <td>0.0</td>\n",
       "      <td>0.0</td>\n",
       "      <td>0.0</td>\n",
       "      <td>0</td>\n",
       "      <td>0.790</td>\n",
       "      <td>0.882</td>\n",
       "      <td>...</td>\n",
       "      <td>0.00</td>\n",
       "      <td>9999.00</td>\n",
       "      <td>0.000</td>\n",
       "      <td>0.0</td>\n",
       "      <td>9999.0</td>\n",
       "      <td>0.0</td>\n",
       "      <td>1</td>\n",
       "      <td>1bdj</td>\n",
       "      <td>1bdj</td>\n",
       "      <td>PDB</td>\n",
       "    </tr>\n",
       "    <tr>\n",
       "      <th>...</th>\n",
       "      <td>...</td>\n",
       "      <td>...</td>\n",
       "      <td>...</td>\n",
       "      <td>...</td>\n",
       "      <td>...</td>\n",
       "      <td>...</td>\n",
       "      <td>...</td>\n",
       "      <td>...</td>\n",
       "      <td>...</td>\n",
       "      <td>...</td>\n",
       "      <td>...</td>\n",
       "      <td>...</td>\n",
       "      <td>...</td>\n",
       "      <td>...</td>\n",
       "      <td>...</td>\n",
       "      <td>...</td>\n",
       "      <td>...</td>\n",
       "      <td>...</td>\n",
       "      <td>...</td>\n",
       "      <td>...</td>\n",
       "      <td>...</td>\n",
       "    </tr>\n",
       "    <tr>\n",
       "      <th>9614</th>\n",
       "      <td>4hcn_u1_A-4hcn_u2_A</td>\n",
       "      <td>PDB</td>\n",
       "      <td>250</td>\n",
       "      <td>77</td>\n",
       "      <td>0.0</td>\n",
       "      <td>0.0</td>\n",
       "      <td>0.0</td>\n",
       "      <td>0</td>\n",
       "      <td>0.119</td>\n",
       "      <td>0.111</td>\n",
       "      <td>...</td>\n",
       "      <td>0.04</td>\n",
       "      <td>18.00</td>\n",
       "      <td>38.462</td>\n",
       "      <td>0.0</td>\n",
       "      <td>9999.0</td>\n",
       "      <td>0.0</td>\n",
       "      <td>1</td>\n",
       "      <td>4hcn</td>\n",
       "      <td>4hcn</td>\n",
       "      <td>PDB</td>\n",
       "    </tr>\n",
       "    <tr>\n",
       "      <th>9615</th>\n",
       "      <td>4llo_u1_A-4llo_u2_A</td>\n",
       "      <td>PDB</td>\n",
       "      <td>147</td>\n",
       "      <td>115</td>\n",
       "      <td>0.0</td>\n",
       "      <td>0.0</td>\n",
       "      <td>0.0</td>\n",
       "      <td>0</td>\n",
       "      <td>0.081</td>\n",
       "      <td>0.040</td>\n",
       "      <td>...</td>\n",
       "      <td>0.10</td>\n",
       "      <td>17.00</td>\n",
       "      <td>27.273</td>\n",
       "      <td>0.0</td>\n",
       "      <td>9999.0</td>\n",
       "      <td>0.0</td>\n",
       "      <td>1</td>\n",
       "      <td>4llo</td>\n",
       "      <td>4llo</td>\n",
       "      <td>PDB</td>\n",
       "    </tr>\n",
       "    <tr>\n",
       "      <th>9616</th>\n",
       "      <td>4llo_u2_A-4llo_u1_A</td>\n",
       "      <td>PDB</td>\n",
       "      <td>115</td>\n",
       "      <td>147</td>\n",
       "      <td>0.0</td>\n",
       "      <td>0.0</td>\n",
       "      <td>0.0</td>\n",
       "      <td>0</td>\n",
       "      <td>0.099</td>\n",
       "      <td>0.200</td>\n",
       "      <td>...</td>\n",
       "      <td>0.01</td>\n",
       "      <td>17.00</td>\n",
       "      <td>27.273</td>\n",
       "      <td>0.0</td>\n",
       "      <td>9999.0</td>\n",
       "      <td>0.0</td>\n",
       "      <td>2</td>\n",
       "      <td>4llo</td>\n",
       "      <td>4llo</td>\n",
       "      <td>PDB</td>\n",
       "    </tr>\n",
       "    <tr>\n",
       "      <th>9617</th>\n",
       "      <td>5brr_u1_A-5brr_u2_A</td>\n",
       "      <td>PDB</td>\n",
       "      <td>378</td>\n",
       "      <td>266</td>\n",
       "      <td>0.0</td>\n",
       "      <td>0.0</td>\n",
       "      <td>0.0</td>\n",
       "      <td>0</td>\n",
       "      <td>0.002</td>\n",
       "      <td>0.000</td>\n",
       "      <td>...</td>\n",
       "      <td>0.05</td>\n",
       "      <td>0.48</td>\n",
       "      <td>53.846</td>\n",
       "      <td>0.5</td>\n",
       "      <td>0.5</td>\n",
       "      <td>0.5</td>\n",
       "      <td>1</td>\n",
       "      <td>5brr</td>\n",
       "      <td>5brr</td>\n",
       "      <td>PDB</td>\n",
       "    </tr>\n",
       "    <tr>\n",
       "      <th>9618</th>\n",
       "      <td>5brr_u2_A-5brr_u1_A</td>\n",
       "      <td>PDB</td>\n",
       "      <td>266</td>\n",
       "      <td>378</td>\n",
       "      <td>0.0</td>\n",
       "      <td>0.0</td>\n",
       "      <td>0.0</td>\n",
       "      <td>0</td>\n",
       "      <td>0.031</td>\n",
       "      <td>0.055</td>\n",
       "      <td>...</td>\n",
       "      <td>0.02</td>\n",
       "      <td>0.54</td>\n",
       "      <td>53.846</td>\n",
       "      <td>0.0</td>\n",
       "      <td>9999.0</td>\n",
       "      <td>0.0</td>\n",
       "      <td>2</td>\n",
       "      <td>5brr</td>\n",
       "      <td>5brr</td>\n",
       "      <td>PDB</td>\n",
       "    </tr>\n",
       "  </tbody>\n",
       "</table>\n",
       "<p>1551 rows × 48 columns</p>\n",
       "</div>"
      ],
      "text/plain": [
       "                     name JHparams  lenA  lenB  msa  msaA  msaB  cdhit  dockQ  \\\n",
       "8068  1ay7_u1_A-1ay7_u2_A      PDB    97    90  0.0   0.0   0.0      0  0.884   \n",
       "8069  1ay7_u2_A-1ay7_u1_A      PDB    90    97  0.0   0.0   0.0      0  0.929   \n",
       "8070  1b27_u1_A-1b27_u2_A      PDB   109    90  0.0   0.0   0.0      0  0.861   \n",
       "8071  1b27_u2_A-1b27_u1_A      PDB    90   109  0.0   0.0   0.0      0  0.887   \n",
       "8072  1bdj_u1_A-1bdj_u2_A      PDB   129   118  0.0   0.0   0.0      0  0.790   \n",
       "...                   ...      ...   ...   ...  ...   ...   ...    ...    ...   \n",
       "9614  4hcn_u1_A-4hcn_u2_A      PDB   250    77  0.0   0.0   0.0      0  0.119   \n",
       "9615  4llo_u1_A-4llo_u2_A      PDB   147   115  0.0   0.0   0.0      0  0.081   \n",
       "9616  4llo_u2_A-4llo_u1_A      PDB   115   147  0.0   0.0   0.0      0  0.099   \n",
       "9617  5brr_u1_A-5brr_u2_A      PDB   378   266  0.0   0.0   0.0      0  0.002   \n",
       "9618  5brr_u2_A-5brr_u1_A      PDB   266   378  0.0   0.0   0.0      0  0.031   \n",
       "\n",
       "       fnat  ...   auc   evalue   seqid  hhprob  hhevalue  hhscore  rank  \\\n",
       "8068  0.722  ...  0.01  9999.00   0.000     0.4       0.4      0.4     1   \n",
       "8069  0.833  ...  0.09  9999.00   0.000     0.0    9999.0      0.0     2   \n",
       "8070  0.740  ...  0.01     4.30  50.000     1.8       1.8      1.8     1   \n",
       "8071  0.780  ...  0.08     4.30  50.000     2.5       2.5      2.5     2   \n",
       "8072  0.882  ...  0.00  9999.00   0.000     0.0    9999.0      0.0     1   \n",
       "...     ...  ...   ...      ...     ...     ...       ...      ...   ...   \n",
       "9614  0.111  ...  0.04    18.00  38.462     0.0    9999.0      0.0     1   \n",
       "9615  0.040  ...  0.10    17.00  27.273     0.0    9999.0      0.0     1   \n",
       "9616  0.200  ...  0.01    17.00  27.273     0.0    9999.0      0.0     2   \n",
       "9617  0.000  ...  0.05     0.48  53.846     0.5       0.5      0.5     1   \n",
       "9618  0.055  ...  0.02     0.54  53.846     0.0    9999.0      0.0     2   \n",
       "\n",
       "      code  CODE  params  \n",
       "8068  1ay7  1ay7     PDB  \n",
       "8069  1ay7  1ay7     PDB  \n",
       "8070  1b27  1b27     PDB  \n",
       "8071  1b27  1b27     PDB  \n",
       "8072  1bdj  1bdj     PDB  \n",
       "...    ...   ...     ...  \n",
       "9614  4hcn  4hcn     PDB  \n",
       "9615  4llo  4llo     PDB  \n",
       "9616  4llo  4llo     PDB  \n",
       "9617  5brr  5brr     PDB  \n",
       "9618  5brr  5brr     PDB  \n",
       "\n",
       "[1551 rows x 48 columns]"
      ]
     },
     "execution_count": 12,
     "metadata": {},
     "output_type": "execute_result"
    }
   ],
   "source": [
    "r=re.compile(\"^PDB|^pdb\")\n",
    "datasets=df.JHparams.unique()\n",
    "pdbset=list(filter(r.match, datasets))\n",
    "df2=df.loc[(df.JHparams.isin(pdbset))&(~df.JHparams.isin([\"pdbconfold\"]))].copy()\n",
    "df2.JHparams=\"PDB\"\n",
    "df2.params=\"PDB\"\n",
    "df2"
   ]
  },
  {
   "cell_type": "code",
   "execution_count": 13,
   "metadata": {
    "collapsed": false
   },
   "outputs": [],
   "source": [
    "df=pd.concat([df,df2], ignore_index=True,sort=False)\n",
    "#df.fillna(0)\n",
    "#df.params.unique()"
   ]
  },
  {
   "cell_type": "code",
   "execution_count": 14,
   "metadata": {
    "collapsed": false
   },
   "outputs": [],
   "source": [
    "# Add a linear combination of trRosetta\n",
    "r=re.compile(\".*-N.*\") # .*cpu.*\n",
    "datasets=df.JHparams.unique()\n",
    "JHsets=list(filter(r.match, datasets))\n",
    "\n"
   ]
  },
  {
   "cell_type": "code",
   "execution_count": 15,
   "metadata": {
    "collapsed": false
   },
   "outputs": [],
   "source": [
    "cutoff=0.1\n",
    "goodmodels=df.loc[(df.dockQ>cutoff)&(df.JHparams.isin(JHsets))].code.unique()\n",
    "good_df=df.loc[(df.code.isin(goodmodels))&(df.JHparams.isin(JHsets))] #.reset_index()\n",
    "#df.dockQ.dtypes"
   ]
  },
  {
   "cell_type": "code",
   "execution_count": 16,
   "metadata": {
    "collapsed": false,
    "scrolled": false
   },
   "outputs": [
    {
     "data": {
      "text/plain": [
       "Text(0.5, 1.0, 'CC 0.245 Good: 0.583 Loss: 0.144 , 0.218 Test: 12')"
      ]
     },
     "execution_count": 16,
     "metadata": {},
     "output_type": "execute_result"
    },
    {
     "data": {
      "image/png": "[encoded data removed]",
      "text/plain": [
       "<Figure size 468x468 with 1 Axes>"
      ]
     },
     "metadata": {},
     "output_type": "display_data"
    }
   ],
   "source": [
    "ydata=good_df.dockQ\n",
    "\n",
    "#cols=[\"lenA\",\"lenB\",\"msa\",\"long\",\"med\",\"longA\",\"medA\",\"longB\",\"medB\",\"tmA\",\"tmB\"]\n",
    "#xdata=good_df[[\"lenA\",\"lenB\",\"long\",\"med\"]]\n",
    "#cols=[\"longA\",\"longB\",\"medA\",\"medB\",\"tmA\",\"tmB\"]\n",
    "cols=[\"med\",\"long\",\"msa\"]\n",
    "#cols=[\"msa\"]\n",
    "xdata=good_df[cols]\n",
    "reg.fit(xdata,ydata)\n",
    "ypred = reg.predict(xdata)\n",
    "f, ax = plt.subplots(figsize=(6.5, 6.5))\n",
    "plt.scatter(ydata,ypred)\n",
    "cc=np.corrcoef(ydata,ypred)\n",
    "ax.set_xlabel(\"dockQ\")\n",
    "ax.set_ylabel(\"predicted dockQ\")\n",
    "(i,j,dockq,mm)=get_ranks(good_df,ypred)\n",
    "#print(i,j,k/i)\n",
    "ax.set_title(\"CC\" + \" \" + str(round(cc[0,1],3))\n",
    "            + \" Good: \" + str(round(j/i,3)) + \" Loss: \" + str(round(dockq/i,3))\n",
    "             + \" , \" + str(round(mm/i,3))\n",
    "             + \" Test: \" + str(i)\n",
    "            )\n"
   ]
  },
  {
   "cell_type": "code",
   "execution_count": 17,
   "metadata": {
    "collapsed": false
   },
   "outputs": [],
   "source": [
    "xdata=df.loc[df.JHparams.isin(JHsets)][cols]\n",
    "ypred = reg.predict(xdata)\n",
    "df2=df.loc[df.JHparams.isin(JHsets)].reset_index()\n",
    "df2.loc[:,'pred'] = ypred\n",
    "topranked=pd.DataFrame(columns = df2.columns) \n"
   ]
  },
  {
   "cell_type": "code",
   "execution_count": 18,
   "metadata": {
    "collapsed": false
   },
   "outputs": [
    {
     "data": {
      "text/plain": [
       "Index(['name', 'JHparams', 'lenA', 'lenB', 'msa', 'msaA', 'msaB', 'cdhit',\n",
       "       'dockQ', 'fnat', 'iRMS', 'LRMS', 'fnonnat', 'mm', 'tmA', 'tmB', 'long',\n",
       "       'med', 'longPPV', 'medPPV', 'longA', 'medA', 'longPPVA', 'medPPVA',\n",
       "       'longB', 'medB', 'longPPVB', 'medPPVB', 'short', 'shortPPV', 'shortA',\n",
       "       'shortPPVA', 'shortB', 'shortPPVB', 'shortpdb', 'medpdb', 'longpdb',\n",
       "       'avprob', 'auc', 'evalue', 'seqid', 'hhprob', 'hhevalue', 'hhscore',\n",
       "       'rank', 'code', 'CODE', 'params'],\n",
       "      dtype='object')"
      ]
     },
     "execution_count": 18,
     "metadata": {},
     "output_type": "execute_result"
    }
   ],
   "source": [
    "\n",
    "for name in df2.name.unique():\n",
    "    foo=df2.loc[df2.name==name].sort_values(\"pred\")[-1:].max()\n",
    "    #print(foo)\n",
    "    foo_df=pd.DataFrame(foo).transpose()\n",
    "    #print (foo_df)\n",
    "    topranked=pd.concat([topranked,foo_df], ignore_index=True)\n",
    "topranked[\"JHparams\"]=\"JHranked\"\n",
    "topranked.params=\"JHranked\"\n",
    "topranked=topranked.drop([\"pred\",\"index\"],axis=1)\n",
    "topranked.columns"
   ]
  },
  {
   "cell_type": "code",
   "execution_count": 19,
   "metadata": {
    "collapsed": false
   },
   "outputs": [
    {
     "data": {
      "text/plain": [
       "Index(['name', 'JHparams', 'lenA', 'lenB', 'msa', 'msaA', 'msaB', 'cdhit',\n",
       "       'dockQ', 'fnat', 'iRMS', 'LRMS', 'fnonnat', 'mm', 'tmA', 'tmB', 'long',\n",
       "       'med', 'longPPV', 'medPPV', 'longA', 'medA', 'longPPVA', 'medPPVA',\n",
       "       'longB', 'medB', 'longPPVB', 'medPPVB', 'short', 'shortPPV', 'shortA',\n",
       "       'shortPPVA', 'shortB', 'shortPPVB', 'shortpdb', 'medpdb', 'longpdb',\n",
       "       'avprob', 'auc', 'evalue', 'seqid', 'hhprob', 'hhevalue', 'hhscore',\n",
       "       'rank', 'code', 'CODE', 'params'],\n",
       "      dtype='object')"
      ]
     },
     "execution_count": 19,
     "metadata": {},
     "output_type": "execute_result"
    }
   ],
   "source": [
    "df.columns"
   ]
  },
  {
   "cell_type": "code",
   "execution_count": 20,
   "metadata": {
    "collapsed": false
   },
   "outputs": [
    {
     "data": {
      "text/plain": [
       "array(['-N 3 --cpu 8', 'confold', 'gramm', 'homodimer', 'ispred',\n",
       "       '-N 1 -E 1.e-100 --cpu 8', '-N 1 -E 1.e-2 ', 'N1-merged-pdb',\n",
       "       'N1-merged', 'N1-N3-merged-fast', 'N1-N3-new', 'N1-N3-multimerged',\n",
       "       '-N 1 -E 1.e-10 --cpu 8 ', 'N1-top1000-merged', 'N1-top1000',\n",
       "       'N1-top100', 'N1-top2000', 'N1-top500', 'N3-cov90', 'N3dock',\n",
       "       '-N 3 --incE 1.e-2', 'N3-merged', 'N3-multimerged', 'N3-newdockA',\n",
       "       'N3-newdockB', 'N3-newdockC', 'N5-newdockA', 'N5-newdockB',\n",
       "       'N5-newdockC', '-N 5 --cpu 8', 'pdbconfold', 'pdbcontacts-new',\n",
       "       'pdbcontacts', 'PDBDOCK2', 'PDBDOCK3', 'PDBDOCK4', 'PDBDOCK',\n",
       "       'PDBNEWDOCK-standard', 'pdbnewcontacts', 'PDBNEWDOCK-A',\n",
       "       'PDBNEWDOCK-B', 'PDBNEWDOCK-C', 'PDBNEWDOCK-D',\n",
       "       'PDBNEWDOCK-repulsion', 'pdbsurface', 'rbh-jh', 'rbh-merged-pdb',\n",
       "       'rbh-merged', 'rbh', 'TMdock-nohomology-1.e-5', 'TMdock-double',\n",
       "       'TMdock-nohomology', 'TMdock', 'trRosetta', 'PDB', 'JHranked'],\n",
       "      dtype=object)"
      ]
     },
     "execution_count": 20,
     "metadata": {},
     "output_type": "execute_result"
    }
   ],
   "source": [
    "df=pd.concat([df,topranked], ignore_index=True,sort=False)\n",
    "df.fillna(0)\n",
    "df.params.unique()"
   ]
  },
  {
   "cell_type": "code",
   "execution_count": 21,
   "metadata": {
    "collapsed": false
   },
   "outputs": [
    {
     "data": {
      "text/html": [
       "<div>\n",
       "<style scoped>\n",
       "    .dataframe tbody tr th:only-of-type {\n",
       "        vertical-align: middle;\n",
       "    }\n",
       "\n",
       "    .dataframe tbody tr th {\n",
       "        vertical-align: top;\n",
       "    }\n",
       "\n",
       "    .dataframe thead th {\n",
       "        text-align: right;\n",
       "    }\n",
       "</style>\n",
       "<table border=\"1\" class=\"dataframe\">\n",
       "  <thead>\n",
       "    <tr style=\"text-align: right;\">\n",
       "      <th></th>\n",
       "      <th>name</th>\n",
       "      <th>JHparams</th>\n",
       "      <th>lenA</th>\n",
       "      <th>lenB</th>\n",
       "      <th>msa</th>\n",
       "      <th>msaA</th>\n",
       "      <th>msaB</th>\n",
       "      <th>cdhit</th>\n",
       "      <th>dockQ</th>\n",
       "      <th>fnat</th>\n",
       "      <th>...</th>\n",
       "      <th>auc</th>\n",
       "      <th>evalue</th>\n",
       "      <th>seqid</th>\n",
       "      <th>hhprob</th>\n",
       "      <th>hhevalue</th>\n",
       "      <th>hhscore</th>\n",
       "      <th>rank</th>\n",
       "      <th>code</th>\n",
       "      <th>CODE</th>\n",
       "      <th>params</th>\n",
       "    </tr>\n",
       "  </thead>\n",
       "  <tbody>\n",
       "    <tr>\n",
       "      <th>0</th>\n",
       "      <td>1ay7_u1_A-1ay7_u2_A</td>\n",
       "      <td>-N 3 --cpu 8</td>\n",
       "      <td>97</td>\n",
       "      <td>90</td>\n",
       "      <td>1060</td>\n",
       "      <td>1485</td>\n",
       "      <td>2034</td>\n",
       "      <td>1026</td>\n",
       "      <td>0.281</td>\n",
       "      <td>0.167</td>\n",
       "      <td>...</td>\n",
       "      <td>0.4</td>\n",
       "      <td>9999</td>\n",
       "      <td>0</td>\n",
       "      <td>0.4</td>\n",
       "      <td>0.4</td>\n",
       "      <td>0.4</td>\n",
       "      <td>1</td>\n",
       "      <td>1ay7</td>\n",
       "      <td>1ay7</td>\n",
       "      <td>-N 3 --cpu 8</td>\n",
       "    </tr>\n",
       "    <tr>\n",
       "      <th>1</th>\n",
       "      <td>1ay7_u2_A-1ay7_u1_A</td>\n",
       "      <td>-N 3 --cpu 8</td>\n",
       "      <td>90</td>\n",
       "      <td>97</td>\n",
       "      <td>1060</td>\n",
       "      <td>2034</td>\n",
       "      <td>1485</td>\n",
       "      <td>989</td>\n",
       "      <td>0.239</td>\n",
       "      <td>0.25</td>\n",
       "      <td>...</td>\n",
       "      <td>0.36</td>\n",
       "      <td>9999</td>\n",
       "      <td>0</td>\n",
       "      <td>0</td>\n",
       "      <td>9999</td>\n",
       "      <td>0</td>\n",
       "      <td>2</td>\n",
       "      <td>1ay7</td>\n",
       "      <td>1ay7</td>\n",
       "      <td>-N 3 --cpu 8</td>\n",
       "    </tr>\n",
       "    <tr>\n",
       "      <th>2</th>\n",
       "      <td>1b27_u1_A-1b27_u2_A</td>\n",
       "      <td>-N 3 --cpu 8</td>\n",
       "      <td>109</td>\n",
       "      <td>90</td>\n",
       "      <td>733</td>\n",
       "      <td>1484</td>\n",
       "      <td>2034</td>\n",
       "      <td>654</td>\n",
       "      <td>0.223</td>\n",
       "      <td>0.12</td>\n",
       "      <td>...</td>\n",
       "      <td>0.46</td>\n",
       "      <td>4.3</td>\n",
       "      <td>50</td>\n",
       "      <td>1.8</td>\n",
       "      <td>0.027</td>\n",
       "      <td>13.5</td>\n",
       "      <td>1</td>\n",
       "      <td>1b27</td>\n",
       "      <td>1b27</td>\n",
       "      <td>-N 3 --cpu 8</td>\n",
       "    </tr>\n",
       "    <tr>\n",
       "      <th>3</th>\n",
       "      <td>1b27_u2_A-1b27_u1_A</td>\n",
       "      <td>-N 3 --cpu 8</td>\n",
       "      <td>90</td>\n",
       "      <td>109</td>\n",
       "      <td>733</td>\n",
       "      <td>2034</td>\n",
       "      <td>1484</td>\n",
       "      <td>656</td>\n",
       "      <td>0.229</td>\n",
       "      <td>0.16</td>\n",
       "      <td>...</td>\n",
       "      <td>0.46</td>\n",
       "      <td>4.3</td>\n",
       "      <td>50</td>\n",
       "      <td>2.5</td>\n",
       "      <td>0.019</td>\n",
       "      <td>13.7</td>\n",
       "      <td>2</td>\n",
       "      <td>1b27</td>\n",
       "      <td>1b27</td>\n",
       "      <td>-N 3 --cpu 8</td>\n",
       "    </tr>\n",
       "    <tr>\n",
       "      <th>4</th>\n",
       "      <td>1bdj_u1_A-1bdj_u2_A</td>\n",
       "      <td>-N 3 --cpu 8</td>\n",
       "      <td>129</td>\n",
       "      <td>118</td>\n",
       "      <td>5651</td>\n",
       "      <td>349880</td>\n",
       "      <td>23051</td>\n",
       "      <td>5071</td>\n",
       "      <td>0</td>\n",
       "      <td>0</td>\n",
       "      <td>...</td>\n",
       "      <td>0</td>\n",
       "      <td>9999</td>\n",
       "      <td>0</td>\n",
       "      <td>0</td>\n",
       "      <td>9999</td>\n",
       "      <td>0</td>\n",
       "      <td>1</td>\n",
       "      <td>1bdj</td>\n",
       "      <td>1bdj</td>\n",
       "      <td>-N 3 --cpu 8</td>\n",
       "    </tr>\n",
       "    <tr>\n",
       "      <th>...</th>\n",
       "      <td>...</td>\n",
       "      <td>...</td>\n",
       "      <td>...</td>\n",
       "      <td>...</td>\n",
       "      <td>...</td>\n",
       "      <td>...</td>\n",
       "      <td>...</td>\n",
       "      <td>...</td>\n",
       "      <td>...</td>\n",
       "      <td>...</td>\n",
       "      <td>...</td>\n",
       "      <td>...</td>\n",
       "      <td>...</td>\n",
       "      <td>...</td>\n",
       "      <td>...</td>\n",
       "      <td>...</td>\n",
       "      <td>...</td>\n",
       "      <td>...</td>\n",
       "      <td>...</td>\n",
       "      <td>...</td>\n",
       "      <td>...</td>\n",
       "    </tr>\n",
       "    <tr>\n",
       "      <th>26453</th>\n",
       "      <td>5cec_u2_A-5cec_u1_A</td>\n",
       "      <td>JHranked</td>\n",
       "      <td>191</td>\n",
       "      <td>403</td>\n",
       "      <td>8</td>\n",
       "      <td>59695</td>\n",
       "      <td>200</td>\n",
       "      <td>7</td>\n",
       "      <td>0.05</td>\n",
       "      <td>0.075</td>\n",
       "      <td>...</td>\n",
       "      <td>0</td>\n",
       "      <td>19</td>\n",
       "      <td>33.333</td>\n",
       "      <td>0.3</td>\n",
       "      <td>0.21</td>\n",
       "      <td>14.5</td>\n",
       "      <td>2</td>\n",
       "      <td>5cec</td>\n",
       "      <td>5cec</td>\n",
       "      <td>JHranked</td>\n",
       "    </tr>\n",
       "    <tr>\n",
       "      <th>26454</th>\n",
       "      <td>5cra_u1_A-5cra_u2_A</td>\n",
       "      <td>JHranked</td>\n",
       "      <td>193</td>\n",
       "      <td>77</td>\n",
       "      <td>1</td>\n",
       "      <td>11</td>\n",
       "      <td>42026</td>\n",
       "      <td>1</td>\n",
       "      <td>0.008</td>\n",
       "      <td>0</td>\n",
       "      <td>...</td>\n",
       "      <td>0</td>\n",
       "      <td>9999</td>\n",
       "      <td>0</td>\n",
       "      <td>1.3</td>\n",
       "      <td>1.3</td>\n",
       "      <td>1.3</td>\n",
       "      <td>1</td>\n",
       "      <td>5cra</td>\n",
       "      <td>5cra</td>\n",
       "      <td>JHranked</td>\n",
       "    </tr>\n",
       "    <tr>\n",
       "      <th>26455</th>\n",
       "      <td>5cra_u2_A-5cra_u1_A</td>\n",
       "      <td>JHranked</td>\n",
       "      <td>77</td>\n",
       "      <td>193</td>\n",
       "      <td>1</td>\n",
       "      <td>42026</td>\n",
       "      <td>11</td>\n",
       "      <td>1</td>\n",
       "      <td>0.103</td>\n",
       "      <td>0</td>\n",
       "      <td>...</td>\n",
       "      <td>0.17</td>\n",
       "      <td>9999</td>\n",
       "      <td>0</td>\n",
       "      <td>1.1</td>\n",
       "      <td>1.1</td>\n",
       "      <td>1.1</td>\n",
       "      <td>2</td>\n",
       "      <td>5cra</td>\n",
       "      <td>5cra</td>\n",
       "      <td>JHranked</td>\n",
       "    </tr>\n",
       "    <tr>\n",
       "      <th>26456</th>\n",
       "      <td>5eg3_u1_A-5eg3_u2_A</td>\n",
       "      <td>JHranked</td>\n",
       "      <td>303</td>\n",
       "      <td>105</td>\n",
       "      <td>499</td>\n",
       "      <td>560629</td>\n",
       "      <td>26558</td>\n",
       "      <td>278</td>\n",
       "      <td>0</td>\n",
       "      <td>0</td>\n",
       "      <td>...</td>\n",
       "      <td>0</td>\n",
       "      <td>68</td>\n",
       "      <td>40</td>\n",
       "      <td>1</td>\n",
       "      <td>1</td>\n",
       "      <td>1</td>\n",
       "      <td>1</td>\n",
       "      <td>5eg3</td>\n",
       "      <td>5eg3</td>\n",
       "      <td>JHranked</td>\n",
       "    </tr>\n",
       "    <tr>\n",
       "      <th>26457</th>\n",
       "      <td>5eg3_u2_A-5eg3_u1_A</td>\n",
       "      <td>JHranked</td>\n",
       "      <td>105</td>\n",
       "      <td>303</td>\n",
       "      <td>305</td>\n",
       "      <td>3955</td>\n",
       "      <td>147816</td>\n",
       "      <td>102</td>\n",
       "      <td>0.012</td>\n",
       "      <td>0</td>\n",
       "      <td>...</td>\n",
       "      <td>0</td>\n",
       "      <td>68</td>\n",
       "      <td>40</td>\n",
       "      <td>0.4</td>\n",
       "      <td>0.13</td>\n",
       "      <td>12.9</td>\n",
       "      <td>2</td>\n",
       "      <td>5eg3</td>\n",
       "      <td>5eg3</td>\n",
       "      <td>JHranked</td>\n",
       "    </tr>\n",
       "  </tbody>\n",
       "</table>\n",
       "<p>26458 rows × 48 columns</p>\n",
       "</div>"
      ],
      "text/plain": [
       "                      name      JHparams lenA lenB   msa    msaA    msaB  \\\n",
       "0      1ay7_u1_A-1ay7_u2_A  -N 3 --cpu 8   97   90  1060    1485    2034   \n",
       "1      1ay7_u2_A-1ay7_u1_A  -N 3 --cpu 8   90   97  1060    2034    1485   \n",
       "2      1b27_u1_A-1b27_u2_A  -N 3 --cpu 8  109   90   733    1484    2034   \n",
       "3      1b27_u2_A-1b27_u1_A  -N 3 --cpu 8   90  109   733    2034    1484   \n",
       "4      1bdj_u1_A-1bdj_u2_A  -N 3 --cpu 8  129  118  5651  349880   23051   \n",
       "...                    ...           ...  ...  ...   ...     ...     ...   \n",
       "26453  5cec_u2_A-5cec_u1_A      JHranked  191  403     8   59695     200   \n",
       "26454  5cra_u1_A-5cra_u2_A      JHranked  193   77     1      11   42026   \n",
       "26455  5cra_u2_A-5cra_u1_A      JHranked   77  193     1   42026      11   \n",
       "26456  5eg3_u1_A-5eg3_u2_A      JHranked  303  105   499  560629   26558   \n",
       "26457  5eg3_u2_A-5eg3_u1_A      JHranked  105  303   305    3955  147816   \n",
       "\n",
       "      cdhit  dockQ   fnat  ...   auc evalue   seqid hhprob hhevalue hhscore  \\\n",
       "0      1026  0.281  0.167  ...   0.4   9999       0    0.4      0.4     0.4   \n",
       "1       989  0.239   0.25  ...  0.36   9999       0      0     9999       0   \n",
       "2       654  0.223   0.12  ...  0.46    4.3      50    1.8    0.027    13.5   \n",
       "3       656  0.229   0.16  ...  0.46    4.3      50    2.5    0.019    13.7   \n",
       "4      5071      0      0  ...     0   9999       0      0     9999       0   \n",
       "...     ...    ...    ...  ...   ...    ...     ...    ...      ...     ...   \n",
       "26453     7   0.05  0.075  ...     0     19  33.333    0.3     0.21    14.5   \n",
       "26454     1  0.008      0  ...     0   9999       0    1.3      1.3     1.3   \n",
       "26455     1  0.103      0  ...  0.17   9999       0    1.1      1.1     1.1   \n",
       "26456   278      0      0  ...     0     68      40      1        1       1   \n",
       "26457   102  0.012      0  ...     0     68      40    0.4     0.13    12.9   \n",
       "\n",
       "      rank  code  CODE        params  \n",
       "0        1  1ay7  1ay7  -N 3 --cpu 8  \n",
       "1        2  1ay7  1ay7  -N 3 --cpu 8  \n",
       "2        1  1b27  1b27  -N 3 --cpu 8  \n",
       "3        2  1b27  1b27  -N 3 --cpu 8  \n",
       "4        1  1bdj  1bdj  -N 3 --cpu 8  \n",
       "...    ...   ...   ...           ...  \n",
       "26453    2  5cec  5cec      JHranked  \n",
       "26454    1  5cra  5cra      JHranked  \n",
       "26455    2  5cra  5cra      JHranked  \n",
       "26456    1  5eg3  5eg3      JHranked  \n",
       "26457    2  5eg3  5eg3      JHranked  \n",
       "\n",
       "[26458 rows x 48 columns]"
      ]
     },
     "execution_count": 21,
     "metadata": {},
     "output_type": "execute_result"
    }
   ],
   "source": [
    "df"
   ]
  },
  {
   "cell_type": "code",
   "execution_count": 22,
   "metadata": {
    "collapsed": false
   },
   "outputs": [],
   "source": [
    "#df[\"rank\"].str.isnumeric().unique()\n",
    "#df.dtypes"
   ]
  },
  {
   "cell_type": "code",
   "execution_count": 23,
   "metadata": {
    "collapsed": false
   },
   "outputs": [
    {
     "name": "stdout",
     "output_type": "stream",
     "text": [
      "rank\n",
      "len\n"
     ]
    }
   ],
   "source": [
    "# We need to check that everything is numeric\n",
    "cols=['name', 'JHparams', 'seqid',      'rank']\n",
    "\n",
    "#for d in df.columns.values.tolist():\n",
    "for d in [\"rank\",\"len\"]:\n",
    "    if d==\"name\": continue\n",
    "    if d==\"JHparams\": continue\n",
    "    print (d)\n",
    "    #print (df.loc[(df[d].str.isnumeric()!=True)][cols+[d]])\n",
    "    #print (df.loc[(df[d].str.isnumeric()][d].unique()\n",
    "    #print (df[d].str.isnumeric().unique())"
   ]
  },
  {
   "cell_type": "code",
   "execution_count": null,
   "metadata": {
    "collapsed": false
   },
   "outputs": [],
   "source": [
    "# Divide data into datasets\n",
    "\n",
    "\n",
    "df[\"tmAB\"]=df[[\"tmA\",\"tmB\"]].mean(axis=1)\n",
    "df[\"msaAB\"]=df[[\"msaA\",\"msaB\"]].mean(axis=1)\n",
    "df[\"tmAB_max\"]=df[[\"tmA\",\"tmB\"]].max(axis=1)\n",
    "df[\"msaAB_max\"]=df[[\"msaA\",\"msaB\"]].max(axis=1)\n",
    "df[\"tmAB_min\"]=df[[\"tmA\",\"tmB\"]].min(axis=1)\n",
    "df[\"msaAB_min\"]=df[[\"msaA\",\"msaB\"]].min(axis=1)\n",
    "df[\"numcorrect\"]=df[\"longPPV\"]*df[\"long\"]\n",
    "df[\"len\"]=df[\"lenA\"]+df[\"lenB\"]\n",
    "\n",
    "codes=df.code.unique()\n",
    "df_mean=df.groupby([\"JHparams\",\"code\"]).mean()\n",
    "df_max=df.groupby([\"JHparams\",\"code\"]).max()\n",
    "df_min=df.groupby([\"JHparams\",\"code\"]).min()\n",
    "df_first=df.loc[df[\"rank\"]==1]"
   ]
  },
  {
   "cell_type": "code",
   "execution_count": null,
   "metadata": {
    "collapsed": false
   },
   "outputs": [],
   "source": [
    "df.columns.values.tolist()"
   ]
  },
  {
   "cell_type": "code",
   "execution_count": null,
   "metadata": {
    "collapsed": false
   },
   "outputs": [],
   "source": [
    "cols=['name', 'JHparams', 'seqid',      'rank']\n",
    "      \n",
    "d=\"TMdock-nohomology\"\n",
    "#df.loc[df.JHparams==d].groupby([\"code\"])[cols].first()\n",
    "\n",
    "#df.loc[(df.JHparams==d) & ((df[\"rank\"].str.isnumeric()!=True))][cols]\n",
    "#df.loc[(df.JHparams==d)][\"rank\"].str.isnumeric()\n",
    "#df.loc[(df.JHparams==d)] \n",
    "      \n",
    "      "
   ]
  },
  {
   "cell_type": "code",
   "execution_count": null,
   "metadata": {
    "collapsed": false
   },
   "outputs": [],
   "source": [
    "datasets=df.JHparams.unique()\n",
    "data_mean={}\n",
    "data_max={}\n",
    "data_min={}\n",
    "for d in datasets:\n",
    "    #print (d)\n",
    "    data_mean[d]=df.loc[df.JHparams==d].groupby([\"code\"]).mean()\n",
    "    data_max[d]=df.loc[df.JHparams==d].groupby([\"code\"]).max()\n",
    "    data_min[d]=df.loc[df.JHparams==d].groupby([\"code\"]).min()\n"
   ]
  },
  {
   "cell_type": "code",
   "execution_count": null,
   "metadata": {
    "collapsed": false
   },
   "outputs": [],
   "source": [
    "df.loc[ (df.JHparams==\"trRosetta\")  & (df[\"rank\"]==1)]"
   ]
  },
  {
   "cell_type": "code",
   "execution_count": null,
   "metadata": {
    "collapsed": false
   },
   "outputs": [],
   "source": [
    "df.JHparams.unique()\n",
    "#datasets"
   ]
  },
  {
   "cell_type": "code",
   "execution_count": null,
   "metadata": {
    "collapsed": false
   },
   "outputs": [],
   "source": [
    "data_first={}\n",
    "data_second={}\n",
    "for d in datasets:\n",
    "    data_first[d]=df.loc[ (df[\"JHparams\"]==d)  & (df[\"rank\"]==1)]\n",
    "    data_second[d]=df.loc[ (df[\"JHparams\"]==d)  & (df[\"rank\"]==2)]\n",
    "data_first[d]"
   ]
  },
  {
   "cell_type": "code",
   "execution_count": null,
   "metadata": {
    "collapsed": false
   },
   "outputs": [],
   "source": [
    "#datasets\n"
   ]
  },
  {
   "cell_type": "code",
   "execution_count": null,
   "metadata": {
    "collapsed": false
   },
   "outputs": [],
   "source": [
    "df_test= data_first[\"N1-merged\"]\n",
    "#data_first[\"N1-merged\"].tmA\n",
    "df_test[\"tmB\"]\n"
   ]
  },
  {
   "cell_type": "code",
   "execution_count": null,
   "metadata": {
    "collapsed": false
   },
   "outputs": [],
   "source": [
    "df_merged = pd.merge(data_first[\"trRosetta\"],data_first[d], on=['code'],how=\"inner\")\n",
    "plt.scatter(df_merged.dockQ,df_merged.mm)"
   ]
  },
  {
   "cell_type": "code",
   "execution_count": null,
   "metadata": {
    "collapsed": false
   },
   "outputs": [],
   "source": [
    "\n",
    "df_test= data_first[\"N1-merged\"]\n",
    "#plt.scatter(df_test.tmB,df_test.tmA)\n",
    "\n",
    "\n",
    "sns_plot = sns.jointplot(data=df_test, x=\"tmA\", y=\"tmB\")\n",
    "sns_plot.savefig(\"tmA-tmB.png\")\n",
    "\n"
   ]
  },
  {
   "cell_type": "code",
   "execution_count": null,
   "metadata": {
    "collapsed": false
   },
   "outputs": [],
   "source": [
    "df_test.loc[(df_test.tmA>0.8 )&(df_test.lenA>300)][\"name\"]\n"
   ]
  },
  {
   "cell_type": "code",
   "execution_count": null,
   "metadata": {
    "collapsed": false
   },
   "outputs": [],
   "source": [
    "cutoff=0.2\n",
    "f, ax = plt.subplots(figsize=(6.5, 6.5))\n",
    "df_merged = pd.merge(data_max[\"PDB\"],data_max[\"trRosetta\"], on=['code'],how=\"inner\")\n",
    "plt.scatter(df_merged.tmAB_x,df_merged.tmAB_y,label=d)\n",
    "ax.set_title(\"TM scores best model \")\n",
    "ax.set_xlabel(\"TM PDB \")\n",
    "ax.set_ylabel(\"TM trRosetta\")\n",
    "\n"
   ]
  },
  {
   "cell_type": "code",
   "execution_count": null,
   "metadata": {
    "collapsed": false
   },
   "outputs": [],
   "source": [
    "cutoff=0.2\n",
    "f, ax = plt.subplots(figsize=(6.5, 6.5))\n",
    "for d in datasets:\n",
    "    if d == datasets[0]: continue\n",
    "    if d==\"gramm\":continue   \n",
    "    if d[0:3]==\"PDB\":continue   \n",
    "    if d[0:3]==\"pdb\":continue   \n",
    "    if d[0:3]==\"TMd\":continue   \n",
    "    if d==\"trRosetta\":continue   \n",
    "    #if d==\"confold\":continue   \n",
    "    #if d==\"rbh-merged-pdb\":continue   \n",
    "\n",
    "    df_merged = pd.merge(data_max[datasets[0]],data_max[d], on=['code'],how=\"inner\")\n",
    "    #print (df_merged)\n",
    "    #newdf=df_merged[\"dockQ_x\",\"dockQ_y\"]  #.loc[(df_merged.dockQ_x>cutoff or df_merged.dockQ_y>cutoff) ]\n",
    "    plt.scatter(df_merged.dockQ_x,df_merged.dockQ_y,label=d)\n",
    "    for i, txt in enumerate(df_merged.name_x):\n",
    "        #print (i,txt)\n",
    "        try: \n",
    "            sstr=txt[0:4] # +d\n",
    "        except:\n",
    "            sstr=df_merged.name_y[i][0:4] #+d\n",
    "        if (df_merged.dockQ_x[i]> cutoff or df_merged.dockQ_y[i]>cutoff):\n",
    "            ax.annotate(sstr, (df_merged.dockQ_x[i], df_merged.dockQ_y[i]))\n",
    "x=[0,0.1]\n",
    "y=[0,0.1]\n",
    "plt.plot(x,y)\n",
    "ax.legend()\n",
    "ax.set_title(\"DockQ scores best model \")\n",
    "ax.set_xlabel(\"dockQ \"+str(datasets[0]))\n",
    "ax.set_ylabel(\"dockQ\")\n",
    "\n",
    "#cat.add_categories([1])\n",
    "#df_merged.fillna(0, inplace =True)"
   ]
  },
  {
   "cell_type": "code",
   "execution_count": null,
   "metadata": {
    "collapsed": false
   },
   "outputs": [],
   "source": [
    "cutoff=5\n",
    "f, ax = plt.subplots(figsize=(6.5, 6.5))\n",
    "for d in datasets:\n",
    "    if d == datasets[0]: continue\n",
    "    if d==\"gramm\":continue   \n",
    "    if d==\"trRosetta\":continue \n",
    "    if d[0:3]==\"PDB\":continue   \n",
    "    if d[0:3]==\"pdb\":continue   \n",
    "    if d[0:3]==\"TMd\":continue   \n",
    "        \n",
    "    #if d==\"confold\":continue   \n",
    "    #if d==\"rbh-merged-pdb\":continue   \n",
    "\n",
    "    df_merged = pd.merge(data_max[datasets[0]],data_max[d], on=['code'],how=\"inner\")\n",
    "    #print (df_merged)\n",
    "    #newdf=df_merged[\"dockQ_x\",\"dockQ_y\"]  #.loc[(df_merged.dockQ_x>cutoff or df_merged.dockQ_y>cutoff) ]\n",
    "    plt.scatter(df_merged.numcorrect_x,df_merged.numcorrect_y,label=d)\n",
    "    for i, txt in enumerate(df_merged.name_x):\n",
    "        #print (i,txt)\n",
    "        try: \n",
    "            sstr=txt[0:4]\n",
    "        except:\n",
    "            sstr=df_merged.name_y[i][0:4]\n",
    "        if (df_merged.numcorrect_x[i]> cutoff or df_merged.numcorrect_y[i]>cutoff):\n",
    "            ax.annotate(sstr, (df_merged.numcorrect_x[i], df_merged.numcorrect_y[i]))\n",
    "x=[0,50]\n",
    "y=[0,50]\n",
    "plt.plot(x,y)\n",
    "ax.legend()\n",
    "ax.set_title(\"numcorrect scores best model \")\n",
    "ax.set_xlabel(\"numcorrect \"+str(datasets[0]))\n",
    "ax.set_ylabel(\"numcorrect\")\n",
    "\n",
    "#cat.add_categories([1])\n",
    "#df_merged.fillna(0, inplace =True)"
   ]
  },
  {
   "cell_type": "code",
   "execution_count": null,
   "metadata": {
    "collapsed": false
   },
   "outputs": [],
   "source": [
    "cutoff=0.2\n",
    "f, ax = plt.subplots(figsize=(6.5, 6.5))\n",
    "for d in datasets:\n",
    "    if d == datasets[0]: continue\n",
    "    if d==\"gramm\":continue   \n",
    "    if d==\"trRosetta\":continue   \n",
    "    if d==\"confold\":continue   \n",
    "    #if d==\"rbh-merged-pdb\":continue   \n",
    "    if d[0:3]==\"PDB\":continue   \n",
    "    if d[0:3]==\"pdb\":continue   \n",
    "    if d[0:3]==\"TMd\":continue   \n",
    "    #if d!=\"N1-merged\":continue   \n",
    "    #print (d)\n",
    "    df_merged = pd.merge(data_first[datasets[0]],data_first[d], on=['code'],how=\"inner\")\n",
    "    #print (df_merged)\n",
    "    #newdf=df_merged[\"dockQ_x\",\"dockQ_y\"]  #.loc[(df_merged.dockQ_x>cutoff or df_merged.dockQ_y>cutoff) ]\n",
    "    plt.scatter(df_merged.dockQ_x,df_merged.dockQ_y,label=d)\n",
    "    for i, txt in enumerate(df_merged.name_x):\n",
    "        #print (i,txt)\n",
    "        try: \n",
    "            sstr=txt[0:4]\n",
    "        except:\n",
    "            sstr=df_merged.name_y[i][0:4]\n",
    "        if (df_merged.dockQ_x[i]> cutoff or df_merged.dockQ_y[i]>cutoff):\n",
    "            ax.annotate(sstr, (df_merged.dockQ_x[i], df_merged.dockQ_y[i]))\n",
    "x=[0,0.3]\n",
    "y=[0,0.3]\n",
    "plt.plot(x,y)\n",
    "ax.legend()\n",
    "ax.set_title(\"DockQ scores (first ranked)  \")\n",
    "ax.set_xlabel(\"dockQ \"+str(datasets[0]))\n",
    "ax.set_ylabel(\"dockQ\")\n",
    "\n",
    "#cat.add_categories([1])\n",
    "#df_merged.fillna(0, inplace =True)"
   ]
  },
  {
   "cell_type": "code",
   "execution_count": null,
   "metadata": {
    "collapsed": false
   },
   "outputs": [],
   "source": [
    "cutoff=0.1\n",
    "f, ax = plt.subplots(figsize=(6.5, 6.5))\n",
    "for d in datasets:\n",
    "    if d == datasets[0]: continue\n",
    "    if d==\"gramm\":continue   \n",
    "    if d==\"trRosetta\":continue   \n",
    "    if d==\"rbh merge pdb \":continue   \n",
    "    if d[0:3]==\"PDB\":continue   \n",
    "    if d[0:3]==\"pdb\":continue   \n",
    "    if d[0:3]==\"TMd\":continue   \n",
    "        \n",
    "    #if d!=\"N1-merged\":continue   \n",
    "    #print (d)\n",
    "    df_merged = pd.merge(data_max[datasets[0]],data_max[d], on=['code'],how=\"inner\")\n",
    "    #print (df_merged)\n",
    "    #newdf=df_merged[\"dockQ_x\",\"dockQ_y\"]  #.loc[(df_merged.dockQ_x>cutoff or df_merged.dockQ_y>cutoff) ]\n",
    "    plt.scatter(df_merged.dockQ_x,df_merged.dockQ_y,label=d)\n",
    "    for i, txt in enumerate(df_merged.name_x):\n",
    "        #print (i,txt)\n",
    "        try: \n",
    "            sstr=txt[0:4]\n",
    "        except:\n",
    "            sstr=df_merged.name_y[i][0:4]\n",
    "        if (df_merged.dockQ_x[i]> cutoff or df_merged.dockQ_y[i]>cutoff):\n",
    "            ax.annotate(sstr, (df_merged.dockQ_x[i], df_merged.dockQ_y[i]))\n",
    "x=[0,0.3]\n",
    "y=[0,0.3]\n",
    "plt.plot(x,y)\n",
    "ax.legend()\n",
    "ax.set_title(\"DockQ scores (best)  \")\n",
    "ax.set_xlabel(\"dockQ \"+str(datasets[0]))\n",
    "ax.set_ylabel(\"dockQ\")\n",
    "\n",
    "#cat.add_categories([1])\n",
    "#df_merged.fillna(0, inplace =True)"
   ]
  },
  {
   "cell_type": "code",
   "execution_count": null,
   "metadata": {
    "collapsed": false,
    "scrolled": true
   },
   "outputs": [],
   "source": [
    "cutoff=0.2\n",
    "f, ax = plt.subplots(figsize=(6.5, 6.5))\n",
    "for d in [\"N1-top1000\",\"-N 1 -E 1.e-10 --cpu 8 \",\"N1-merged-pdb\"]:\n",
    "    if d == datasets[0]: continue\n",
    "    if d==\"gramm\":continue   \n",
    "    if d==\"trRosetta\":continue   \n",
    "    if d==\"rbh merge pdb \":continue   \n",
    "    if d[0:3]==\"PDB\":continue   \n",
    "    if d[0:3]==\"pdb\":continue   \n",
    "    if d[0:3]==\"TMd\":continue   \n",
    "        \n",
    "    #if d!=\"N1-merged\":continue   \n",
    "    #print (d)\n",
    "    df_merged = pd.merge(data_max[datasets[0]],data_max[d], on=['code'],how=\"inner\")\n",
    "    #print (df_merged)\n",
    "    #newdf=df_merged[\"dockQ_x\",\"dockQ_y\"]  #.loc[(df_merged.dockQ_x>cutoff or df_merged.dockQ_y>cutoff) ]\n",
    "    plt.scatter(df_merged.dockQ_x,df_merged.dockQ_y,label=d)\n",
    "    for i, txt in enumerate(df_merged.name_x):\n",
    "        #print (i,txt)\n",
    "        try: \n",
    "            sstr=txt[0:4]\n",
    "        except:\n",
    "            sstr=df_merged.name_y[i][0:4]\n",
    "        if (df_merged.dockQ_x[i]> cutoff or df_merged.dockQ_y[i]>cutoff):\n",
    "            ax.annotate(sstr, (df_merged.dockQ_x[i], df_merged.dockQ_y[i]))\n",
    "x=[0,0.6]\n",
    "y=[0,0.6]\n",
    "plt.plot(x,y)\n",
    "ax.legend()\n",
    "ax.set_title(\"DockQ scores (best)  \")\n",
    "ax.set_xlabel(\"dockQ \"+str(datasets[0]))\n",
    "ax.set_ylabel(\"dockQ\")\n",
    "\n",
    "#cat.add_categories([1])\n",
    "#df_merged.fillna(0, inplace =True)"
   ]
  },
  {
   "cell_type": "code",
   "execution_count": null,
   "metadata": {
    "collapsed": false
   },
   "outputs": [],
   "source": [
    "data_max.keys()"
   ]
  },
  {
   "cell_type": "code",
   "execution_count": null,
   "metadata": {
    "collapsed": false
   },
   "outputs": [],
   "source": [
    "cutoff=0.23\n",
    "f, ax = plt.subplots(figsize=(6.5, 6.5))\n",
    "for d in [\"N1-N3-new\",\"TMdock-double\"]:\n",
    "    #if d!=\"N1-merged\":continue   \n",
    "    #print (d)\n",
    "    df_merged = pd.merge(data_first[\"gramm\"],data_first[d], on=['code'],how=\"inner\")\n",
    "    #print (df_merged)\n",
    "    #newdf=df_merged[\"dockQ_x\",\"dockQ_y\"]  #.loc[(df_merged.dockQ_x>cutoff or df_merged.dockQ_y>cutoff) ]\n",
    "    plt.scatter(df_merged.dockQ_x,df_merged.dockQ_y,label=d)\n",
    "    for i, txt in enumerate(df_merged.name_x):\n",
    "        #print (i,txt)\n",
    "        try: \n",
    "            sstr=txt[0:4]\n",
    "        except:\n",
    "            sstr=df_merged.name_y[i][0:4]\n",
    "        if (df_merged.dockQ_x[i]> cutoff or df_merged.dockQ_y[i]>cutoff):\n",
    "            ax.annotate(sstr, (df_merged.dockQ_x[i], df_merged.dockQ_y[i]))\n",
    "x=[0,1.0]\n",
    "y=[0,1.0]\n",
    "plt.plot(x,y)\n",
    "ax.legend()\n",
    "ax.set_title(\"DockQ scores (first)  \")\n",
    "ax.set_xlabel(\"dockQ - gramm\")\n",
    "ax.set_ylabel(\"dockQ \")\n",
    "\n",
    "plt.savefig(\"tr-tn-gramm.png\")\n",
    "#cat.add_categories([1])\n",
    "#df_merged.fillna(0, inplace =True)"
   ]
  },
  {
   "cell_type": "code",
   "execution_count": null,
   "metadata": {
    "collapsed": false
   },
   "outputs": [],
   "source": [
    "selset=['-N 3 --cpu 8', '-N 1 -E 1.e-100 --cpu 8', '-N 1 -E 1.e-2 ',  '-N 1 -E 1.e-10 --cpu 8 ',  '-N 3 --incE 1.e-2', '-N 5 --cpu 8']\n",
    "#codes=df_max.loc[df_max.params.isin(selset)][\"CODE\"].unique()\n",
    "f, ax = plt.subplots(figsize=(6.5, 6.5))\n",
    "tempdf=df.loc[(df.JHparams.isin(selset))]\n",
    "plt.scatter(tempdf.msa,tempdf.dockQ)\n",
    "plt.savefig(\"msa-dockq-scatter.png\")\n",
    "sns_plot=sns.jointplot(data=tempdf,x=\"msa\",y=\"dockQ\")\n",
    "sns_plot.savefig(\"msa-dockq.png\")\n"
   ]
  },
  {
   "cell_type": "code",
   "execution_count": null,
   "metadata": {
    "collapsed": false
   },
   "outputs": [],
   "source": [
    "tempdf=df.loc[(df.JHparams.isin(selset))]\n",
    "plt.scatter(tempdf.msa,tempdf.tmA)\n",
    "#print (tempdf[\"msaA\"])\n",
    "#tempdf[\"logmsaA\"]=np.log10(tempdf[\"msa\"]+0.0000001)\n",
    "plt.savefig(\"msa-tm-scatter.png\")\n",
    "sns_plot=sns.jointplot(data=tempdf,x=\"msa\",y=\"tmA\")\n",
    "sns_plot.savefig(\"msa-tm.png\")\n"
   ]
  },
  {
   "cell_type": "code",
   "execution_count": null,
   "metadata": {
    "collapsed": false
   },
   "outputs": [],
   "source": [
    "cutoff=0.23\n",
    "f, ax = plt.subplots(figsize=(6.5, 6.5))\n",
    "for d in [\"trRosetta\",\"TMdock-double\"]:\n",
    "    #if d!=\"N1-merged\":continue   \n",
    "    #print (d)\n",
    "    df_merged = pd.merge(data_max[\"gramm\"],data_max[d], on=['code'],how=\"inner\")\n",
    "    #print (df_merged)\n",
    "    #newdf=df_merged[\"dockQ_x\",\"dockQ_y\"]  #.loc[(df_merged.dockQ_x>cutoff or df_merged.dockQ_y>cutoff) ]\n",
    "    plt.scatter(df_merged.dockQ_x,df_merged.dockQ_y,label=d)\n",
    "    for i, txt in enumerate(df_merged.name_x):\n",
    "        #print (i,txt)\n",
    "        try: \n",
    "            sstr=txt[0:4]\n",
    "        except:\n",
    "            sstr=df_merged.name_y[i][0:4]\n",
    "        if (df_merged.dockQ_x[i]> cutoff or df_merged.dockQ_y[i]>cutoff):\n",
    "            ax.annotate(sstr, (df_merged.dockQ_x[i], df_merged.dockQ_y[i]))\n",
    "x=[0,1.0]\n",
    "y=[0,1.0]\n",
    "plt.plot(x,y)\n",
    "ax.legend()\n",
    "ax.set_title(\"DockQ scores (best)  \")\n",
    "ax.set_xlabel(\"dockQ - gramm\")\n",
    "ax.set_ylabel(\"dockQ \")\n",
    "\n",
    "plt.savefig(\"tr-tn-gramm-best.png\")\n"
   ]
  },
  {
   "cell_type": "code",
   "execution_count": null,
   "metadata": {
    "collapsed": false
   },
   "outputs": [],
   "source": [
    "# FInd best method for each model.\n",
    "selset=[\"gramm\",\"TMdock-double\",\"trRosetta\"]\n",
    "#codes=df_max.loc[df_max.params.isin(selset)][\"CODE\"].unique()\n",
    "f, ax = plt.subplots(figsize=(6.5, 6.5))\n",
    "tempdf=df.loc[(df.JHparams.isin(selset))&(df.rank==1)]\n",
    "\n",
    "#best_df=newdf.sort_values(\"dockQ\", ascending=False)\n",
    "best_df=tempdf.sort_values('dockQ', ascending=False).drop_duplicates(['code']).reset_index()\n",
    "best_df.sort_values(\"JHparams\")\n",
    "\n",
    "good_df=newdf.loc[(newdf.code.isin(codes))&(newdf.JHparams.isin(selset))].reset_index()\n",
    "#plt.scatter(good_df.dockQ,good_df.JHparams,color=\"grey\")\n",
    "#plt.scatter(best_df.dockQ,best_df.JHparams,color=\"red\")\n",
    "\n",
    "\n",
    "all_df=df_max.loc[(df_max.CODE.isin(codes))&(df_max.params.isin(selset))].reset_index()\n",
    "plt.scatter(all_df.dockQ,all_df.JHparams,color=\"red\")\n",
    "\n",
    "#cc=np.corrcoef(newdf.dockQ,newdf.len)\n",
    "#ax.legend()\n",
    "ax.set_title(\"Best models\")\n",
    "ax.set_ylabel(\"Method\")\n",
    "ax.set_xlabel(\"dockQ\")\n",
    "ax.set(xlim=[0,1])\n",
    "done={}\n",
    "average={}\n",
    "length={}\n",
    "pos=[]\n",
    "i=0\n",
    "data=[]\n",
    "for d in sorted(selset):\n",
    "    done[d]=0\n",
    "    average[d]=df_max.loc[df_max.CODE.isin(codes)&(df_max.params==d)][\"dockQ\"].mean()\n",
    "    length[d]=len(df_max.loc[df_max.CODE.isin(codes)&(df_max.params==d)][\"dockQ\"])\n",
    "    pos+=[i]\n",
    "    data+=[df_max.loc[df_max.CODE.isin(codes)&(df_max.params==d)][\"dockQ\"]]\n",
    "    i+=1\n",
    "    print (d)\n",
    "    \n",
    "print (data)    \n",
    "ax.violinplot(data,pos, points=80, vert=False, widths=0.7,\n",
    "                      showmeans=True, showextrema=True, showmedians=False)    \n",
    "for i, txt in enumerate(all_df.name):\n",
    "    #print (i,txt)\n",
    "    sstr=txt[0:4]\n",
    "    #ax.annotate(sstr, (newdf.dockQ[i], newdf.JHparams[i]))\n",
    "    #numhit=len(best_df.loc[best_df.JHparams==best_df.JHparams[i]])\n",
    "    #print (numhit,newdf.JHparams[i])\n",
    "    if done[all_df.JHparams[i]]==0:\n",
    "        done[all_df.JHparams[i]]=1\n",
    "        #ax.annotate(str(numhit),(.0, best_df.JHparams[i]))\n",
    "        ax.annotate(str(round(average[all_df.JHparams[i]],3))+\"(\"+str(length[all_df.JHparams[i]])+\")\"\n",
    "                    ,(1.0, all_df.JHparams[i]))\n",
    "#sns.jointplot(data=df_merged,x=\n",
    "\n",
    "plt.savefig(\"tm-tr-gramm-best-violin.png\")\n"
   ]
  },
  {
   "cell_type": "code",
   "execution_count": null,
   "metadata": {
    "collapsed": false
   },
   "outputs": [],
   "source": [
    "# FInd best method for each model.\n",
    "selset=[\"gramm\",\"TMdock-double\",\"N1-N3-new\"]\n",
    "#codes=df_max.loc[df_max.params.isin(selset)][\"CODE\"].unique()\n",
    "f, ax = plt.subplots(figsize=(6.5, 6.5))\n",
    "tempdf=df.loc[(df.JHparams.isin(selset))&(df.rank==1)]\n",
    "\n",
    "#best_df=newdf.sort_values(\"dockQ\", ascending=False)\n",
    "best_df=tempdf.sort_values('dockQ', ascending=False).drop_duplicates(['code']).reset_index()\n",
    "best_df.sort_values(\"JHparams\")\n",
    "\n",
    "good_df=newdf.loc[(newdf.code.isin(codes))&(newdf.JHparams.isin(selset))].reset_index()\n",
    "#plt.scatter(good_df.dockQ,good_df.JHparams,color=\"grey\")\n",
    "#plt.scatter(best_df.dockQ,best_df.JHparams,color=\"red\")\n",
    "\n",
    "\n",
    "all_df=df_first.loc[(df_first.CODE.isin(codes))&(df_first.params.isin(selset))].reset_index()\n",
    "plt.scatter(all_df.dockQ,all_df.JHparams,color=\"red\")\n",
    "\n",
    "#cc=np.corrcoef(newdf.dockQ,newdf.len)\n",
    "#ax.legend()\n",
    "ax.set_title(\"First ranked models\")\n",
    "ax.set_ylabel(\"Method\")\n",
    "ax.set_xlabel(\"dockQ\")\n",
    "ax.set(xlim=[0,1])\n",
    "done={}\n",
    "average={}\n",
    "length={}\n",
    "pos=[]\n",
    "i=0\n",
    "data=[]\n",
    "for d in sorted(selset):\n",
    "    done[d]=0\n",
    "    average[d]=all_df.loc[all_df.CODE.isin(codes)&(all_df.params==d)][\"dockQ\"].mean()\n",
    "    length[d]=len(all_df.loc[all_df.CODE.isin(codes)&(all_df.params==d)][\"dockQ\"])\n",
    "    pos+=[i]\n",
    "    data+=[all_df.loc[all_df.CODE.isin(codes)&(all_df.params==d)][\"dockQ\"]]\n",
    "    i+=1\n",
    "    print (d)\n",
    "print (data)    \n",
    "ax.violinplot(data,pos)\n",
    "#, points=80, vert=False, widths=0.7,\n",
    "#                      showmeans=True, showextrema=True, showmedians=False)    \n",
    "for i, txt in enumerate(all_df.name):\n",
    "    #print (i,txt)\n",
    "    sstr=txt[0:4]\n",
    "    #ax.annotate(sstr, (newdf.dockQ[i], newdf.JHparams[i]))\n",
    "    #numhit=len(best_df.loc[best_df.JHparams==best_df.JHparams[i]])\n",
    "    #print (numhit,newdf.JHparams[i])\n",
    "    if done[all_df.JHparams[i]]==0:\n",
    "        done[all_df.JHparams[i]]=1\n",
    "        #ax.annotate(str(numhit),(.0, best_df.JHparams[i]))\n",
    "        ax.annotate(str(round(average[all_df.JHparams[i]],3))+\"(\"+str(length[all_df.JHparams[i]])+\")\"\n",
    "                    ,(1.0, all_df.JHparams[i]))\n",
    "#sns.jointplot(data=df_merged,x=\n",
    "\n",
    "plt.savefig(\"tm-tr-gramm-violin.png\")\n"
   ]
  },
  {
   "cell_type": "code",
   "execution_count": null,
   "metadata": {
    "collapsed": false
   },
   "outputs": [],
   "source": [
    "cutoff=0.2\n",
    "f, ax = plt.subplots(figsize=(6.5, 6.5))\n",
    "for d in [\"trRosetta\"]:\n",
    "    #if d!=\"N1-merged\":continue   \n",
    "    #print (d)\n",
    "    df_merged = pd.merge(data_max[\"gramm\"],data_max[d], on=['code'],how=\"inner\")\n",
    "    #print (df_merged)\n",
    "    #newdf=df_merged[\"dockQ_x\",\"dockQ_y\"]  #.loc[(df_merged.dockQ_x>cutoff or df_merged.dockQ_y>cutoff) ]\n",
    "    plt.scatter(df_merged.dockQ_x,df_merged.dockQ_y,label=d)\n",
    "    for i, txt in enumerate(df_merged.name_x):\n",
    "        #print (i,txt)\n",
    "        try: \n",
    "            sstr=txt[0:4]\n",
    "        except:\n",
    "            sstr=df_merged.name_y[i][0:4]\n",
    "        if (df_merged.dockQ_x[i]> cutoff or df_merged.dockQ_y[i]>cutoff):\n",
    "            ax.annotate(sstr, (df_merged.dockQ_x[i], df_merged.dockQ_y[i]))\n",
    "x=[0,1.0]\n",
    "y=[0,1.0]\n",
    "plt.plot(x,y)\n",
    "ax.legend()\n",
    "ax.set_title(\"DockQ scores (best)  \")\n",
    "ax.set_xlabel(\"dockQ - gramm\")\n",
    "ax.set_ylabel(\"dockQ \")\n",
    "\n",
    "#cat.add_categories([1])\n",
    "#df_merged.fillna(0, inplace =True)"
   ]
  },
  {
   "cell_type": "code",
   "execution_count": null,
   "metadata": {
    "collapsed": false
   },
   "outputs": [],
   "source": [
    "d=\"TMdock\"\n",
    "foo=pd.merge(data_first[\"gramm\"],data_first[d], on=['code'],how=\"inner\")\n",
    "data_first[d].dockQ\n",
    "foo[[\"dockQ_x\",\"dockQ_y\"]]\n",
    "#cc=np.corrcoef(foo.dockQ_x,foo.dockQ_y)\n",
    "\n",
    "foo.dockQ_y.isna().unique()\n",
    "data_first[d].dockQ.isna().unique()"
   ]
  },
  {
   "cell_type": "code",
   "execution_count": null,
   "metadata": {
    "collapsed": false
   },
   "outputs": [],
   "source": [
    "cutoff=0.1\n",
    "#f, ax = plt.subplots(figsize=(6.5, 6.5))\n",
    "for d in [\"TMdock-double\",\"trRosetta\"]:\n",
    "    #if d!=\"N1-merged\":continue   \n",
    "    print (d)\n",
    "    df_merged = pd.merge(data_first[\"gramm\"],data_first[d], on=['code'],how=\"inner\")\n",
    "    #print (df_merged)\n",
    "    #newdf=df_merged[\"dockQ_x\",\"dockQ_y\"]  #.loc[(df_merged.dockQ_x>cutoff or df_merged.dockQ_y>cutoff) ]\n",
    "    plt.scatter(df_merged.dockQ_x,df_merged.dockQ_y,label=d)\n",
    "    #sns.jointplot(x=\"dockQ_x\", y=\"dockQ_y\", data=df_merged)\n",
    "    print(df_merged.dockQ_x.shape[0],df_merged.dockQ_y.shape[0])\n",
    "    #cc=np.corrcoef(df_merged.dockQ_x,df_merged.dockQ_x)\n",
    "    #print (cc)\n",
    "    for i, txt in enumerate(df_merged.name_x):\n",
    "        #print (i,txt)\n",
    "        try: \n",
    "            sstr=txt[0:4]\n",
    "        except:\n",
    "            sstr=df_merged.name_y[i][0:4]\n",
    "        if (df_merged.dockQ_x[i]> cutoff or df_merged.dockQ_y[i]>cutoff):\n",
    "            ax.annotate(sstr, (df_merged.dockQ_x[i], df_merged.dockQ_y[i]))\n",
    "x=[0,1.0]\n",
    "y=[0,1.0]\n",
    "plt.plot(x,y)\n",
    "ax.legend()\n",
    "ax.set_title(\"dockQ scores (first model) \") #, CC=\" + str(round(cc[0,1],3)) )\n",
    "ax.set_xlabel(\"dockQ Gramm\")\n",
    "ax.set_ylabel(\"dockQ TMdock\")\n",
    "\n",
    "#cat.add_categories([1])\n",
    "#df_merged.fillna(0, inplace =True)"
   ]
  },
  {
   "cell_type": "code",
   "execution_count": null,
   "metadata": {
    "collapsed": false
   },
   "outputs": [],
   "source": [
    "cutoff=0.1\n",
    "#f, ax = plt.subplots(figsize=(6.5, 6.5))\n",
    "for d in [\"TMdock-nohomology\"]:\n",
    "    #if d!=\"N1-merged\":continue   \n",
    "    #print (d)\n",
    "    df_merged = pd.merge(data_first[\"gramm\"],data_first[d], on=['code'],how=\"inner\")\n",
    "    #print (df_merged)\n",
    "    #newdf=df_merged[\"dockQ_x\",\"dockQ_y\"]  #.loc[(df_merged.dockQ_x>cutoff or df_merged.dockQ_y>cutoff) ]\n",
    "    plt.scatter(df_merged.dockQ_x,df_merged.dockQ_y,label=d)\n",
    "    #sns.jointplot(x=\"dockQ_x\", y=\"dockQ_y\", data=df_merged)\n",
    "    #cc=np.corrcoef(df_merged.dockQ_y,df_merged.dockQ_y)\n",
    "    #print (cc)\n",
    "    for i, txt in enumerate(df_merged.name_x):\n",
    "        #print (i,txt)\n",
    "        try: \n",
    "            sstr=txt[0:4]\n",
    "        except:\n",
    "            sstr=df_merged.name_y[i][0:4]\n",
    "        if (df_merged.dockQ_x[i]> cutoff or df_merged.dockQ_y[i]>cutoff):\n",
    "            ax.annotate(sstr, (df_merged.dockQ_x[i], df_merged.dockQ_y[i]))\n",
    "x=[0,1.0]\n",
    "y=[0,1.0]\n",
    "plt.plot(x,y)\n",
    "ax.legend()\n",
    "ax.set_title(\"dockQ scores (first model), CC=\" + str(round(cc[0,1],3)) )\n",
    "ax.set_xlabel(\"dockQ Gramm\")\n",
    "ax.set_ylabel(\"dockQ TMdock-nohomology\")\n",
    "\n",
    "#cat.add_categories([1])\n",
    "#df_merged.fillna(0, inplace =True)"
   ]
  },
  {
   "cell_type": "code",
   "execution_count": null,
   "metadata": {
    "collapsed": false
   },
   "outputs": [],
   "source": [
    "cutoff=0.2\n",
    "f, ax = plt.subplots(figsize=(6.5, 6.5))\n",
    "for d in [\"TMdock-double\"]:\n",
    "    #if d!=\"N1-merged\":continue   \n",
    "    #print (d)\n",
    "    df_merged = pd.merge(data_max[\"gramm\"],data_max[d], on=['code'],how=\"inner\")\n",
    "    #print (df_merged)\n",
    "    #newdf=df_merged[\"dockQ_x\",\"dockQ_y\"]  #.loc[(df_merged.dockQ_x>cutoff or df_merged.dockQ_y>cutoff) ]\n",
    "    cc=np.corrcoef(df_merged.dockQ_x,df_merged.dockQ_y)\n",
    "    #print (cc)\n",
    "    \n",
    "    \n",
    "    plt.scatter(df_merged.dockQ_x,df_merged.dockQ_y,label=d)\n",
    "    for i, txt in enumerate(df_merged.name_x):\n",
    "        #print (i,txt)\n",
    "        try: \n",
    "            sstr=txt[0:4]\n",
    "        except:\n",
    "            sstr=df_merged.name_y[i][0:4]\n",
    "        if (df_merged.dockQ_x[i]> cutoff or df_merged.dockQ_y[i]>cutoff):\n",
    "            ax.annotate(sstr, (df_merged.dockQ_x[i], df_merged.dockQ_y[i]))\n",
    "x=[0,0.9]\n",
    "y=[0,0.9]\n",
    "plt.plot(x,y)\n",
    "ax.legend()\n",
    "ax.set_title(\"dockQ scores (best model))\" )\n",
    "ax.set_xlabel(\"dockQ Gramm\")\n",
    "ax.set_ylabel(\"dockQ TMdock\")\n",
    "\n",
    "#cat.add_categories([1])\n",
    "#df_merged.fillna(0, inplace =True)"
   ]
  },
  {
   "cell_type": "code",
   "execution_count": null,
   "metadata": {
    "collapsed": false,
    "scrolled": true
   },
   "outputs": [],
   "source": [
    "cutoff=0.2\n",
    "f, ax = plt.subplots(figsize=(6.5, 6.5))\n",
    "for d in [\"trRosetta\",\"TMdock-double\"]:\n",
    "    #if d!=\"N1-merged\":continue   \n",
    "    #print (d)\n",
    "    df_merged = pd.merge(data_max[\"gramm\"],data_max[d], on=['code'],how=\"inner\")\n",
    "    #print (df_merged)\n",
    "    #newdf=df_merged[\"dockQ_x\",\"dockQ_y\"]  #.loc[(df_merged.dockQ_x>cutoff or df_merged.dockQ_y>cutoff) ]\n",
    "    cc=np.corrcoef(df_merged.dockQ_x,df_merged.dockQ_y)\n",
    "    #print (cc)\n",
    "    \n",
    "    \n",
    "    plt.scatter(df_merged.dockQ_x,df_merged.dockQ_y,label=d)\n",
    "    for i, txt in enumerate(df_merged.name_x):\n",
    "        #print (i,txt)\n",
    "        try: \n",
    "            sstr=txt[0:4]\n",
    "        except:\n",
    "            sstr=df_merged.name_y[i][0:4]\n",
    "        #if (sstr==\"3qc8\" or sstr==\"2hqs\" or sstr==\"3bs5\" ):\n",
    "        if (sstr==\"1ay7\" ):\n",
    "            #if (df_merged.dockQ_y[i]> cutoff and (df_merged.dockQ_y[i]>df_merged.dockQ_x[i])):\n",
    "            ax.annotate(sstr, (df_merged.dockQ_x[i], df_merged.dockQ_y[i]))\n",
    "x=[0,0.9]\n",
    "y=[0,0.9]\n",
    "plt.plot(x,y)\n",
    "ax.legend()\n",
    "ax.set_title(\"dockQ scores (best model)\") \n",
    "ax.set_xlabel(\"dockQ Gramm\")\n",
    "ax.set_ylabel(\"dockQ\")\n",
    "\n",
    "#cat.add_categories([1])\n",
    "#df_merged.fillna(0, inplace =True)"
   ]
  },
  {
   "cell_type": "code",
   "execution_count": null,
   "metadata": {
    "collapsed": false
   },
   "outputs": [],
   "source": [
    "df_merged = df_max[df_max[\"params\"].isin([\"trRosetta\",\"gramm\",\"TMdock-double\"])]\n",
    "df_merged.sort_values(\"dockQ\")"
   ]
  },
  {
   "cell_type": "code",
   "execution_count": null,
   "metadata": {
    "collapsed": false,
    "scrolled": true
   },
   "outputs": [],
   "source": [
    "len(df_merged.loc[df_merged.dockQ>0.2][\"CODE\"].unique())"
   ]
  },
  {
   "cell_type": "code",
   "execution_count": null,
   "metadata": {
    "collapsed": false,
    "scrolled": true
   },
   "outputs": [],
   "source": [
    "len(df_merged.loc[(df_merged.params==\"trRosetta\")&(df_merged.dockQ>0.2 )][\"CODE\"].unique())"
   ]
  },
  {
   "cell_type": "code",
   "execution_count": null,
   "metadata": {
    "collapsed": false,
    "scrolled": true
   },
   "outputs": [],
   "source": [
    "len(df_merged.loc[(df_merged.params==\"gramm\")&(df_merged.dockQ>0.2 )][\"CODE\"].unique())"
   ]
  },
  {
   "cell_type": "code",
   "execution_count": null,
   "metadata": {
    "collapsed": false,
    "scrolled": true
   },
   "outputs": [],
   "source": [
    "len(df_merged.loc[(df_merged.params==\"TMdock-double\")&(df_merged.dockQ>0.2 )][\"CODE\"].unique())"
   ]
  },
  {
   "cell_type": "code",
   "execution_count": null,
   "metadata": {
    "collapsed": false,
    "scrolled": true
   },
   "outputs": [],
   "source": [
    "len(df_merged[\"CODE\"].unique())"
   ]
  },
  {
   "cell_type": "code",
   "execution_count": null,
   "metadata": {
    "collapsed": false
   },
   "outputs": [],
   "source": [
    "df.loc[df.params==\"TMdock-double\"].sort_values(\"dockQ\")"
   ]
  },
  {
   "cell_type": "code",
   "execution_count": null,
   "metadata": {
    "collapsed": false
   },
   "outputs": [],
   "source": [
    "df_merged.groupby([\"CODE\"]).median().sort_values(\"dockQ\")\n"
   ]
  },
  {
   "cell_type": "code",
   "execution_count": null,
   "metadata": {
    "collapsed": false
   },
   "outputs": [],
   "source": []
  },
  {
   "cell_type": "code",
   "execution_count": null,
   "metadata": {
    "collapsed": false
   },
   "outputs": [],
   "source": []
  },
  {
   "cell_type": "code",
   "execution_count": null,
   "metadata": {
    "collapsed": false
   },
   "outputs": [],
   "source": [
    "cutoff=0.2\n",
    "f, ax = plt.subplots(figsize=(6.5, 6.5))\n",
    "for d in [\"TMdock-double\"]:\n",
    "    #if d!=\"N1-merged\":continue   \n",
    "    #print (d)\n",
    "    df_merged = pd.merge(data_first[\"gramm\"],data_first[d], on=['code'],how=\"inner\")\n",
    "    #print (df_merged)\n",
    "    #newdf=df_merged[\"dockQ_x\",\"dockQ_y\"]  #.loc[(df_merged.dockQ_x>cutoff or df_merged.dockQ_y>cutoff) ]\n",
    "    #cc=np.corrcoef(df_merged.dockQ_x,df_merged.dockQ_y)\n",
    "    #print (cc)\n",
    "    \n",
    "    \n",
    "    plt.scatter(df_merged.dockQ_x,df_merged.dockQ_y,label=d)\n",
    "    for i, txt in enumerate(df_merged.name_x):\n",
    "        #print (i,txt)\n",
    "        try: \n",
    "            sstr=txt[0:4]\n",
    "        except:\n",
    "            sstr=df_merged.name_y[i][0:4]\n",
    "        if (df_merged.dockQ_x[i]> cutoff or df_merged.dockQ_y[i]>cutoff):\n",
    "            ax.annotate(sstr, (df_merged.dockQ_x[i], df_merged.dockQ_y[i]))\n",
    "x=[0,0.9]\n",
    "y=[0,0.9]\n",
    "plt.plot(x,y)\n",
    "ax.legend()\n",
    "ax.set_title(\"dockQ scores (first model), CC=\" + str(round(cc[0,1],3)) )\n",
    "ax.set_xlabel(\"dockQ Gramm\")\n",
    "ax.set_ylabel(\"dockQ TMdock\")\n",
    "\n",
    "#cat.add_categories([1])\n",
    "#df_merged.fillna(0, inplace =True)"
   ]
  },
  {
   "cell_type": "code",
   "execution_count": null,
   "metadata": {
    "collapsed": false
   },
   "outputs": [],
   "source": [
    "cutoff=0.2\n",
    "f, ax = plt.subplots(figsize=(6.5, 6.5))\n",
    "for d in [\"TMdock-double\"]:\n",
    "    #if d!=\"N1-merged\":continue   \n",
    "    #print (d)\n",
    "    df_merged = pd.merge(data_max[\"TMdock-nohomology\"],data_max[d], on=['code'],how=\"inner\")\n",
    "    #print (df_merged)\n",
    "    #newdf=df_merged[\"dockQ_x\",\"dockQ_y\"]  #.loc[(df_merged.dockQ_x>cutoff or df_merged.dockQ_y>cutoff) ]\n",
    "    cc=np.corrcoef(df_merged.dockQ_x,df_merged.dockQ_y)\n",
    "    #print (cc)\n",
    "    \n",
    "    \n",
    "    plt.scatter(df_merged.dockQ_x,df_merged.dockQ_y,label=d)\n",
    "    for i, txt in enumerate(df_merged.name_x):\n",
    "        #print (i,txt)\n",
    "        try: \n",
    "            sstr=txt[0:4]\n",
    "        except:\n",
    "            sstr=df_merged.name_y[i][0:4]\n",
    "        if (df_merged.dockQ_x[i]> cutoff or df_merged.dockQ_y[i]>cutoff):\n",
    "            ax.annotate(sstr, (df_merged.dockQ_x[i], df_merged.dockQ_y[i]))\n",
    "x=[0,0.9]\n",
    "y=[0,0.9]\n",
    "plt.plot(x,y)\n",
    "ax.legend()\n",
    "ax.set_title(\"dockQ scores (frst model), CC=\" + str(round(cc[0,1],3)) )\n",
    "ax.set_xlabel(\"dockQ TMdock-nohomology\")\n",
    "ax.set_ylabel(\"dockQ TMdock \"+d)\n",
    "\n",
    "#cat.add_categories([1])\n",
    "#df_merged.fillna(0, inplace =True)"
   ]
  },
  {
   "cell_type": "code",
   "execution_count": null,
   "metadata": {
    "collapsed": false
   },
   "outputs": [],
   "source": [
    "cutoff=0.2\n",
    "f, ax = plt.subplots(figsize=(6.5, 6.5))\n",
    "for d in [\"trRosetta\"]:\n",
    "    #if d!=\"N1-merged\":continue   \n",
    "    #print (d)\n",
    "    df_merged = pd.merge(data_max[\"TMdock\"],data_max[d], on=['code'],how=\"inner\")\n",
    "    #print (df_merged)\n",
    "    #newdf=df_merged[\"dockQ_x\",\"dockQ_y\"]  #.loc[(df_merged.dockQ_x>cutoff or df_merged.dockQ_y>cutoff) ]\n",
    "    cc=np.corrcoef(df_merged.dockQ_x,df_merged.dockQ_y)\n",
    "    #print (cc)\n",
    "    \n",
    "    \n",
    "    plt.scatter(df_merged.dockQ_x,df_merged.dockQ_y,label=d)\n",
    "    for i, txt in enumerate(df_merged.name_x):\n",
    "        #print (i,txt)\n",
    "        try: \n",
    "            sstr=txt[0:4]\n",
    "        except:\n",
    "            sstr=df_merged.name_y[i][0:4]\n",
    "        if (df_merged.dockQ_x[i]> cutoff or df_merged.dockQ_y[i]>cutoff):\n",
    "            ax.annotate(sstr, (df_merged.dockQ_x[i], df_merged.dockQ_y[i]))\n",
    "x=[0,0.9]\n",
    "y=[0,0.9]\n",
    "plt.plot(x,y)\n",
    "ax.legend()\n",
    "ax.set_title(\"dockQ scores (best model), CC=\" + str(round(cc[0,1],3)) )\n",
    "ax.set_xlabel(\"dockQ TMdock\")\n",
    "ax.set_ylabel(\"dockQ TMdock \"+d)\n",
    "\n",
    "#cat.add_categories([1])\n",
    "#df_merged.fillna(0, inplace =True)"
   ]
  },
  {
   "cell_type": "code",
   "execution_count": null,
   "metadata": {
    "collapsed": false,
    "scrolled": true
   },
   "outputs": [],
   "source": [
    "cutoff=1.0\n",
    "f, ax = plt.subplots(figsize=(6.5, 6.5))\n",
    "r=re.compile(\"^PDB|^pdb\")\n",
    "pdbset=list(filter(r.match, datasets))\n",
    "pdbset=[\"pdbconfold\"]\n",
    "\n",
    "for d in pdbset:\n",
    "    #if d!=\"N1-merged\":continue   \n",
    "    #print (d)\n",
    "    if d==\"pdbcontacts-new\":continue\n",
    "    df_merged = pd.merge(data_max[\"pdbcontacts-new\"],data_max[d], on=['code'],how=\"inner\")\n",
    "    #print (df_merged)\n",
    "    #newdf=df_merged[\"dockQ_x\",\"dockQ_y\"]  #.loc[(df_merged.dockQ_x>cutoff or df_merged.dockQ_y>cutoff) ]\n",
    "    cc=np.corrcoef(df_merged.dockQ_x,df_merged.dockQ_y)\n",
    "    #print (cc)\n",
    "    \n",
    "    \n",
    "    plt.scatter(df_merged.dockQ_x,df_merged.dockQ_y,label=d)\n",
    "    for i, txt in enumerate(df_merged.name_x):\n",
    "        #print (i,txt)\n",
    "        try: \n",
    "            sstr=txt[0:4]\n",
    "        except:\n",
    "            sstr=df_merged.name_y[i][0:4]\n",
    "        if (df_merged.dockQ_x[i]> cutoff or df_merged.dockQ_y[i]>cutoff):\n",
    "            ax.annotate(sstr, (df_merged.dockQ_x[i], df_merged.dockQ_y[i]))\n",
    "x=[0,0.9]\n",
    "y=[0,0.9]\n",
    "plt.plot(x,y)\n",
    "ax.legend()\n",
    "ax.set_title(\"dockQ scores (frst model), CC=\" + str(round(cc[0,1],3)) )\n",
    "ax.set_xlabel(\"dockQ \")\n",
    "ax.set_ylabel(\"dockQ  \"+d)\n",
    "plt.savefig(\"pdbconfold.png\")\n",
    "#cat.add_categories([1])\n",
    "#df_merged.fillna(0, inplace =True)"
   ]
  },
  {
   "cell_type": "code",
   "execution_count": null,
   "metadata": {
    "collapsed": false,
    "scrolled": true
   },
   "outputs": [],
   "source": [
    "cutoff=0.2\n",
    "f, ax = plt.subplots(figsize=(6.5, 6.5))\n",
    "r=re.compile(\".*step1.*\")\n",
    "pdbset=list(filter(r.match, datasets))\n",
    "\n",
    "for d in pdbset:\n",
    "    #if d!=\"N1-merged\":continue   \n",
    "    #print (d)\n",
    "    if d==\"pdbcontacts\":continue\n",
    "    df_merged = pd.merge(data_max[\"pdbcontacts\"],data_max[d], on=['code'],how=\"inner\")\n",
    "    #print (df_merged)\n",
    "    #newdf=df_merged[\"dockQ_x\",\"dockQ_y\"]  #.loc[(df_merged.dockQ_x>cutoff or df_merged.dockQ_y>cutoff) ]\n",
    "    cc=np.corrcoef(df_merged.dockQ_x,df_merged.dockQ_y)\n",
    "    #print (cc)\n",
    "    \n",
    "    \n",
    "    plt.scatter(df_merged.dockQ_x,df_merged.dockQ_y,label=d)\n",
    "    for i, txt in enumerate(df_merged.name_x):\n",
    "        #print (i,txt)\n",
    "        try: \n",
    "            sstr=txt[0:4]\n",
    "        except:\n",
    "            sstr=df_merged.name_y[i][0:4]\n",
    "        if (df_merged.dockQ_x[i]> cutoff or df_merged.dockQ_y[i]>cutoff):\n",
    "            ax.annotate(sstr, (df_merged.dockQ_x[i], df_merged.dockQ_y[i]))\n",
    "x=[0,0.9]\n",
    "y=[0,0.9]\n",
    "plt.plot(x,y)\n",
    "ax.legend()\n",
    "ax.set_title(\"dockQ scores (frst model), CC=\" + str(round(cc[0,1],3)) )\n",
    "ax.set_xlabel(\"dockQ \")\n",
    "ax.set_ylabel(\"dockQ  \"+d)\n",
    "\n",
    "#cat.add_categories([1])\n",
    "#df_merged.fillna(0, inplace =True)"
   ]
  },
  {
   "cell_type": "code",
   "execution_count": null,
   "metadata": {
    "collapsed": false,
    "scrolled": true
   },
   "outputs": [],
   "source": [
    "cutoff=0.2\n",
    "f, ax = plt.subplots(figsize=(6.5, 6.5))\n",
    "r=re.compile(\"pdbconfold\")\n",
    "pdbset=list(filter(r.match, datasets))\n",
    "pdbset=[\"PDB\"]\n",
    "\n",
    "for d in pdbset:\n",
    "    #if d!=\"N1-merged\":continue   \n",
    "    #print (d)\n",
    "    if d==\"pdbcontacts\":continue\n",
    "    df_merged = pd.merge(data_max[\"pdbcontacts\"],data_max[d], on=['code'],how=\"inner\")\n",
    "    #print (df_merged)\n",
    "    #newdf=df_merged[\"dockQ_x\",\"dockQ_y\"]  #.loc[(df_merged.dockQ_x>cutoff or df_merged.dockQ_y>cutoff) ]\n",
    "    cc=np.corrcoef(df_merged.dockQ_x,df_merged.dockQ_y)\n",
    "    #print (cc)\n",
    "    \n",
    "    \n",
    "    plt.scatter(df_merged.dockQ_x,df_merged.dockQ_y,label=d)\n",
    "    for i, txt in enumerate(df_merged.name_x):\n",
    "        #print (i,txt)\n",
    "        try: \n",
    "            sstr=txt[0:4]\n",
    "        except:\n",
    "            sstr=df_merged.name_y[i][0:4]\n",
    "        #if (df_merged.dockQ_y[i]- df_merged.dockQ_x[i]>cutoff):\n",
    "        #    ax.annotate(sstr, (df_merged.dockQ_x[i], df_merged.dockQ_y[i]))\n",
    "x=[0,0.9]\n",
    "y=[0,0.9]\n",
    "plt.plot(x,y)\n",
    "ax.legend()\n",
    "ax.set_title(\"dockQ scores (frst model), CC=\" + str(round(cc[0,1],3)) )\n",
    "ax.set_xlabel(\"dockQ pdbcontacts\")\n",
    "ax.set_ylabel(\"dockQ  \"+d)\n",
    "\n",
    "#cat.add_categories([1])\n",
    "#df_merged.fillna(0, inplace =True)"
   ]
  },
  {
   "cell_type": "code",
   "execution_count": null,
   "metadata": {
    "collapsed": false,
    "scrolled": true
   },
   "outputs": [],
   "source": [
    "cutoff=0.2\n",
    "f, ax = plt.subplots(figsize=(6.5, 6.5))\n",
    "r=re.compile(\"pdbconfold\")\n",
    "pdbset=list(filter(r.match, datasets))\n",
    "pdbset=[\"pdbconfold\"]\n",
    "\n",
    "for d in pdbset:\n",
    "    #if d!=\"N1-merged\":continue   \n",
    "    #print (d)\n",
    "    if d==\"pdbcontacts\":continue\n",
    "    df_merged = pd.merge(data_max[\"PDB\"],data_max[d], on=['code'],how=\"outer\")\n",
    "    #print (df_merged)\n",
    "    #newdf=df_merged[\"dockQ_x\",\"dockQ_y\"]  #.loc[(df_merged.dockQ_x>cutoff or df_merged.dockQ_y>cutoff) ]\n",
    "    cc=np.corrcoef(df_merged.dockQ_x,df_merged.dockQ_y)\n",
    "    #print (cc)\n",
    "    \n",
    "    \n",
    "    plt.scatter(df_merged.dockQ_x,df_merged.dockQ_y,label=d)\n",
    "    for i, txt in enumerate(df_merged.name_x):\n",
    "        #print (i,txt)\n",
    "        try: \n",
    "            sstr=txt[0:4]\n",
    "        except:\n",
    "            sstr=df_merged.name_y[i][0:4]\n",
    "        #if (df_merged.dockQ_y[i]- df_merged.dockQ_x[i]>cutoff):\n",
    "        #    ax.annotate(sstr, (df_merged.dockQ_x[i], df_merged.dockQ_y[i]))\n",
    "x=[0,0.9]\n",
    "y=[0,0.9]\n",
    "plt.plot(x,y)\n",
    "ax.legend()\n",
    "ax.set_title(\"dockQ scores (frst model), CC=\" + str(round(cc[0,1],3)) )\n",
    "ax.set_xlabel(\"dockQ PDB\")\n",
    "ax.set_ylabel(\"dockQ  \"+d)\n",
    "\n",
    "#cat.add_categories([1])\n",
    "#df_merged.fillna(0, inplace =True)"
   ]
  },
  {
   "cell_type": "code",
   "execution_count": null,
   "metadata": {
    "collapsed": false,
    "scrolled": true
   },
   "outputs": [],
   "source": [
    "cutoff=0.2\n",
    "f, ax = plt.subplots(figsize=(6.5, 6.5))\n",
    "r=re.compile(\"^PDBNEWDOCK-[ABCD]$\")\n",
    "pdbset=list(filter(r.match, datasets))\n",
    "\n",
    "for d in pdbset:\n",
    "    #if d!=\"N1-merged\":continue   \n",
    "    #print (d)\n",
    "    if d==\"pdbcontacts\":continue\n",
    "    df_merged = pd.merge(data_max[\"pdbcontacts\"],data_max[d], on=['code'],how=\"inner\")\n",
    "    #print (df_merged)\n",
    "    #newdf=df_merged[\"dockQ_x\",\"dockQ_y\"]  #.loc[(df_merged.dockQ_x>cutoff or df_merged.dockQ_y>cutoff) ]\n",
    "    cc=np.corrcoef(df_merged.dockQ_x,df_merged.dockQ_y)\n",
    "    #print (cc)\n",
    "    \n",
    "    \n",
    "    plt.scatter(df_merged.dockQ_x,df_merged.dockQ_y,label=d)\n",
    "    for i, txt in enumerate(df_merged.name_x):\n",
    "        #print (i,txt)\n",
    "        try: \n",
    "            sstr=txt[0:4]\n",
    "        except:\n",
    "            sstr=df_merged.name_y[i][0:4]\n",
    "        if (df_merged.dockQ_x[i]> cutoff or df_merged.dockQ_y[i]>cutoff):\n",
    "            ax.annotate(sstr, (df_merged.dockQ_x[i], df_merged.dockQ_y[i]))\n",
    "x=[0,0.9]\n",
    "y=[0,0.9]\n",
    "plt.plot(x,y)\n",
    "ax.legend()\n",
    "ax.set_title(\"dockQ scores (frst model), CC=\" + str(round(cc[0,1],3)) )\n",
    "ax.set_xlabel(\"dockQ \")\n",
    "ax.set_ylabel(\"dockQ  \"+d)\n",
    "\n",
    "#cat.add_categories([1])\n",
    "#df_merged.fillna(0, inplace =True)"
   ]
  },
  {
   "cell_type": "code",
   "execution_count": null,
   "metadata": {
    "collapsed": false,
    "scrolled": true
   },
   "outputs": [],
   "source": [
    "cutoff=0.2\n",
    "f, ax = plt.subplots(figsize=(6.5, 6.5))\n",
    "r=re.compile(\".*dockB-relax.*\")\n",
    "pdbset=list(filter(r.match, datasets))\n",
    "\n",
    "for d in pdbset:\n",
    "    #if d!=\"N1-merged\":continue   \n",
    "    #print (d)\n",
    "    if d==\"pdbcontacts\":continue\n",
    "    df_merged = pd.merge(data_max[\"pdbcontacts\"],data_max[d], on=['code'],how=\"inner\")\n",
    "    #print (df_merged)\n",
    "    #newdf=df_merged[\"dockQ_x\",\"dockQ_y\"]  #.loc[(df_merged.dockQ_x>cutoff or df_merged.dockQ_y>cutoff) ]\n",
    "    cc=np.corrcoef(df_merged.dockQ_x,df_merged.dockQ_y)\n",
    "    #print (cc)\n",
    "    \n",
    "    \n",
    "    plt.scatter(df_merged.dockQ_x,df_merged.dockQ_y,label=d)\n",
    "    for i, txt in enumerate(df_merged.name_x):\n",
    "        #print (i,txt)\n",
    "        try: \n",
    "            sstr=txt[0:4]\n",
    "        except:\n",
    "            sstr=df_merged.name_y[i][0:4]\n",
    "        if (df_merged.dockQ_x[i]> cutoff or df_merged.dockQ_y[i]>cutoff):\n",
    "            ax.annotate(sstr, (df_merged.dockQ_x[i], df_merged.dockQ_y[i]))\n",
    "x=[0,0.9]\n",
    "y=[0,0.9]\n",
    "plt.plot(x,y)\n",
    "ax.legend()\n",
    "ax.set_title(\"dockQ scores (frst model), CC=\" + str(round(cc[0,1],3)) )\n",
    "ax.set_xlabel(\"dockQ \")\n",
    "ax.set_ylabel(\"dockQ  \"+d)\n",
    "\n",
    "#cat.add_categories([1])\n",
    "#df_merged.fillna(0, inplace =True)"
   ]
  },
  {
   "cell_type": "code",
   "execution_count": null,
   "metadata": {
    "collapsed": false,
    "scrolled": true
   },
   "outputs": [],
   "source": [
    "cutoff=0.2\n",
    "f, ax = plt.subplots(figsize=(6.5, 6.5))\n",
    "r=re.compile(\".*dockC-relax.*\")\n",
    "pdbset=list(filter(r.match, datasets))\n",
    "\n",
    "for d in pdbset:\n",
    "    #if d!=\"N1-merged\":continue   \n",
    "    #print (d)\n",
    "    if d==\"pdbcontacts\":continue\n",
    "    df_merged = pd.merge(data_max[\"pdbcontacts\"],data_max[d], on=['code'],how=\"inner\")\n",
    "    #print (df_merged)\n",
    "    #newdf=df_merged[\"dockQ_x\",\"dockQ_y\"]  #.loc[(df_merged.dockQ_x>cutoff or df_merged.dockQ_y>cutoff) ]\n",
    "    cc=np.corrcoef(df_merged.dockQ_x,df_merged.dockQ_y)\n",
    "    #print (cc)\n",
    "    \n",
    "    \n",
    "    plt.scatter(df_merged.dockQ_x,df_merged.dockQ_y,label=d)\n",
    "    for i, txt in enumerate(df_merged.name_x):\n",
    "        #print (i,txt)\n",
    "        try: \n",
    "            sstr=txt[0:4]\n",
    "        except:\n",
    "            sstr=df_merged.name_y[i][0:4]\n",
    "        if (df_merged.dockQ_x[i]> cutoff or df_merged.dockQ_y[i]>cutoff):\n",
    "            ax.annotate(sstr, (df_merged.dockQ_x[i], df_merged.dockQ_y[i]))\n",
    "x=[0,0.9]\n",
    "y=[0,0.9]\n",
    "plt.plot(x,y)\n",
    "ax.legend()\n",
    "ax.set_title(\"dockQ scores (frst model), CC=\" + str(round(cc[0,1],3)) )\n",
    "ax.set_xlabel(\"dockQ \")\n",
    "ax.set_ylabel(\"dockQ  \"+d)\n",
    "\n",
    "#cat.add_categories([1])\n",
    "#df_merged.fillna(0, inplace =True)"
   ]
  },
  {
   "cell_type": "code",
   "execution_count": null,
   "metadata": {
    "collapsed": false,
    "scrolled": true
   },
   "outputs": [],
   "source": [
    "cutoff=0.2\n",
    "f, ax = plt.subplots(figsize=(6.5, 6.5))\n",
    "r=re.compile(\".*dockD-relax.*\")\n",
    "pdbset=list(filter(r.match, datasets))\n",
    "\n",
    "for d in pdbset:\n",
    "    #if d!=\"N1-merged\":continue   \n",
    "    #print (d)\n",
    "    if d==\"pdbcontacts\":continue\n",
    "    df_merged = pd.merge(data_max[\"pdbcontacts\"],data_max[d], on=['code'],how=\"inner\")\n",
    "    #print (df_merged)\n",
    "    #newdf=df_merged[\"dockQ_x\",\"dockQ_y\"]  #.loc[(df_merged.dockQ_x>cutoff or df_merged.dockQ_y>cutoff) ]\n",
    "    cc=np.corrcoef(df_merged.dockQ_x,df_merged.dockQ_y)\n",
    "    #print (cc)\n",
    "    \n",
    "    \n",
    "    plt.scatter(df_merged.dockQ_x,df_merged.dockQ_y,label=d)\n",
    "    for i, txt in enumerate(df_merged.name_x):\n",
    "        #print (i,txt)\n",
    "        try: \n",
    "            sstr=txt[0:4]\n",
    "        except:\n",
    "            sstr=df_merged.name_y[i][0:4]\n",
    "        if (df_merged.dockQ_x[i]> cutoff or df_merged.dockQ_y[i]>cutoff):\n",
    "            ax.annotate(sstr, (df_merged.dockQ_x[i], df_merged.dockQ_y[i]))\n",
    "x=[0,0.9]\n",
    "y=[0,0.9]\n",
    "plt.plot(x,y)\n",
    "ax.legend()\n",
    "ax.set_title(\"dockQ scores (frst model), CC=\" + str(round(cc[0,1],3)) )\n",
    "ax.set_xlabel(\"dockQ \")\n",
    "ax.set_ylabel(\"dockQ  \"+d)\n",
    "\n",
    "#cat.add_categories([1])\n",
    "#df_merged.fillna(0, inplace =True)"
   ]
  },
  {
   "cell_type": "code",
   "execution_count": null,
   "metadata": {
    "collapsed": false,
    "scrolled": true
   },
   "outputs": [],
   "source": [
    "cutoff=0.2\n",
    "f, ax = plt.subplots(figsize=(6.5, 6.5))\n",
    "r=re.compile(\"^PDBNEWDOCK-C.*-relax.*\")\n",
    "pdbset=list(filter(r.match, datasets))+[\"PDBNEWDOCK-C\"]\n",
    "\n",
    "for d in pdbset:\n",
    "    #if d!=\"N1-merged\":continue   \n",
    "    #print (d)\n",
    "    if d==\"pdbcontacts\":continue\n",
    "    df_merged = pd.merge(data_max[\"pdbcontacts\"],data_max[d], on=['code'],how=\"inner\")\n",
    "    #print (df_merged)\n",
    "    #newdf=df_merged[\"dockQ_x\",\"dockQ_y\"]  #.loc[(df_merged.dockQ_x>cutoff or df_merged.dockQ_y>cutoff) ]\n",
    "    cc=np.corrcoef(df_merged.dockQ_x,df_merged.dockQ_y)\n",
    "    #print (cc)\n",
    "    \n",
    "    \n",
    "    plt.scatter(df_merged.dockQ_x,df_merged.dockQ_y,label=d)\n",
    "    for i, txt in enumerate(df_merged.name_x):\n",
    "        #print (i,txt)\n",
    "        try: \n",
    "            sstr=txt[0:4]\n",
    "        except:\n",
    "            sstr=df_merged.name_y[i][0:4]\n",
    "        if (df_merged.dockQ_x[i]> cutoff or df_merged.dockQ_y[i]>cutoff):\n",
    "            ax.annotate(sstr, (df_merged.dockQ_x[i], df_merged.dockQ_y[i]))\n",
    "x=[0,0.9]\n",
    "y=[0,0.9]\n",
    "plt.plot(x,y)\n",
    "ax.legend()\n",
    "ax.set_title(\"dockQ scores (frst model), CC=\" + str(round(cc[0,1],3)) )\n",
    "ax.set_xlabel(\"dockQ \")\n",
    "ax.set_ylabel(\"dockQ  \"+d)\n",
    "\n",
    "#cat.add_categories([1])\n",
    "#df_merged.fillna(0, inplace =True)"
   ]
  },
  {
   "cell_type": "code",
   "execution_count": null,
   "metadata": {
    "collapsed": false,
    "scrolled": true
   },
   "outputs": [],
   "source": [
    "cutoff=0.2\n",
    "f, ax = plt.subplots(figsize=(6.5, 6.5))\n",
    "r=re.compile(\"^PDBNEWDOCK-C.*-relax.*\")\n",
    "pdbset=list(filter(r.match, datasets))+[\"PDBNEWDOCK-C\"]\n",
    "pdbset=[\"PDBNEWDOCK-B\",\"PDBNEWDOCK-C\",\"PDBNEWDOCK-A--dockC-relax\",\n",
    "        \"PDBNEWDOCK-C--dockC-relax\",\"PDBNEWDOCK-B--dockD-relax\",\n",
    "        \"PDBNEWDOCK-C--dockD-relax\"]\n",
    "\n",
    "for d in pdbset:\n",
    "    #if d!=\"N1-merged\":continue   \n",
    "    #print (d)\n",
    "    if d==\"pdbcontacts-new\":continue\n",
    "    df_merged = pd.merge(data_max[\"pdbcontacts-new\"],data_max[d], on=['code'],how=\"inner\")\n",
    "    #print (df_merged)\n",
    "    #newdf=df_merged[\"dockQ_x\",\"dockQ_y\"]  #.loc[(df_merged.dockQ_x>cutoff or df_merged.dockQ_y>cutoff) ]\n",
    "    cc=np.corrcoef(df_merged.dockQ_x,df_merged.dockQ_y)\n",
    "    #print (cc)\n",
    "    \n",
    "    \n",
    "    plt.scatter(df_merged.dockQ_x,df_merged.dockQ_y,label=d)\n",
    "    for i, txt in enumerate(df_merged.name_x):\n",
    "        #print (i,txt)\n",
    "        try: \n",
    "            sstr=txt[0:4]\n",
    "        except:\n",
    "            sstr=df_merged.name_y[i][0:4]\n",
    "        if (df_merged.dockQ_x[i]> cutoff or df_merged.dockQ_y[i]>cutoff):\n",
    "            ax.annotate(sstr, (df_merged.dockQ_x[i], df_merged.dockQ_y[i]))\n",
    "x=[0,0.9]\n",
    "y=[0,0.9]\n",
    "plt.plot(x,y)\n",
    "ax.legend()\n",
    "ax.set_title(\"dockQ scores (frst model), CC=\" + str(round(cc[0,1],3)) )\n",
    "ax.set_xlabel(\"dockQ \")\n",
    "ax.set_ylabel(\"dockQ  \"+d)\n",
    "\n",
    "#cat.add_categories([1])\n",
    "#df_merged.fillna(0, inplace =True)"
   ]
  },
  {
   "cell_type": "code",
   "execution_count": null,
   "metadata": {
    "collapsed": false,
    "scrolled": true
   },
   "outputs": [],
   "source": [
    "cutoff=0.2\n",
    "f, ax = plt.subplots(figsize=(6.5, 6.5))\n",
    "r=re.compile(\"^PDBNEWDOCK-C.*-relax.*\")\n",
    "pdbset=list(filter(r.match, datasets))+[\"PDBNEWDOCK-C\"]\n",
    "pdbset=[\"pdbcontacts\",\"pdbnewcontacts\",\"PDBNEWDOCK-standard\",\"PDBNEWDOCK-repulsion\",\"pdbconfold\"]\n",
    "\n",
    "for d in pdbset:\n",
    "    #if d!=\"N1-merged\":continue   \n",
    "    #print (d)\n",
    "    #if d==\"pdbcontacts\":continue\n",
    "    df_merged = pd.merge(data_max[\"PDB\"],data_max[d], on=['code'],how=\"inner\")\n",
    "    #print (df_merged)\n",
    "    #newdf=df_merged[\"dockQ_x\",\"dockQ_y\"]  #.loc[(df_merged.dockQ_x>cutoff or df_merged.dockQ_y>cutoff) ]\n",
    "    cc=np.corrcoef(df_merged.dockQ_x,df_merged.dockQ_y)\n",
    "    #print (cc)\n",
    "    \n",
    "    \n",
    "    plt.scatter(df_merged.dockQ_x,df_merged.dockQ_y,label=d)\n",
    "    for i, txt in enumerate(df_merged.name_x):\n",
    "        #print (i,txt)\n",
    "        try: \n",
    "            sstr=txt[0:4]\n",
    "        except:\n",
    "            sstr=df_merged.name_y[i][0:4]\n",
    "        if (df_merged.dockQ_x[i]> cutoff or df_merged.dockQ_y[i]>cutoff):\n",
    "            ax.annotate(sstr, (df_merged.dockQ_x[i], df_merged.dockQ_y[i]))\n",
    "x=[0,0.9]\n",
    "y=[0,0.9]\n",
    "plt.plot(x,y)\n",
    "ax.legend()\n",
    "ax.set_title(\"dockQ scores (frst model), CC=\" + str(round(cc[0,1],3)) )\n",
    "ax.set_xlabel(\"dockQ \")\n",
    "ax.set_ylabel(\"dockQ  \"+d)\n",
    "\n",
    "#cat.add_categories([1])\n",
    "#df_merged.fillna(0, inplace =True)"
   ]
  },
  {
   "cell_type": "code",
   "execution_count": null,
   "metadata": {
    "collapsed": false
   },
   "outputs": [],
   "source": [
    "r=re.compile(\".*relax.*\")\n",
    "#pdbset=list(filter(r.match, datasets))+['PDBNEWDOCK-A','PDBNEWDOCK-B', 'PDBNEWDOCK-C', 'PDBNEWDOCK-D',\"pdbcontacts\"]\n",
    "pdbset=sorted([\"PDB\",\"PDBNEWDOCK-B\",\"PDBNEWDOCK-C\",\"PDBNEWDOCK-A--dockC-relax\",\n",
    "        \"PDBNEWDOCK-C--dockC-relax\",\"PDBNEWDOCK-B--dockD-relax\",\n",
    "        \"PDBNEWDOCK-C--dockD-relax\",\"pdbcontacts\",\"pdbnewcontacts\",\"PDBNEWDOCK-standard\",\n",
    "               \"PDBNEWDOCK-repulsion\",\"pdbconfold\"])\n",
    "\n",
    "\n",
    "smallset=[\"1ay7\", \"1b27\", \"1bvn\", \"1gcq\", \"1gpw\", \"1he1\", \"1i4e\", \"1i8l\",\n",
    "\"1jiw\", \"1k5g\", \"1nql\", \"1vg0\", \"2aq3\", \"2b4s\", \"2d5r\", \"2grx\",\n",
    "\"2hj9\", \"2hrk\", \"2ido\", \"2nqd\", \"2nxn\", \"2o3b\", \"2sge\", \"2wbw\",\n",
    "\"2x9a\", \"2xwb\", \"2zae\", \"3a1p\", \"3a8i\", \"3bs5\", \"3buz\", \"3cw2\",\n",
    "\"3cw2\", \"3fpu\", \"3lwn\", \"3ona\", \"3rnk\", \"3vlb\", \"3w31\", \"3wkt\",\n",
    "\"4bi8\", \"4bmp\", \"4gmj\", \"4hcn\", \"4k0v\", \"4kyi\", \"4o4b\", \"4rf0\",\n",
    "\"4xhu\", \"4yoc\"]\n",
    "codes=df_max.loc[df_max.params.isin(pdbset)][\"CODE\"].unique()\n",
    "codes=smallset\n",
    "codes=df_max.loc[(df_max.params==\"PDBNEWDOCK-A--dockC-relax\")&(df_max.params.isin(pdbset) )][\"CODE\"].unique()\n",
    "codes=df_max.loc[(df_max.params==\"PDBNEWDOCK-C\")&(df_max.params.isin(pdbset) )][\"CODE\"].unique()\n",
    "\n",
    "codes=smallset"
   ]
  },
  {
   "cell_type": "code",
   "execution_count": null,
   "metadata": {
    "collapsed": false
   },
   "outputs": [],
   "source": [
    "cutoff=0.2\n",
    "newdf=df_max.loc[df_max.dockQ>cutoff]\n",
    "newdf=newdf.reset_index()"
   ]
  },
  {
   "cell_type": "code",
   "execution_count": null,
   "metadata": {
    "collapsed": false,
    "scrolled": false
   },
   "outputs": [],
   "source": [
    "# FInd best method for each model.\n",
    "#codes=df_max.loc[df_max.params.isin(pdbset)][\"CODE\"].unique()\n",
    "f, ax = plt.subplots(figsize=(6.5, 6.5))\n",
    "tempdf=newdf.loc[newdf.JHparams.isin(pdbset)]\n",
    "\n",
    "#best_df=newdf.sort_values(\"dockQ\", ascending=False)\n",
    "best_df=tempdf.sort_values('dockQ', ascending=False).drop_duplicates(['code']).reset_index()\n",
    "best_df.sort_values(\"JHparams\")\n",
    "\n",
    "good_df=newdf.loc[(newdf.code.isin(codes))&(newdf.JHparams.isin(pdbset))].reset_index()\n",
    "#plt.scatter(good_df.dockQ,good_df.JHparams,color=\"grey\")\n",
    "#plt.scatter(best_df.dockQ,best_df.JHparams,color=\"red\")\n",
    "\n",
    "\n",
    "all_df=df_max.loc[(df_max.CODE.isin(codes))&(df_max.params.isin(pdbset))].reset_index()\n",
    "plt.scatter(all_df.dockQ,all_df.JHparams,color=\"red\")\n",
    "\n",
    "#cc=np.corrcoef(newdf.dockQ,newdf.len)\n",
    "#ax.legend()\n",
    "ax.set_title(\"Best models\")\n",
    "ax.set_ylabel(\"Method\")\n",
    "ax.set_xlabel(\"dockQ\")\n",
    "ax.set(xlim=[0,1])\n",
    "done={}\n",
    "average={}\n",
    "length={}\n",
    "pos=[]\n",
    "i=0\n",
    "data=[]\n",
    "for d in sorted(pdbset):\n",
    "    done[d]=0\n",
    "    average[d]=df_max.loc[df_max.CODE.isin(codes)&(df_max.params==d)][\"dockQ\"].mean()\n",
    "    length[d]=len(df_max.loc[df_max.CODE.isin(codes)&(df_max.params==d)][\"dockQ\"])\n",
    "    pos+=[i]\n",
    "    data+=[df_max.loc[df_max.CODE.isin(codes)&(df_max.params==d)][\"dockQ\"]]\n",
    "    i+=1\n",
    "    print (d)\n",
    "    \n",
    "    \n",
    "ax.violinplot(data,pos, points=80, vert=False, widths=0.7,\n",
    "                      showmeans=True, showextrema=True, showmedians=False)    \n",
    "for i, txt in enumerate(all_df.name):\n",
    "    #print (i,txt)\n",
    "    sstr=txt[0:4]\n",
    "    #ax.annotate(sstr, (newdf.dockQ[i], newdf.JHparams[i]))\n",
    "    #numhit=len(best_df.loc[best_df.JHparams==best_df.JHparams[i]])\n",
    "    #print (numhit,newdf.JHparams[i])\n",
    "    if done[all_df.JHparams[i]]==0:\n",
    "        done[all_df.JHparams[i]]=1\n",
    "        #ax.annotate(str(numhit),(.0, best_df.JHparams[i]))\n",
    "        ax.annotate(str(round(average[all_df.JHparams[i]],3))+\"(\"+str(length[all_df.JHparams[i]])+\")\"\n",
    "                    ,(1.0, all_df.JHparams[i]))\n"
   ]
  },
  {
   "cell_type": "code",
   "execution_count": null,
   "metadata": {
    "collapsed": false
   },
   "outputs": [],
   "source": [
    "datasets"
   ]
  },
  {
   "cell_type": "code",
   "execution_count": null,
   "metadata": {
    "collapsed": false
   },
   "outputs": [],
   "source": [
    "pdbset=[ 'N3dock',\n",
    "       'N3-newdockA', 'N3-newdockB', 'N3-newdockC', 'N5-newdockA','N5-newdockB',\n",
    "       'N5-newdockC', '-N 5 --cpu 8',\"-N 3 --cpu 8\"]\n",
    "codes=df_max.loc[(df_max.params==\"N3-newdockC\")&(df_max.params.isin(pdbset) )][\"CODE\"].unique()\n",
    "codes"
   ]
  },
  {
   "cell_type": "code",
   "execution_count": null,
   "metadata": {
    "collapsed": false,
    "scrolled": true
   },
   "outputs": [],
   "source": [
    "cutoff=0.2\n",
    "f, ax = plt.subplots(figsize=(6.5, 6.5))\n",
    "\n",
    "for d in pdbset:\n",
    "    #if d!=\"N1-merged\":continue   \n",
    "    #print (d)\n",
    "    if d==\"-N 3 --cpu 8\":continue\n",
    "    df_merged = pd.merge(data_max[\"-N 3 --cpu 8\"],data_max[d], on=['code'],how=\"inner\")\n",
    "    #print (df_merged)\n",
    "    #newdf=df_merged[\"dockQ_x\",\"dockQ_y\"]  #.loc[(df_merged.dockQ_x>cutoff or df_merged.dockQ_y>cutoff) ]\n",
    "    cc=np.corrcoef(df_merged.dockQ_x,df_merged.dockQ_y)\n",
    "    #print (cc)\n",
    "    \n",
    "    \n",
    "    plt.scatter(df_merged.dockQ_x,df_merged.dockQ_y,label=d)\n",
    "    for i, txt in enumerate(df_merged.name_x):\n",
    "        #print (i,txt)\n",
    "        try: \n",
    "            sstr=txt[0:4]\n",
    "        except:\n",
    "            sstr=df_merged.name_y[i][0:4]\n",
    "        if (df_merged.dockQ_x[i]> cutoff or df_merged.dockQ_y[i]>cutoff):\n",
    "            ax.annotate(sstr, (df_merged.dockQ_x[i], df_merged.dockQ_y[i]))\n",
    "x=[0,0.9]\n",
    "y=[0,0.9]\n",
    "plt.plot(x,y)\n",
    "ax.legend()\n",
    "ax.set_title(\"dockQ scores (frst model), CC=\" + str(round(cc[0,1],3)) )\n",
    "ax.set_xlabel(\"dockQ \")\n",
    "ax.set_ylabel(\"dockQ  \"+d)\n",
    "\n",
    "#cat.add_categories([1])\n",
    "#df_merged.fillna(0, inplace =True)"
   ]
  },
  {
   "cell_type": "code",
   "execution_count": null,
   "metadata": {
    "collapsed": false,
    "scrolled": false
   },
   "outputs": [],
   "source": [
    "# FInd best method for each model.\n",
    "#codes=df_max.loc[df_max.params.isin(pdbset)][\"CODE\"].unique()\n",
    "f, ax = plt.subplots(figsize=(6.5, 6.5))\n",
    "tempdf=newdf.loc[newdf.JHparams.isin(pdbset)]\n",
    "\n",
    "#best_df=newdf.sort_values(\"dockQ\", ascending=False)\n",
    "best_df=tempdf.sort_values('dockQ', ascending=False).drop_duplicates(['code']).reset_index()\n",
    "best_df.sort_values(\"JHparams\")\n",
    "\n",
    "good_df=newdf.loc[(newdf.code.isin(codes))&(newdf.JHparams.isin(pdbset))].reset_index()\n",
    "#plt.scatter(good_df.dockQ,good_df.JHparams,color=\"grey\")\n",
    "#plt.scatter(best_df.dockQ,best_df.JHparams,color=\"red\")\n",
    "\n",
    "\n",
    "all_df=df_max.loc[(df_max.CODE.isin(codes))&(df_max.params.isin(pdbset))].reset_index()\n",
    "plt.scatter(all_df.dockQ,all_df.JHparams,color=\"red\")\n",
    "\n",
    "#cc=np.corrcoef(newdf.dockQ,newdf.len)\n",
    "#ax.legend()\n",
    "ax.set_title(\"Best models\")\n",
    "ax.set_ylabel(\"Method\")\n",
    "ax.set_xlabel(\"dockQ\")\n",
    "ax.set(xlim=[0,1])\n",
    "done={}\n",
    "average={}\n",
    "length={}\n",
    "pos=[]\n",
    "i=0\n",
    "data=[]\n",
    "for d in sorted(pdbset):\n",
    "    done[d]=0\n",
    "    average[d]=df_max.loc[df_max.CODE.isin(codes)&(df_max.params==d)][\"dockQ\"].mean()\n",
    "    length[d]=len(df_max.loc[df_max.CODE.isin(codes)&(df_max.params==d)][\"dockQ\"])\n",
    "    pos+=[i]\n",
    "    data+=[df_max.loc[df_max.CODE.isin(codes)&(df_max.params==d)][\"dockQ\"]]\n",
    "    print (d,len(data[i]))\n",
    "    i+=1\n",
    "    \n",
    "    \n",
    "ax.violinplot(data,pos, points=80, vert=False, widths=0.7,\n",
    "                      showmeans=True, showextrema=True, showmedians=False)    \n",
    "for i, txt in enumerate(all_df.name):\n",
    "    #print (i,txt)\n",
    "    sstr=txt[0:4]\n",
    "    #ax.annotate(sstr, (newdf.dockQ[i], newdf.JHparams[i]))\n",
    "    #numhit=len(best_df.loc[best_df.JHparams==best_df.JHparams[i]])\n",
    "    #print (numhit,newdf.JHparams[i])\n",
    "    if done[all_df.JHparams[i]]==0:\n",
    "        done[all_df.JHparams[i]]=1\n",
    "        #ax.annotate(str(numhit),(.0, best_df.JHparams[i]))\n",
    "        ax.annotate(str(round(average[all_df.JHparams[i]],3))+\"(\"+str(length[all_df.JHparams[i]])+\")\"\n",
    "                    ,(1.0, all_df.JHparams[i]))\n"
   ]
  },
  {
   "cell_type": "code",
   "execution_count": null,
   "metadata": {
    "collapsed": false
   },
   "outputs": [],
   "source": [
    "pdbset=sorted([\"N1\",\"N3\"])"
   ]
  },
  {
   "cell_type": "code",
   "execution_count": null,
   "metadata": {
    "collapsed": false
   },
   "outputs": [],
   "source": [
    "for d in pdbset:\n",
    "    print (d,len(df_max.loc[(df_max.params==d)][\"CODE\"].unique()))"
   ]
  },
  {
   "cell_type": "code",
   "execution_count": null,
   "metadata": {
    "collapsed": false
   },
   "outputs": [],
   "source": [
    "all_df"
   ]
  },
  {
   "cell_type": "code",
   "execution_count": null,
   "metadata": {
    "collapsed": false
   },
   "outputs": [],
   "source": [
    "cutoff=0.2\n",
    "newdf=df_max.loc[df_max.dockQ>cutoff]\n",
    "newdf=newdf.reset_index()\n"
   ]
  },
  {
   "cell_type": "code",
   "execution_count": null,
   "metadata": {
    "collapsed": false
   },
   "outputs": [],
   "source": [
    "datasets"
   ]
  },
  {
   "cell_type": "code",
   "execution_count": null,
   "metadata": {
    "collapsed": false
   },
   "outputs": [],
   "source": [
    "r=re.compile(\".*relax.*\")\n",
    "pdbset=list(filter(r.match, datasets))+['PDBNEWDOCK-A','PDBNEWDOCK-B', 'PDBNEWDOCK-C', 'PDBNEWDOCK-D',\"pdbcontacts\",\"pdbconfold\",\"PDB\"]\n",
    "\n",
    "\n",
    "smallset=[\"1ay7\", \"1b27\", \"1bvn\", \"1gcq\", \"1gpw\", \"1he1\", \"1i4e\", \"1i8l\",\n",
    "\"1jiw\", \"1k5g\", \"1nql\", \"1vg0\", \"2aq3\", \"2b4s\", \"2d5r\", \"2grx\",\n",
    "\"2hj9\", \"2hrk\", \"2ido\", \"2nqd\", \"2nxn\", \"2o3b\", \"2sge\", \"2wbw\",\n",
    "\"2x9a\", \"2xwb\", \"2zae\", \"3a1p\", \"3a8i\", \"3bs5\", \"3buz\", \"3cw2\",\n",
    "\"3cw2\", \"3fpu\", \"3lwn\", \"3ona\", \"3rnk\", \"3vlb\", \"3w31\", \"3wkt\",\n",
    "\"4bi8\", \"4bmp\", \"4gmj\", \"4hcn\", \"4k0v\", \"4kyi\", \"4o4b\", \"4rf0\",\n",
    "\"4xhu\", \"4yoc\"]\n",
    "codes=df_max.loc[df_max.params.isin(pdbset)][\"CODE\"].unique()\n",
    "codes=smallset\n",
    "codes=df_max.loc[(df_max.params==\"PDBNEWDOCK-A\")&(df_max.params.isin(pdbset) )][\"CODE\"].unique()\n"
   ]
  },
  {
   "cell_type": "code",
   "execution_count": null,
   "metadata": {
    "collapsed": false,
    "scrolled": true
   },
   "outputs": [],
   "source": [
    "# FInd best method for each model.\n",
    "#codes=df_max.loc[df_max.params.isin(pdbset)][\"CODE\"].unique()\n",
    "f, ax = plt.subplots(figsize=(6.5, 6.5))\n",
    "tempdf=newdf.loc[newdf.JHparams.isin(pdbset)]\n",
    "\n",
    "#best_df=newdf.sort_values(\"dockQ\", ascending=False)\n",
    "best_df=tempdf.sort_values('dockQ', ascending=False).drop_duplicates(['code']).reset_index()\n",
    "best_df.sort_values(\"JHparams\")\n",
    "\n",
    "good_df=newdf.loc[(newdf.code.isin(codes))&(newdf.JHparams.isin(pdbset))].reset_index()\n",
    "#plt.scatter(good_df.dockQ,good_df.JHparams,color=\"grey\")\n",
    "#plt.scatter(best_df.dockQ,best_df.JHparams,color=\"red\")\n",
    "\n",
    "\n",
    "all_df=df_max.loc[(df_max.CODE.isin(codes))&(df_max.params.isin(pdbset))].reset_index()\n",
    "plt.scatter(all_df.dockQ,all_df.JHparams,color=\"red\")\n",
    "\n",
    "#cc=np.corrcoef(newdf.dockQ,newdf.len)\n",
    "#ax.legend()\n",
    "ax.set_title(\"Best models\")\n",
    "ax.set_ylabel(\"Method\")\n",
    "ax.set_xlabel(\"dockQ\")\n",
    "ax.set(xlim=[0,1])\n",
    "done={}\n",
    "average={}\n",
    "length={}\n",
    "pos=[]\n",
    "i=0\n",
    "data=[]\n",
    "for d in sorted(pdbset):\n",
    "    done[d]=0\n",
    "    average[d]=df_max.loc[df_max.CODE.isin(codes)&(df_max.params==d)][\"dockQ\"].mean()\n",
    "    length[d]=len(df_max.loc[df_max.CODE.isin(codes)&(df_max.params==d)][\"dockQ\"])\n",
    "    pos+=[i]\n",
    "    data+=[df_max.loc[df_max.CODE.isin(codes)&(df_max.params==d)][\"dockQ\"]]\n",
    "    i+=1\n",
    "    #print (d)\n",
    "    \n",
    "    \n",
    "ax.violinplot(data,pos, points=80, vert=False, widths=0.7,\n",
    "                      showmeans=True, showextrema=True, showmedians=False)    \n",
    "for i, txt in enumerate(all_df.name):\n",
    "    #print (i,txt)\n",
    "    sstr=txt[0:4]\n",
    "    #ax.annotate(sstr, (newdf.dockQ[i], newdf.JHparams[i]))\n",
    "    #numhit=len(best_df.loc[best_df.JHparams==best_df.JHparams[i]])\n",
    "    #print (numhit,newdf.JHparams[i])\n",
    "    if done[all_df.JHparams[i]]==0:\n",
    "        done[all_df.JHparams[i]]=1\n",
    "        #ax.annotate(str(numhit),(.0, best_df.JHparams[i]))\n",
    "        ax.annotate(str(round(average[all_df.JHparams[i]],3))+\"(\"+str(length[all_df.JHparams[i]])+\")\"\n",
    "                    ,(1.0, all_df.JHparams[i]))\n"
   ]
  },
  {
   "cell_type": "code",
   "execution_count": null,
   "metadata": {
    "collapsed": false
   },
   "outputs": [],
   "source": [
    "codes"
   ]
  },
  {
   "cell_type": "code",
   "execution_count": null,
   "metadata": {
    "collapsed": false
   },
   "outputs": [],
   "source": [
    "all_df"
   ]
  },
  {
   "cell_type": "code",
   "execution_count": null,
   "metadata": {
    "collapsed": false,
    "scrolled": true
   },
   "outputs": [],
   "source": [
    "# FInd best method for each model.\n",
    "codes=df_max.loc[df_max.params.isin(pdbset)][\"CODE\"].unique()\n",
    "f, ax = plt.subplots(figsize=(6.5, 6.5))\n",
    "tempdf=newdf.loc[newdf.JHparams.isin(pdbset)]\n",
    "\n",
    "#best_df=newdf.sort_values(\"dockQ\", ascending=False)\n",
    "best_df=tempdf.sort_values('dockQ', ascending=False).drop_duplicates(['code']).reset_index()\n",
    "best_df.sort_values(\"JHparams\")\n",
    "\n",
    "good_df=newdf.loc[(newdf.code.isin(codes))&(newdf.JHparams.isin(pdbset))].reset_index()\n",
    "plt.scatter(good_df.dockQ,good_df.JHparams,color=\"grey\")\n",
    "plt.scatter(best_df.dockQ,best_df.JHparams,color=\"red\")\n",
    "\n",
    "#cc=np.corrcoef(newdf.dockQ,newdf.len)\n",
    "#ax.legend()\n",
    "ax.set_title(\"Best models\")\n",
    "ax.set_ylabel(\"Method\")\n",
    "ax.set_xlabel(\"dockQ\")\n",
    "ax.set(xlim=[0,1])\n",
    "done={}\n",
    "average={}\n",
    "length={}\n",
    "pos=[]\n",
    "i=0\n",
    "data=[]\n",
    "for d in sorted(pdbset):\n",
    "    done[d]=0\n",
    "    average[d]=df_max.loc[df_max.CODE.isin(codes)&(df_max.params==d)][\"dockQ\"].mean()\n",
    "    length[d]=len(df_max.loc[df_max.CODE.isin(codes)&(df_max.params==d)][\"dockQ\"])\n",
    "    pos+=[i]\n",
    "    data+=[df_max.loc[df_max.CODE.isin(codes)&(df_max.params==d)][\"dockQ\"]]\n",
    "    i+=1\n",
    "    #print (d)\n",
    "    \n",
    "    \n",
    "ax.violinplot(data,pos, points=80, vert=False, widths=0.7,\n",
    "                      showmeans=True, showextrema=True, showmedians=False)    \n",
    "for i, txt in enumerate(best_df.name):\n",
    "    #print (i,txt)\n",
    "    sstr=txt[0:4]\n",
    "    #ax.annotate(sstr, (newdf.dockQ[i], newdf.JHparams[i]))\n",
    "    numhit=len(best_df.loc[best_df.JHparams==best_df.JHparams[i]])\n",
    "    #print (numhit,newdf.JHparams[i])\n",
    "    if done[best_df.JHparams[i]]==0:\n",
    "        done[best_df.JHparams[i]]=1\n",
    "        ax.annotate(str(numhit),(.0, best_df.JHparams[i]))\n",
    "        ax.annotate(str(round(average[best_df.JHparams[i]],3))+\"(\"+str(length[good_df.JHparams[i]])+\")\"\n",
    "                    ,(1.0, best_df.JHparams[i]))\n",
    "for d in datasets:\n",
    "    done[d]=0\n",
    "for i, txt in enumerate(good_df.name):\n",
    "    #print (i,txt)\n",
    "    sstr=txt[0:4]\n",
    "    #ax.annotate(sstr, (newdf.dockQ[i], newdf.JHparams[i]))\n",
    "    numhit=len(good_df.loc[good_df.JHparams==good_df.JHparams[i]])\n",
    "    #print (numhit,newdf.JHparams[i])\n",
    "    if done[good_df.JHparams[i]]==0:\n",
    "        done[good_df.JHparams[i]]=1\n",
    "        ax.annotate(str(numhit),(.1, good_df.JHparams[i]))\n",
    "        #ax.annotate(str(round(average[good_df.JHparams[i]],3)),(1.0, good_df.JHparams[i]))\n",
    "        #ax.annotate(\"(\"+str(length[good_df.JHparams[i]])+\")\",(1.2, good_df.JHparams[i]))\n"
   ]
  },
  {
   "cell_type": "code",
   "execution_count": null,
   "metadata": {
    "collapsed": false,
    "scrolled": true
   },
   "outputs": [],
   "source": [
    "compareset=[\"trRosetta\",\"gramm\",\"TMdock-double\"]\n",
    "codes=df_max.loc[df_max.params.isin(compareset)][\"CODE\"].unique()\n",
    "f, ax = plt.subplots(figsize=(6.5, 6.5))\n",
    "tempdf=newdf.loc[newdf.JHparams.isin(compareset)]\n",
    "\n",
    "#best_df=newdf.sort_values(\"dockQ\", ascending=False)\n",
    "best_df=tempdf.sort_values('dockQ', ascending=False).drop_duplicates(['code']).reset_index()\n",
    "best_df.sort_values(\"JHparams\")\n",
    "\n",
    "good_df=newdf.loc[(newdf.code.isin(codes))&(newdf.JHparams.isin(compareset))].reset_index()\n",
    "plt.scatter(good_df.dockQ,good_df.JHparams,color=\"grey\")\n",
    "plt.scatter(best_df.dockQ,best_df.JHparams,color=\"red\")\n",
    "\n",
    "#cc=np.corrcoef(newdf.dockQ,newdf.len)\n",
    "#ax.legend()\n",
    "ax.set_title(\"Best models\")\n",
    "ax.set_ylabel(\"Method\")\n",
    "ax.set_xlabel(\"dockQ\")\n",
    "ax.set(xlim=[0,1])\n",
    "done={}\n",
    "average={}\n",
    "length={}\n",
    "pos=[]\n",
    "i=0\n",
    "data=[]\n",
    "for d in sorted(compareset):\n",
    "    done[d]=0\n",
    "    average[d]=df_max.loc[df_max.CODE.isin(codes)&(df_max.params==d)][\"dockQ\"].mean()\n",
    "    length[d]=len(df_max.loc[df_max.CODE.isin(codes)&(df_max.params==d)][\"dockQ\"])\n",
    "    pos+=[i]\n",
    "    data+=[df_max.loc[df_max.CODE.isin(codes)&(df_max.params==d)][\"dockQ\"]]\n",
    "    i+=1\n",
    "    #print (d)\n",
    "    \n",
    "    \n",
    "ax.violinplot(data,pos, points=80, vert=False, widths=0.7,\n",
    "                      showmeans=True, showextrema=True, showmedians=False)    \n",
    "for i, txt in enumerate(best_df.name):\n",
    "    #print (i,txt)\n",
    "    sstr=txt[0:4]\n",
    "    #ax.annotate(sstr, (newdf.dockQ[i], newdf.JHparams[i]))\n",
    "    numhit=len(best_df.loc[best_df.JHparams==best_df.JHparams[i]])\n",
    "    #print (numhit,newdf.JHparams[i])\n",
    "    if done[best_df.JHparams[i]]==0:\n",
    "        done[best_df.JHparams[i]]=1\n",
    "        ax.annotate(str(numhit),(.0, best_df.JHparams[i]))\n",
    "        #ax.annotate(str(round(average[best_df.JHparams[i]],3))+\n",
    "        #            \"(\"+str(length[good_df.JHparams[i]])+\")\"\n",
    "        #            ,(1.0, best_df.JHparams[i]))\n",
    "for d in datasets:\n",
    "    done[d]=0\n",
    "for i, txt in enumerate(good_df.name):\n",
    "    #print (i,txt)\n",
    "    sstr=txt[0:4]\n",
    "    #ax.annotate(sstr, (newdf.dockQ[i], newdf.JHparams[i]))\n",
    "    numhit=len(good_df.loc[good_df.JHparams==good_df.JHparams[i]])\n",
    "    #print (numhit,newdf.JHparams[i])\n",
    "    if done[good_df.JHparams[i]]==0:\n",
    "        done[good_df.JHparams[i]]=1\n",
    "        #ax.annotate(str(numhit),(.1, good_df.JHparams[i]))\n",
    "        #ax.annotate(str(round(average[good_df.JHparams[i]],3)),(1.0, good_df.JHparams[i]))\n",
    "        #ax.annotate(\"(\"+str(length[good_df.JHparams[i]])+\")\",(1.2, good_df.JHparams[i]))\n"
   ]
  },
  {
   "cell_type": "code",
   "execution_count": null,
   "metadata": {
    "collapsed": false
   },
   "outputs": [],
   "source": [
    "best_df"
   ]
  },
  {
   "cell_type": "code",
   "execution_count": null,
   "metadata": {
    "collapsed": false
   },
   "outputs": [],
   "source": [
    "codes"
   ]
  },
  {
   "cell_type": "code",
   "execution_count": null,
   "metadata": {
    "collapsed": false,
    "scrolled": true
   },
   "outputs": [],
   "source": [
    "\n",
    "f, ax = plt.subplots(figsize=(6.5, 6.5))\n",
    "plt.scatter(newdf.dockQ,newdf.JHparams)\n",
    "#cc=np.corrcoef(newdf.dockQ,newdf.len)\n",
    "ax.set_title(\"Good  models\")\n",
    "ax.set_xlabel(\"JHparams\")\n",
    "ax.set_ylabel(\"dockQ\")\n",
    "ax.set(xlim=[0,1])\n",
    "done={}\n",
    "for d in datasets:\n",
    "    done[d]=0\n",
    "for i, txt in enumerate(newdf.name):\n",
    "    #print (i,txt)\n",
    "    sstr=txt[0:4]\n",
    "    ax.annotate(sstr, (newdf.dockQ[i], newdf.JHparams[i]))\n",
    "    numhit=len(newdf.loc[newdf.JHparams==newdf.JHparams[i]])\n",
    "    #print (numhit,newdf.JHparams[i])\n",
    "    if done[newdf.JHparams[i]]==0:\n",
    "        done[newdf.JHparams[i]]=1\n",
    "        ax.annotate(str(numhit),(.0, newdf.JHparams[i]))"
   ]
  },
  {
   "cell_type": "code",
   "execution_count": null,
   "metadata": {
    "collapsed": false,
    "scrolled": false
   },
   "outputs": [],
   "source": [
    "f, ax = plt.subplots(figsize=(6.5, 6.5))\n",
    "plt.scatter(newdf.dockQ,newdf.JHparams)\n",
    "#cc=np.corrcoef(newdf.dockQ,newdf.len)\n",
    "#ax.legend()\n",
    "ax.set_title(\"Good models\")\n",
    "ax.set_xlabel(\"dockQ\")\n",
    "ax.set_ylabel(\"dockQ\")\n",
    "ax.set(xlim=[0,1])\n",
    "done={}\n",
    "for d in datasets:\n",
    "    done[d]=0\n",
    "for i, txt in enumerate(newdf.name):\n",
    "    #print (i,txt)\n",
    "    sstr=txt[0:4]\n",
    "    #ax.annotate(sstr, (newdf.dockQ[i], newdf.JHparams[i]))\n",
    "    numhit=len(newdf.loc[newdf.JHparams==newdf.JHparams[i]])\n",
    "    #print (numhit,newdf.JHparams[i])\n",
    "    if done[newdf.JHparams[i]]==0:\n",
    "        done[newdf.JHparams[i]]=1\n",
    "        ax.annotate(str(numhit),(.0, newdf.JHparams[i]))"
   ]
  },
  {
   "cell_type": "code",
   "execution_count": null,
   "metadata": {
    "collapsed": false
   },
   "outputs": [],
   "source": [
    "f, ax = plt.subplots(figsize=(6.5, 6.5))\n",
    "plt.scatter(newdf.dockQ,newdf.JHparams)\n",
    "#cc=np.corrcoef(newdf.dockQ,newdf.len)\n",
    "#ax.legend()\n",
    "ax.set_title(\"Good models\")\n",
    "ax.set_xlabel(\"dockQ\")\n",
    "ax.set_ylabel(\"dockQ\")\n",
    "ax.set(xlim=[0,1])\n",
    "done={}\n",
    "for d in datasets:\n",
    "    done[d]=0\n",
    "for i, txt in enumerate(newdf.name):\n",
    "    #print (i,txt)\n",
    "    sstr=txt[0:4]\n",
    "    #ax.annotate(sstr, (newdf.dockQ[i], newdf.JHparams[i]))\n",
    "    numhit=len(newdf.loc[newdf.JHparams==newdf.JHparams[i]])\n",
    "    #print (numhit,newdf.JHparams[i])\n",
    "    if done[newdf.JHparams[i]]==0:\n",
    "        done[newdf.JHparams[i]]=1\n",
    "        ax.annotate(str(numhit),(.0, newdf.JHparams[i]))"
   ]
  },
  {
   "cell_type": "code",
   "execution_count": null,
   "metadata": {
    "collapsed": false
   },
   "outputs": [],
   "source": [
    "datasets"
   ]
  },
  {
   "cell_type": "code",
   "execution_count": null,
   "metadata": {
    "collapsed": false
   },
   "outputs": [],
   "source": [
    "# here we find what method is best for each target\n",
    "\n",
    "r = re.compile(\"^PDB.*|^TMd.*|^gramm|trRosetta|^pdb.*\")\n",
    "excludecolumns = list(filter(r.match, datasets)) # Read Note\n",
    "print(excludecolumns)\n",
    "excludecolumns+=[\"confold\",\"rbh-merged-pdb\"]\n",
    "tempdf=newdf.loc[~newdf.JHparams.isin(excludecolumns)]\n",
    "\n",
    "#best_df=newdf.sort_values(\"dockQ\", ascending=False)\n",
    "best_df=tempdf.sort_values('dockQ', ascending=False).drop_duplicates(['code']).reset_index()\n",
    "best_df.sort_values(\"JHparams\")"
   ]
  },
  {
   "cell_type": "code",
   "execution_count": null,
   "metadata": {
    "collapsed": false
   },
   "outputs": [],
   "source": [
    "# FInd best method for each model.\n",
    "codes=best_df[\"code\"].unique()\n",
    "f, ax = plt.subplots(figsize=(6.5, 6.5))\n",
    "good_df=newdf.loc[(newdf.code.isin(codes))&(~newdf.JHparams.isin(excludecolumns))].reset_index()\n",
    "plt.scatter(good_df.dockQ,good_df.JHparams,color=\"grey\")\n",
    "plt.scatter(best_df.dockQ,best_df.JHparams,color=\"red\")\n",
    "\n",
    "#cc=np.corrcoef(newdf.dockQ,newdf.len)\n",
    "#ax.legend()\n",
    "ax.set_title(\"Best models\")\n",
    "ax.set_xlabel(\"Method\")\n",
    "ax.set_ylabel(\"dockQ\")\n",
    "ax.set(xlim=[0,1])\n",
    "done={}\n",
    "average={}\n",
    "length={}\n",
    "for d in datasets:\n",
    "    done[d]=0\n",
    "    average[d]=df_max.loc[df_max.CODE.isin(codes)&(df_max.params==d)][\"dockQ\"].mean()\n",
    "    length[d]=len(df_max.loc[df_max.CODE.isin(codes)&(df_max.params==d)][\"dockQ\"])\n",
    "for i, txt in enumerate(best_df.name):\n",
    "    #print (i,txt)\n",
    "    sstr=txt[0:4]\n",
    "    #ax.annotate(sstr, (newdf.dockQ[i], newdf.JHparams[i]))\n",
    "    numhit=len(best_df.loc[best_df.JHparams==best_df.JHparams[i]])\n",
    "    #print (numhit,newdf.JHparams[i])\n",
    "    if done[best_df.JHparams[i]]==0:\n",
    "        done[best_df.JHparams[i]]=1\n",
    "        ax.annotate(str(numhit),(.0, best_df.JHparams[i]))\n",
    "        ax.annotate(str(round(average[best_df.JHparams[i]],3)),(1.0, best_df.JHparams[i]))\n",
    "        ax.annotate(str(length[best_df.JHparams[i]]),(.9, best_df.JHparams[i]))\n",
    "for d in datasets:\n",
    "    done[d]=0\n",
    "for i, txt in enumerate(good_df.name):\n",
    "    #print (i,txt)\n",
    "    sstr=txt[0:4]\n",
    "    #ax.annotate(sstr, (newdf.dockQ[i], newdf.JHparams[i]))\n",
    "    numhit=len(good_df.loc[good_df.JHparams==good_df.JHparams[i]])\n",
    "    #print (numhit,newdf.JHparams[i])\n",
    "    if done[good_df.JHparams[i]]==0:\n",
    "        done[good_df.JHparams[i]]=1\n",
    "        ax.annotate(str(numhit),(.1, good_df.JHparams[i]))\n",
    "        ax.annotate(str(round(average[good_df.JHparams[i]],3)),(1.0, good_df.JHparams[i]))\n",
    "        ax.annotate(str(length[good_df.JHparams[i]]),(.9, good_df.JHparams[i]))\n"
   ]
  },
  {
   "cell_type": "code",
   "execution_count": null,
   "metadata": {
    "collapsed": false
   },
   "outputs": [],
   "source": [
    "df.sort_values('dockQ', ascending=False).drop_duplicates([\"code\"])"
   ]
  },
  {
   "cell_type": "code",
   "execution_count": null,
   "metadata": {
    "collapsed": false
   },
   "outputs": [],
   "source": [
    "df.loc[(df.dockQ>cutoff) & (~df.JHparams.isin(excludecolumns))].groupby(\"name\").max()\n"
   ]
  },
  {
   "cell_type": "code",
   "execution_count": null,
   "metadata": {
    "collapsed": false
   },
   "outputs": [],
   "source": [
    "r = re.compile(\"^PDB.*|^TMd.*|^gramm|trRosetta|^pdb.*\")\n",
    "excludecolumns = list(filter(r.match, datasets)) # Read Note\n",
    "print (excludecolumns)\n",
    "includeTR=[\"pdbcontacts\",\"PDBDOCK\",\"TMdock-double\"]\n",
    "cutoff=0.2\n",
    "f, ax = plt.subplots(figsize=(6.5, 6.5))\n",
    "#cc=np.corrcoef(newdf.dockQ,newdf.len)\n",
    "#ax.legend()\n",
    "ax.set_title(\"Best methods\")\n",
    "\n",
    "new_df=df.loc[(df.dockQ>cutoff) & (~df.JHparams.isin(excludecolumns))].sort_values('dockQ', ascending=False).drop_duplicates([\"code\"]).reset_index()\n",
    "codes=new_df.CODE.unique()\n",
    "#print(new_df)\n",
    "#newdf.sort_values([\"JHparams\",\"dockQ\",\"code\"],inplace=True)\n",
    "\n",
    "tempdf=df_max.loc[(df_max.CODE.isin(codes)) & (~df_max.params.isin(includeTR))].reset_index()\n",
    "plt.scatter(tempdf.dockQ,tempdf.params,color=\"grey\")\n",
    "#print(tempdf[tempdf.params==\"N1-top1000\"])\n",
    "plt.scatter(new_df.dockQ,new_df.params,color=\"red\")\n",
    "#print(new_df[new_df.params==\"N1-top1000\"])\n",
    "\n",
    "#cc=np.corrcoef(newdf.dockQ,newdf.len)\n",
    "#ax.legend()\n",
    "ax.set_title(\"Average scores for good models\")\n",
    "ax.set_xlabel(\"dockQ\")\n",
    "ax.set_ylabel(\"Method\")\n",
    "ax.set(xlim=[0,1])\n",
    "done={}\n",
    "average={}\n",
    "length={}\n",
    "ax.set(xlim=[0,1.5])\n",
    "for d in datasets: #~df.JHparams.isin(excludecolumns).unique():\n",
    "    done[d]=0\n",
    "    average[d]=df_max.loc[(df_max.CODE.isin(codes)) & (df_max.params==d)][\"dockQ\"].mean()\n",
    "    length[d]=len(df_max.loc[(df_max.CODE.isin(codes)) & (df_max.params==d)][\"dockQ\"])\n",
    "for i, txt in enumerate(tempdf.name):\n",
    "    #print (i,txt, newdf.JHparams[i])\n",
    "    sstr=txt[0:4]\n",
    "    #ax.annotate(sstr, (newdf.dockQ[i], newdf.JHparams[i]))\n",
    "    numhit=len(tempdf.loc[(tempdf.params==tempdf.params[i])&(tempdf.dockQ>cutoff)])\n",
    "    \n",
    "    #print (numhit,newdf.JHparams[i])\n",
    "    if done[tempdf.params[i]]==0:\n",
    "        done[tempdf.params[i]]=1\n",
    "        ax.annotate(str(numhit),(1.1, tempdf.params[i]))\n",
    "        #ax.annotate(\"0\",(.1, tempdf.JHparams[i]))  \n",
    "        ax.annotate(str(round(average[tempdf.params[i]],3)),(.9, tempdf.params[i]))          \n",
    "        ax.annotate(str(round(length[tempdf.params[i]],3)),(.75, tempdf.params[i]))  \n",
    "for d in datasets: #~df.JHparams.isin(excludecolumns).unique():\n",
    "    done[d]=0\n",
    "for i, txt in enumerate(new_df.name):\n",
    "    #print (i,txt,newdf.dockQ[i], newdf.JHparams[i])\n",
    "    sstr=txt[0:4]\n",
    "    ax.annotate(sstr, (new_df.dockQ[i], new_df.params[i]))\n",
    "    numhit=len(new_df.loc[new_df.params==new_df.params[i]])\n",
    "    #numhit2=len(tempdf.loc[tempdf.JHparams==tempdf.params[i]])\n",
    "    #print (numhit,newdf.JHparams[i])\n",
    "    if done[new_df.params[i]]==0:\n",
    "        done[new_df.params[i]]=1\n",
    "        ax.annotate(str(numhit),(1.3, new_df.params[i]))  \n",
    "        #ax.annotate(str(numhit2),(-0.1, new_df.JHparams[i]))\n"
   ]
  },
  {
   "cell_type": "code",
   "execution_count": null,
   "metadata": {
    "collapsed": false
   },
   "outputs": [],
   "source": [
    "cutoff=0.1"
   ]
  },
  {
   "cell_type": "code",
   "execution_count": null,
   "metadata": {
    "collapsed": false
   },
   "outputs": [],
   "source": []
  },
  {
   "cell_type": "code",
   "execution_count": null,
   "metadata": {
    "collapsed": false
   },
   "outputs": [],
   "source": [
    "JHsets=['-N 3 --cpu 8', \n",
    "       '-N 1 -E 1.e-100 --cpu 8', '-N 1 -E 1.e-2 ', 'N1-merged-pdb',\n",
    "       'N1-merged', '-N 1 -E 1.e-10 --cpu 8 ', 'N1-top1000-merged',\n",
    "       'N1-top1000', 'N1-top100', 'N1-top2000', 'N1-top500',  '-N 5 --cpu 8']"
   ]
  },
  {
   "cell_type": "markdown",
   "metadata": {
    "collapsed": false
   },
   "source": [
    "cutoff=0.1"
   ]
  },
  {
   "cell_type": "code",
   "execution_count": null,
   "metadata": {
    "collapsed": false
   },
   "outputs": [],
   "source": [
    "goodmodels=df_max.loc[(df_max.dockQ>cutoff)&(df_max.params.isin(JHsets)) ][\"CODE\"].unique()"
   ]
  },
  {
   "cell_type": "code",
   "execution_count": null,
   "metadata": {
    "collapsed": false,
    "scrolled": false
   },
   "outputs": [],
   "source": [
    "tempdf=df_max.loc[df_max.params.isin(JHsets)] \n",
    "\n",
    "\n",
    "tempdf=tempdf.loc[tempdf.CODE.isin(goodmodels)]\n",
    "cf={\"dockQ\":0.2,\"mm\":0.6,\"numcorrect\":50}\n",
    "for y in [\"numcorrect\",\"msa\",\"tmAB\",\"msa\",\"long\",\"med\"]:\n",
    "    for x in [\"dockQ\",\"mm\",\"numcorrect\"]:\n",
    "        cutoff=cf[x]\n",
    "        #print (Name)\n",
    "         #if (Name != \"lenA\"):\n",
    "        #    continue\n",
    "        f, ax = plt.subplots(figsize=(6.5, 6.5))\n",
    "        for d in JHsets:\n",
    "            xdata=tempdf.loc[tempdf.params==d][x]\n",
    "            ydata=tempdf.loc[tempdf.params==d][y]\n",
    "            plt.scatter(xdata,ydata,label=d)\n",
    "            cc=np.corrcoef(xdata,ydata)\n",
    "            for i, txt in enumerate(tempdf.loc[tempdf.params==d].name):\n",
    "                sstr=txt[0:4]\n",
    "                if (xdata[i]>cutoff):\n",
    "                    ax.annotate(sstr, (xdata[i], ydata[i]))\n",
    "        ax.set_title(x + \" - \" + y )\n",
    "        ax.set_xlabel(x)\n",
    "        ax.set_ylabel(y)\n",
    "        ax.legend()\n",
    "    plt.close()"
   ]
  },
  {
   "cell_type": "code",
   "execution_count": null,
   "metadata": {
    "collapsed": false
   },
   "outputs": [],
   "source": [
    "datasets"
   ]
  },
  {
   "cell_type": "code",
   "execution_count": null,
   "metadata": {
    "collapsed": false
   },
   "outputs": [],
   "source": [
    "goodmodels"
   ]
  },
  {
   "cell_type": "code",
   "execution_count": null,
   "metadata": {
    "collapsed": false
   },
   "outputs": [],
   "source": [
    "tempdf=df_max.loc[df_max.CODE.isin(codes)&(df_max.params.isin(pdbset))]\n",
    "tempdf"
   ]
  },
  {
   "cell_type": "code",
   "execution_count": null,
   "metadata": {
    "collapsed": false
   },
   "outputs": [],
   "source": [
    "df_max.loc[df_max.params==\"N3-multimerged\"][\"dockQ\"]"
   ]
  },
  {
   "cell_type": "code",
   "execution_count": null,
   "metadata": {
    "collapsed": false,
    "scrolled": true
   },
   "outputs": [],
   "source": [
    "pdbset=['-N 3 --cpu 8', \"-N 1 -E 1.e-2 \" ,\"N1-N3-new\"]\n",
    "cutoff=0.2\n",
    "codes=goodmodels\n",
    "# FInd best method for each model.\n",
    "#codes=df_max.loc[df_max.params.isin(pdbset)][\"CODE\"].unique()\n",
    "f, ax = plt.subplots(figsize=(6.5, 6.5))\n",
    "#tempdf=newdf.loc[newdf.JHparams.isin(pdbset)]\n",
    "tempdf=df_max.loc[df_max.CODE.isin(codes)&(df_max.params.isin(pdbset))]\n",
    "#best_df=newdf.sort_values(\"dockQ\", ascending=False)\n",
    "best_df=tempdf.sort_values('dockQ', ascending=False).drop_duplicates(['CODE']).reset_index()\n",
    "best_df.sort_values(\"params\")\n",
    "\n",
    "#good_df=newdf.loc[(newdf.code.isin(codes))&(newdf.JHparams.isin(pdbset))].reset_index()\n",
    "good_df=df_max.loc[df_max.CODE.isin(codes)&(df_max.params.isin(pdbset))&(df_max.dockQ>cutoff )].reset_index()\n",
    "\n",
    "plt.scatter(good_df.dockQ,good_df.params,color=\"grey\")\n",
    "plt.scatter(best_df.dockQ,best_df.params,color=\"red\")\n",
    "\n",
    "#cc=np.corrcoef(newdf.dockQ,newdf.len)\n",
    "#ax.legend()\n",
    "ax.set_title(\"Best models\")\n",
    "ax.set_ylabel(\"Method\")\n",
    "ax.set_xlabel(\"dockQ\")\n",
    "ax.set(xlim=[0,1])\n",
    "done={}\n",
    "average={}\n",
    "length={}\n",
    "pos=[]\n",
    "i=0\n",
    "data=[]\n",
    "for d in sorted(pdbset):\n",
    "    done[d]=0\n",
    "    average[d]=df_max.loc[df_max.CODE.isin(codes)&(df_max.params==d)][\"dockQ\"].mean()\n",
    "    length[d]=len(df_max.loc[df_max.CODE.isin(codes)&(df_max.params==d)][\"dockQ\"])\n",
    "    pos+=[i]\n",
    "    data+=[df_max.loc[df_max.CODE.isin(codes)&(df_max.params==d)][\"dockQ\"]]\n",
    "    i+=1\n",
    "    print (d)\n",
    "    \n",
    "    \n",
    "ax.violinplot(data,pos, points=80, vert=False, widths=0.7,\n",
    "                      showmeans=True, showextrema=True, showmedians=False)    \n",
    "for i, txt in enumerate(best_df.name):\n",
    "    #print (i,txt)\n",
    "    sstr=txt[0:4]\n",
    "    #ax.annotate(sstr, (newdf.dockQ[i], newdf.JHparams[i]))\n",
    "    numhit=len(best_df.loc[best_df.params==best_df.params[i]])\n",
    "    #print (numhit,newdf.params[i])\n",
    "    if done[best_df.params[i]]==0:\n",
    "        done[best_df.params[i]]=1\n",
    "        ax.annotate(str(numhit),(.0, best_df.params[i]))\n",
    "        ax.annotate(str(round(average[best_df.params[i]],3))+\"(\"+str(length[good_df.params[i]])+\")\"\n",
    "                    ,(1.0, best_df.params[i]))\n",
    "for d in pdbset:\n",
    "    done[d]=0\n",
    "for i, txt in enumerate(good_df.name):\n",
    "    #print (i,txt)\n",
    "    sstr=txt[0:4]\n",
    "    #ax.annotate(sstr, (newdf.dockQ[i], newdf.params[i]))\n",
    "    numhit=len(good_df.loc[good_df.JHparams==good_df.params[i]])\n",
    "    #print (numhit,newdf.params[i])\n",
    "    if done[good_df.params[i]]==0:\n",
    "        done[good_df.params[i]]=1\n",
    "        ax.annotate(str(numhit),(.1, good_df.params[i]))\n",
    "        #ax.annotate(str(round(average[good_df.JHparams[i]],3)),(1.0, good_df.JHparams[i]))\n",
    "        #ax.annotate(\"(\"+str(length[good_df.JHparams[i]])+\")\",(1.2, good_df.JHparams[i]))\n",
    "plt.savefig(\"N1-N3-violin.png\")\n"
   ]
  },
  {
   "cell_type": "code",
   "execution_count": null,
   "metadata": {
    "collapsed": false
   },
   "outputs": [],
   "source": [
    "#data_dirst\n"
   ]
  },
  {
   "cell_type": "code",
   "execution_count": null,
   "metadata": {
    "collapsed": false
   },
   "outputs": [],
   "source": [
    "cutoff=0.2\n",
    "f, ax = plt.subplots(figsize=(6.5, 6.5))\n",
    "baseset=\"N1-N3-new\"\n",
    "for d in pdbset:\n",
    "  \n",
    "    if d==baseset:continue   \n",
    "    #print (d)\n",
    "    df_merged = pd.merge(data_first[baseset],data_first[d], on=['CODE'],how=\"inner\")\n",
    "    #print (df_merged)\n",
    "    #newdf=df_merged[\"dockQ_x\",\"dockQ_y\"]  #.loc[(df_merged.dockQ_x>cutoff or df_merged.dockQ_y>cutoff) ]\n",
    "    plt.scatter(df_merged.dockQ_x,df_merged.dockQ_y,label=d)\n",
    "    for i, txt in enumerate(df_merged.name_x):\n",
    "        #print (i,txt)\n",
    "        try: \n",
    "            sstr=txt[0:4]\n",
    "        except:\n",
    "            sstr=df_merged.name_y[i][0:4]\n",
    "        if (df_merged.dockQ_x[i]> cutoff or df_merged.dockQ_y[i]>cutoff):\n",
    "            ax.annotate(sstr, (df_merged.dockQ_x[i], df_merged.dockQ_y[i]))\n",
    "x=[0,0.5]\n",
    "y=[0,0.5]\n",
    "plt.plot(x,y)\n",
    "ax.legend()\n",
    "ax.set_title(\"DockQ scores (first ranked)  \")\n",
    "ax.set_xlabel(\"dockQ \"+baseset)\n",
    "ax.set_ylabel(\"dockQ\")\n",
    "plt.savefig(\"N1-N3-scatter.png\")\n",
    "#cat.add_categories([1])\n",
    "#df_merged.fillna(0, inplace =True)"
   ]
  },
  {
   "cell_type": "code",
   "execution_count": null,
   "metadata": {
    "collapsed": false
   },
   "outputs": [],
   "source": [
    "cutoff=0.2\n",
    "f, ax = plt.subplots(figsize=(6.5, 6.5))\n",
    "for d in JHsets:\n",
    "  \n",
    "    #if d!=\"N1-merged\":continue   \n",
    "    #print (d)\n",
    "    df_merged = pd.merge(data_first[datasets[0]],data_first[d], on=['code'],how=\"inner\")\n",
    "    #print (df_merged)\n",
    "    #newdf=df_merged[\"dockQ_x\",\"dockQ_y\"]  #.loc[(df_merged.dockQ_x>cutoff or df_merged.dockQ_y>cutoff) ]\n",
    "    #plt.scatter(df_merged.dockQ_x,df_merged.dockQ_y,label=d)\n",
    "    for i, txt in enumerate(df_merged.name_x):\n",
    "        #print (i,txt)\n",
    "        try: \n",
    "            sstr=txt[0:4]\n",
    "        except:\n",
    "            sstr=df_merged.name_y[i][0:4]\n",
    "        if (df_merged.dockQ_x[i]> cutoff or df_merged.dockQ_y[i]>cutoff):\n",
    "            ax.annotate(sstr, (df_merged.dockQ_x[i], df_merged.dockQ_y[i]))\n",
    "#x=[0,0.3]\n",
    "#y=[0,0.3]\n",
    "#plt.plot(x,y)\n",
    "ax.legend()\n",
    "ax.set_title(\"DockQ scores (first ranked)  \")\n",
    "ax.set_xlabel(\"dockQ N1-N3 \")\n",
    "ax.set_ylabel(\"dockQ\")\n",
    "\n",
    "#cat.add_categories([1])\n",
    "#df_merged.fillna(0, inplace =True)"
   ]
  },
  {
   "cell_type": "code",
   "execution_count": null,
   "metadata": {
    "collapsed": false
   },
   "outputs": [],
   "source": [
    "goodmodels"
   ]
  },
  {
   "cell_type": "code",
   "execution_count": null,
   "metadata": {
    "collapsed": false
   },
   "outputs": [],
   "source": [
    "JHsets"
   ]
  },
  {
   "cell_type": "code",
   "execution_count": null,
   "metadata": {
    "collapsed": false
   },
   "outputs": [],
   "source": [
    "JHsets1=['-N 3 --cpu 8',\n",
    " '-N 1 -E 1.e-100 --cpu 8',\n",
    " '-N 1 -E 1.e-2 ',\n",
    " 'N1-merged-pdb',\n",
    " 'N1-merged',\n",
    " '-N 1 -E 1.e-10 --cpu 8 ']"
   ]
  },
  {
   "cell_type": "code",
   "execution_count": null,
   "metadata": {
    "collapsed": false
   },
   "outputs": [],
   "source": [
    "JHsets2=[\n",
    " 'N1-top1000-merged',\n",
    " 'N1-top1000',\n",
    " 'N1-top100',\n",
    " 'N1-top2000',\n",
    " 'N1-top500',\n",
    " '-N 5 --cpu 8']"
   ]
  },
  {
   "cell_type": "code",
   "execution_count": null,
   "metadata": {
    "collapsed": false
   },
   "outputs": [],
   "source": [
    "JHsets=['-N 3 --cpu 8',\n",
    " '-N 1 -E 1.e-2 --cpu 8',\n",
    " '-N 1 -E 1.e-10 --cpu 8 ',\n",
    " '-N 5 --cpu 8']\n",
    "good_df=df_first.loc[(df_first.code.isin(goodmodels))&(df_first.JHparams.isin(JHsets))].reset_index()\n"
   ]
  },
  {
   "cell_type": "code",
   "execution_count": null,
   "metadata": {
    "collapsed": false
   },
   "outputs": [],
   "source": [
    "train_df=df_first.loc[(df_first.code.isin(goodmodels))&(df_first.JHparams.isin(JHsets1))].reset_index()\n",
    "test_df=df_first.loc[(df_first.code.isin(goodmodels))&(df_first.JHparams.isin(JHsets2))].reset_index()"
   ]
  },
  {
   "cell_type": "code",
   "execution_count": null,
   "metadata": {
    "collapsed": false
   },
   "outputs": [],
   "source": [
    "good_df=df_first.loc[(df_first.code.isin(goodmodels)&(df_first.JHparams.isin(JHsets)))].reset_index()"
   ]
  },
  {
   "cell_type": "code",
   "execution_count": null,
   "metadata": {
    "collapsed": false
   },
   "outputs": [],
   "source": [
    "good_df=df_first.loc[(df_first.JHparams.isin(JHsets))].reset_index()"
   ]
  },
  {
   "cell_type": "code",
   "execution_count": null,
   "metadata": {
    "collapsed": false
   },
   "outputs": [],
   "source": [
    "good_df"
   ]
  },
  {
   "cell_type": "code",
   "execution_count": null,
   "metadata": {
    "collapsed": false
   },
   "outputs": [],
   "source": [
    "cutoff"
   ]
  },
  {
   "cell_type": "code",
   "execution_count": null,
   "metadata": {
    "collapsed": false,
    "scrolled": true
   },
   "outputs": [],
   "source": [
    "ydata=good_df.dockQ\n",
    "cols=[\"lenA\",\"lenB\",\"msa\",\"long\",\"med\",\"longA\",\"medA\",\"longB\",\"medB\",\"tmA\",\"tmB\"]\n",
    "\n",
    "#xdata=good_df[[\"lenA\",\"lenB\",\"long\",\"med\"]]\n",
    "#cols=[\"longA\",\"longB\",\"medA\",\"medB\",\"tmA\",\"tmB\"]\n",
    "cols=[\"med\",\"long\",\"msa\"]\n",
    "#cols=[\"msa\"]\n",
    "xdata=good_df[cols]\n",
    "\n",
    "\n",
    "reg.fit(xdata,ydata)\n",
    "ypred = reg.predict(xdata)\n",
    "f, ax = plt.subplots(figsize=(6.5, 6.5))\n",
    "plt.scatter(ydata,ypred)\n",
    "cc=np.corrcoef(ydata,ypred)\n",
    "ax.set_xlabel(\"dockQ\")\n",
    "ax.set_ylabel(\"predicted dockQ\")\n",
    "(i,j,dockq,mm)=get_ranks(good_df,ypred)\n",
    "#print(i,j,k/i)\n",
    "ax.set_title(\"CC\" + \" \" + str(round(cc[0,1],3))\n",
    "            + \" Good: \" + str(round(j/i,3)) + \" Loss: \" + str(round(dockq/i,3))\n",
    "             + \" , \" + str(round(mm/i,3))\n",
    "             + \" Test: \" + str(i)\n",
    "            )\n"
   ]
  },
  {
   "cell_type": "code",
   "execution_count": null,
   "metadata": {
    "collapsed": false
   },
   "outputs": [],
   "source": [
    "print('Intercept: \\n', reg.intercept_)\n",
    "print('Coefficients: \\n', reg.coef_)"
   ]
  },
  {
   "cell_type": "code",
   "execution_count": null,
   "metadata": {
    "collapsed": false
   },
   "outputs": [],
   "source": [
    "\n",
    "for s in JHsets:\n",
    "    set_df=good_df.loc[good_df.params==s]\n",
    "    ypred=set_df[\"dockQ\"].to_list()\n",
    "    (i,j,dockq,mm)=get_ranks(set_df,ypred)\n",
    "    print (s,i,j,dockq,mm)"
   ]
  },
  {
   "cell_type": "code",
   "execution_count": null,
   "metadata": {
    "collapsed": false,
    "scrolled": true
   },
   "outputs": [],
   "source": [
    "xdata=good_df[cols]\n",
    "ydata=good_df.dockQ\n",
    "\n",
    "ypred = reg.predict(xdata)\n",
    "f, ax = plt.subplots(figsize=(6.5, 6.5))\n",
    "plt.scatter(ydata,ypred)\n",
    "cc=np.corrcoef(ydata,ypred)\n",
    "ax.set_title(\"CC\" + \" \" + str(cc[0,1]))\n",
    "ax.set_xlabel(\"dockQ\")\n",
    "ax.set_ylabel(\"predicted dockQ\")\n"
   ]
  },
  {
   "cell_type": "code",
   "execution_count": null,
   "metadata": {
    "collapsed": false,
    "scrolled": true
   },
   "outputs": [],
   "source": [
    "good_df=df_first.loc[(df_first.code.isin(goodmodels))&(df_first.JHparams.isin(JHsets))].reset_index()\n",
    "good_df"
   ]
  },
  {
   "cell_type": "code",
   "execution_count": null,
   "metadata": {
    "collapsed": false
   },
   "outputs": [],
   "source": [
    "# Now we try all combinations - no plots\n",
    "set1_df=df_first.loc[(df_first.code.isin(goodmodels))&(df_first.JHparams.isin(JHsets1))].reset_index()\n",
    "set2_df=df_first.loc[(df_first.code.isin(goodmodels))&(df_first.JHparams.isin(JHsets2))].reset_index()\n",
    "good_df=df_first.loc[(df_first.code.isin(goodmodels))&(df_first.JHparams.isin(JHsets))].reset_index()\n",
    "\n",
    "cols=[\"lenA\",\"lenB\",\"msa\",\"long\",\"med\",\"longA\",\"medA\",\"longB\",\"medB\",\"tmA\",\"tmB\"]\n",
    "ydata=good_df.dockQ\n",
    "\n",
    "res={}\n",
    "maxvalue=0\n",
    "for c in cols:\n",
    "    xdata=good_df[[c]]\n",
    "    reg.fit(xdata,ydata)\n",
    "    ypred = reg.predict(xdata)\n",
    "    print (c,round(np.corrcoef(ydata,ypred)[0,1],3))\n",
    "    res[c]=np.corrcoef(ydata,ypred)[0,1]\n",
    "    maxvalue=max(res[c],maxvalue)    \n",
    "for c in cols:\n",
    "    for d in cols:\n",
    "        xdata=good_df[[c,d]]\n",
    "        reg.fit(xdata,ydata)\n",
    "        ypred = reg.predict(xdata)\n",
    "        #print (c,d,round(np.corrcoef(ydata,ypred)[0,1],3))\n",
    "        res[c+d]=np.corrcoef(ydata,ypred)[0,1]\n",
    "        #if (res[c+d]-maxvalue>0.0):\n",
    "        #    print (c,d,round(np.corrcoef(ydata,ypred)[0,1],3))\n",
    "        (i,j,k,l)=get_ranks(good_df,ypred)\n",
    "        print (c,d,i,j,k,l)"
   ]
  },
  {
   "cell_type": "code",
   "execution_count": null,
   "metadata": {
    "collapsed": false
   },
   "outputs": [],
   "source": [
    "\n",
    "print('Intercept: \\n', reg.intercept_)\n",
    "print('Coefficients: \\n', reg.coef_)\n"
   ]
  },
  {
   "cell_type": "code",
   "execution_count": null,
   "metadata": {
    "collapsed": false
   },
   "outputs": [],
   "source": []
  },
  {
   "cell_type": "code",
   "execution_count": null,
   "metadata": {
    "collapsed": false
   },
   "outputs": [],
   "source": [
    "ypred = reg.predict(xdata)\n",
    "f, ax = plt.subplots(figsize=(6.5, 6.5))\n",
    "plt.scatter(ydata,ypred)\n",
    "#cc=np.corrcoef(ydata,ypred)\n",
    "ax.set_title(\"CC\" + \" \" + str(cc[0,1]))\n",
    "ax.set_xlabel(\"dockQ\")\n",
    "ax.set_ylabel(\"predicted dockQ\")\n"
   ]
  },
  {
   "cell_type": "code",
   "execution_count": null,
   "metadata": {
    "collapsed": false
   },
   "outputs": [],
   "source": []
  },
  {
   "cell_type": "code",
   "execution_count": null,
   "metadata": {
    "collapsed": false
   },
   "outputs": [],
   "source": []
  },
  {
   "cell_type": "code",
   "execution_count": null,
   "metadata": {
    "collapsed": false
   },
   "outputs": [],
   "source": []
  },
  {
   "cell_type": "code",
   "execution_count": null,
   "metadata": {
    "collapsed": false
   },
   "outputs": [],
   "source": [
    "newdf=df.loc[df.JHparams==\"trRosetta\"]\n",
    "plt.scatter(newdf.csv,newdf.)"
   ]
  },
  {
   "cell_type": "code",
   "execution_count": null,
   "metadata": {
    "collapsed": false
   },
   "outputs": [],
   "source": [
    "newdf[[\"CODE\",\"dockQ\",\"csv\",\"tmAB\",\"long\"]].sort_values(\"csv\")"
   ]
  },
  {
   "cell_type": "code",
   "execution_count": null,
   "metadata": {
    "collapsed": false
   },
   "outputs": [],
   "source": [
    "JHsets=['-N 3 --cpu 8', \n",
    "       '-N 1 -E 1.e-100 --cpu 8', '-N 1 -E 1.e-2 ', 'N1-merged-pdb',\n",
    "       'N1-merged', '-N 1 -E 1.e-10 --cpu 8 ', 'N1-top1000-merged',\n",
    "       'N1-top1000', 'N1-top100', 'N1-top2000', 'N1-top500',  '-N 5 --cpu 8']\n"
   ]
  },
  {
   "cell_type": "code",
   "execution_count": null,
   "metadata": {
    "collapsed": false
   },
   "outputs": [],
   "source": [
    "newdf=df.loc[(df.CODE==\"4etw\")&(df.JHparams.isin(JHsets))].reset_index()\n",
    "fig, ax1 = plt.subplots()\n",
    "ax1.set_xlabel('dockQ')\n",
    "ax1.scatter(newdf.dockQ,newdf.JHparams)\n",
    "ax2 = ax1.twiny()  # instantiate a second axes that shares the same x-axis\n",
    "ax2.scatter(newdf.long,newdf.JHparams,color=\"red\")\n",
    "ax2.tick_params(axis='x', labelcolor=\"red\")\n",
    "ax2.set_xlabel('cdhit')"
   ]
  },
  {
   "cell_type": "code",
   "execution_count": null,
   "metadata": {
    "collapsed": false
   },
   "outputs": [],
   "source": [
    "newdf=df.loc[(df.CODE==\"4gmj\")&(df.JHparams.isin(JHsets))].reset_index()\n",
    "fig, ax1 = plt.subplots()\n",
    "ax1.set_xlabel('dockQ')\n",
    "ax1.scatter(newdf.dockQ,newdf.JHparams)\n",
    "ax2 = ax1.twiny()  # instantiate a second axes that shares the same x-axis\n",
    "ax2.scatter(newdf.long,newdf.JHparams,color=\"red\")\n",
    "ax2.tick_params(axis='x', labelcolor=\"red\")\n",
    "ax2.set_xlabel('cdhit')\n",
    "\n",
    "# bes models to test 2zae 4gmj\n",
    "# Bad model 4etw"
   ]
  },
  {
   "cell_type": "code",
   "execution_count": null,
   "metadata": {
    "collapsed": false
   },
   "outputs": [],
   "source": [
    "df_max.loc[(df_max.params==\"trRosetta\") & (df_max.dockQ==0)]"
   ]
  },
  {
   "cell_type": "code",
   "execution_count": null,
   "metadata": {
    "collapsed": false
   },
   "outputs": [],
   "source": [
    "df_test= data_first[\"-N 3 --cpu 8\"]\n",
    "df_test[\"logEvalue\"]=np.log10(df_test.evalue.astype('float64')).clip(+10,-10)\n",
    "df_test[\"logHHEvalue\"]=np.log10(df_test.hhevalue.astype('float64')).clip(+10,-10)\n",
    "#plt.scatter(df_test.tmB,df_test.tmA)\n",
    "cutoff=0.5\n",
    "num=len(df_test.loc[df_test.hhprob>cutoff])\n",
    "tot=len(df_test)\n",
    "\n",
    "\n",
    "print (num,tot)\n",
    "print (df_test.hhprob)\n",
    "print (df_test.seqid)\n",
    "print (df_test.logEvalue)\n",
    "print (df_test.dockQ)\n",
    "\n",
    "sns_plot = sns.jointplot(data=df_test, x=\"hhprob\", y=\"logEvalue\",hue=\"dockQ\")\n",
    "#sns_plot.title(\"Homologous pairs: \"+str(num)+\" of \"+str(tot))\n",
    "sns_plot.savefig(\"hhpred-logEvalue.png\")\n",
    "\n",
    "\n",
    "\n"
   ]
  },
  {
   "cell_type": "code",
   "execution_count": null,
   "metadata": {
    "collapsed": false
   },
   "outputs": [],
   "source": [
    "sns_plot = sns.jointplot(data=df_test, x=\"hhprob\", y=\"seqid\") # ,hue=\"dockQ\")\n",
    "#sns_plot = sns.displot(data=df_test, x=\"hhprob\", y=\"seqid\" ,hue=\"dockQ\")\n",
    "#.set_title(\"Homologous pairs: \"+str(num)+\" of \"+str(tot))\n",
    "sns_plot.savefig(\"hhpred-seqid.png\")\n"
   ]
  },
  {
   "cell_type": "code",
   "execution_count": null,
   "metadata": {
    "collapsed": false
   },
   "outputs": [],
   "source": [
    "df_test[\"Long\"]=(df_test.long.astype('float64')).clip(0,500)\n",
    "df_test[\"LogLong\"]=np.log10(df_test.long.astype('float64')).clip(0,2.5)\n",
    "sns_plot = sns.jointplot(data=df_test, x=\"hhprob\", y=\"LogLong\" ,hue=\"dockQ\")\n",
    "sns_plot.savefig(\"hhpred-long.png\")\n"
   ]
  },
  {
   "cell_type": "code",
   "execution_count": null,
   "metadata": {
    "collapsed": false
   },
   "outputs": [],
   "source": []
  }
 ],
 "metadata": {
  "kernelspec": {
   "argv": [
    "/usr/bin/python3",
    "-m",
    "ipykernel_launcher",
    "-f",
    "{connection_file}"
   ],
   "display_name": "Python 3",
   "env": null,
   "interrupt_mode": "signal",
   "language": "python",
   "metadata": null,
   "name": "python3"
  },
  "language_info": {
   "codemirror_mode": {
    "name": "ipython",
    "version": 3
   },
   "file_extension": ".py",
   "mimetype": "text/x-python",
   "name": "python",
   "nbconvert_exporter": "python",
   "pygments_lexer": "ipython3",
   "version": "3.8.2"
  },
  "name": "csvplot-papers.ipynb"
 },
 "nbformat": 4,
 "nbformat_minor": 2
}
